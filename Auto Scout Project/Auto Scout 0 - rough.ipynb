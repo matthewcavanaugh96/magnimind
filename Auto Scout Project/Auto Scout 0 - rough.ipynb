{
 "cells": [
  {
   "cell_type": "markdown",
   "id": "67a58244-a800-4b0d-a671-8604e3fde6eb",
   "metadata": {},
   "source": [
    "# Import Libraries and EDA"
   ]
  },
  {
   "cell_type": "code",
   "execution_count": 1,
   "id": "38d226ba-e8df-416a-8695-a8d59588c754",
   "metadata": {},
   "outputs": [],
   "source": [
    "import pandas as pd"
   ]
  },
  {
   "cell_type": "code",
   "execution_count": 2,
   "id": "3a438662-1ca2-489c-8d2b-22f4d46428e3",
   "metadata": {},
   "outputs": [
    {
     "data": {
      "text/html": [
       "<div>\n",
       "<style scoped>\n",
       "    .dataframe tbody tr th:only-of-type {\n",
       "        vertical-align: middle;\n",
       "    }\n",
       "\n",
       "    .dataframe tbody tr th {\n",
       "        vertical-align: top;\n",
       "    }\n",
       "\n",
       "    .dataframe thead th {\n",
       "        text-align: right;\n",
       "    }\n",
       "</style>\n",
       "<table border=\"1\" class=\"dataframe\">\n",
       "  <thead>\n",
       "    <tr style=\"text-align: right;\">\n",
       "      <th></th>\n",
       "      <th>url</th>\n",
       "      <th>make_model</th>\n",
       "      <th>short_description</th>\n",
       "      <th>body_type</th>\n",
       "      <th>price</th>\n",
       "      <th>vat</th>\n",
       "      <th>km</th>\n",
       "      <th>registration</th>\n",
       "      <th>prev_owner</th>\n",
       "      <th>kW</th>\n",
       "      <th>...</th>\n",
       "      <th>description</th>\n",
       "      <th>Emission Label</th>\n",
       "      <th>Gears</th>\n",
       "      <th>Country version</th>\n",
       "      <th>Electricity consumption</th>\n",
       "      <th>Last Service Date</th>\n",
       "      <th>Other Fuel Types</th>\n",
       "      <th>Availability</th>\n",
       "      <th>Last Timing Belt Service Date</th>\n",
       "      <th>Available from</th>\n",
       "    </tr>\n",
       "  </thead>\n",
       "  <tbody>\n",
       "    <tr>\n",
       "      <th>0</th>\n",
       "      <td>https://www.autoscout24.com//offers/audi-a1-sp...</td>\n",
       "      <td>Audi A1</td>\n",
       "      <td>Sportback 1.4 TDI S-tronic Xenon Navi Klima</td>\n",
       "      <td>Sedans</td>\n",
       "      <td>15770</td>\n",
       "      <td>VAT deductible</td>\n",
       "      <td>56,013 km</td>\n",
       "      <td>01/2016</td>\n",
       "      <td>2 previous owners</td>\n",
       "      <td>NaN</td>\n",
       "      <td>...</td>\n",
       "      <td>[\\n, Sicherheit:,  , Deaktivierung für Beifahr...</td>\n",
       "      <td>NaN</td>\n",
       "      <td>NaN</td>\n",
       "      <td>NaN</td>\n",
       "      <td>NaN</td>\n",
       "      <td>NaN</td>\n",
       "      <td>NaN</td>\n",
       "      <td>NaN</td>\n",
       "      <td>NaN</td>\n",
       "      <td>NaN</td>\n",
       "    </tr>\n",
       "    <tr>\n",
       "      <th>1</th>\n",
       "      <td>https://www.autoscout24.com//offers/audi-a1-1-...</td>\n",
       "      <td>Audi A1</td>\n",
       "      <td>1.8 TFSI sport</td>\n",
       "      <td>Sedans</td>\n",
       "      <td>14500</td>\n",
       "      <td>Price negotiable</td>\n",
       "      <td>80,000 km</td>\n",
       "      <td>03/2017</td>\n",
       "      <td>None</td>\n",
       "      <td>NaN</td>\n",
       "      <td>...</td>\n",
       "      <td>[\\nLangstreckenfahrzeug daher die hohe Kilomet...</td>\n",
       "      <td>[\\n4 (Green)\\n]</td>\n",
       "      <td>[\\n7\\n]</td>\n",
       "      <td>NaN</td>\n",
       "      <td>NaN</td>\n",
       "      <td>NaN</td>\n",
       "      <td>NaN</td>\n",
       "      <td>NaN</td>\n",
       "      <td>NaN</td>\n",
       "      <td>NaN</td>\n",
       "    </tr>\n",
       "    <tr>\n",
       "      <th>2</th>\n",
       "      <td>https://www.autoscout24.com//offers/audi-a1-sp...</td>\n",
       "      <td>Audi A1</td>\n",
       "      <td>Sportback 1.6 TDI S tronic Einparkhilfe plus+m...</td>\n",
       "      <td>Sedans</td>\n",
       "      <td>14640</td>\n",
       "      <td>VAT deductible</td>\n",
       "      <td>83,450 km</td>\n",
       "      <td>02/2016</td>\n",
       "      <td>1 previous owner</td>\n",
       "      <td>NaN</td>\n",
       "      <td>...</td>\n",
       "      <td>[\\n, Fahrzeug-Nummer: AM-95365,  , Ehem. UPE 2...</td>\n",
       "      <td>[\\n4 (Green)\\n]</td>\n",
       "      <td>NaN</td>\n",
       "      <td>NaN</td>\n",
       "      <td>NaN</td>\n",
       "      <td>NaN</td>\n",
       "      <td>NaN</td>\n",
       "      <td>NaN</td>\n",
       "      <td>NaN</td>\n",
       "      <td>NaN</td>\n",
       "    </tr>\n",
       "    <tr>\n",
       "      <th>3</th>\n",
       "      <td>https://www.autoscout24.com//offers/audi-a1-1-...</td>\n",
       "      <td>Audi A1</td>\n",
       "      <td>1.4 TDi Design S tronic</td>\n",
       "      <td>Sedans</td>\n",
       "      <td>14500</td>\n",
       "      <td>None</td>\n",
       "      <td>73,000 km</td>\n",
       "      <td>08/2016</td>\n",
       "      <td>1 previous owner</td>\n",
       "      <td>NaN</td>\n",
       "      <td>...</td>\n",
       "      <td>[\\nAudi A1: , - 1e eigenaar , - Perfecte staat...</td>\n",
       "      <td>NaN</td>\n",
       "      <td>[\\n6\\n]</td>\n",
       "      <td>NaN</td>\n",
       "      <td>NaN</td>\n",
       "      <td>NaN</td>\n",
       "      <td>NaN</td>\n",
       "      <td>NaN</td>\n",
       "      <td>NaN</td>\n",
       "      <td>NaN</td>\n",
       "    </tr>\n",
       "    <tr>\n",
       "      <th>4</th>\n",
       "      <td>https://www.autoscout24.com//offers/audi-a1-sp...</td>\n",
       "      <td>Audi A1</td>\n",
       "      <td>Sportback 1.4 TDI S-Tronic S-Line Ext. admired...</td>\n",
       "      <td>Sedans</td>\n",
       "      <td>16790</td>\n",
       "      <td>None</td>\n",
       "      <td>16,200 km</td>\n",
       "      <td>05/2016</td>\n",
       "      <td>1 previous owner</td>\n",
       "      <td>NaN</td>\n",
       "      <td>...</td>\n",
       "      <td>[\\n, Technik &amp; Sicherheit:, Xenon plus, Klimaa...</td>\n",
       "      <td>NaN</td>\n",
       "      <td>NaN</td>\n",
       "      <td>[\\nGermany\\n]</td>\n",
       "      <td>NaN</td>\n",
       "      <td>NaN</td>\n",
       "      <td>NaN</td>\n",
       "      <td>NaN</td>\n",
       "      <td>NaN</td>\n",
       "      <td>NaN</td>\n",
       "    </tr>\n",
       "    <tr>\n",
       "      <th>...</th>\n",
       "      <td>...</td>\n",
       "      <td>...</td>\n",
       "      <td>...</td>\n",
       "      <td>...</td>\n",
       "      <td>...</td>\n",
       "      <td>...</td>\n",
       "      <td>...</td>\n",
       "      <td>...</td>\n",
       "      <td>...</td>\n",
       "      <td>...</td>\n",
       "      <td>...</td>\n",
       "      <td>...</td>\n",
       "      <td>...</td>\n",
       "      <td>...</td>\n",
       "      <td>...</td>\n",
       "      <td>...</td>\n",
       "      <td>...</td>\n",
       "      <td>...</td>\n",
       "      <td>...</td>\n",
       "      <td>...</td>\n",
       "      <td>...</td>\n",
       "    </tr>\n",
       "    <tr>\n",
       "      <th>15914</th>\n",
       "      <td>https://www.autoscout24.com//offers/renault-es...</td>\n",
       "      <td>Renault Espace</td>\n",
       "      <td>Blue dCi 200CV EDC Executive 4Control</td>\n",
       "      <td>Van</td>\n",
       "      <td>39950</td>\n",
       "      <td>VAT deductible</td>\n",
       "      <td>- km</td>\n",
       "      <td>-/-</td>\n",
       "      <td>None</td>\n",
       "      <td>NaN</td>\n",
       "      <td>...</td>\n",
       "      <td>[\\nVettura visionabile nella sede in Via Roma ...</td>\n",
       "      <td>NaN</td>\n",
       "      <td>[\\n6\\n]</td>\n",
       "      <td>NaN</td>\n",
       "      <td>NaN</td>\n",
       "      <td>NaN</td>\n",
       "      <td>NaN</td>\n",
       "      <td>NaN</td>\n",
       "      <td>NaN</td>\n",
       "      <td>NaN</td>\n",
       "    </tr>\n",
       "    <tr>\n",
       "      <th>15915</th>\n",
       "      <td>https://www.autoscout24.com//offers/renault-es...</td>\n",
       "      <td>Renault Espace</td>\n",
       "      <td>TCe 225 EDC GPF LIM Deluxe Pano,RFK</td>\n",
       "      <td>Van</td>\n",
       "      <td>39885</td>\n",
       "      <td>VAT deductible</td>\n",
       "      <td>9,900 km</td>\n",
       "      <td>01/2019</td>\n",
       "      <td>1 previous owner</td>\n",
       "      <td>NaN</td>\n",
       "      <td>...</td>\n",
       "      <td>[\\nDach: Panorama-Glas-Schiebedach, Lackierung...</td>\n",
       "      <td>NaN</td>\n",
       "      <td>[\\n7\\n]</td>\n",
       "      <td>[\\nGermany\\n]</td>\n",
       "      <td>NaN</td>\n",
       "      <td>NaN</td>\n",
       "      <td>[[], [], []]</td>\n",
       "      <td>\\nin 5 days from ordering\\n</td>\n",
       "      <td>NaN</td>\n",
       "      <td>NaN</td>\n",
       "    </tr>\n",
       "    <tr>\n",
       "      <th>15916</th>\n",
       "      <td>https://www.autoscout24.com//offers/renault-es...</td>\n",
       "      <td>Renault Espace</td>\n",
       "      <td>Blue dCi 200 EDC Initiale Paris Leder LED Navi...</td>\n",
       "      <td>Van</td>\n",
       "      <td>39875</td>\n",
       "      <td>VAT deductible</td>\n",
       "      <td>15 km</td>\n",
       "      <td>03/2019</td>\n",
       "      <td>1 previous owner</td>\n",
       "      <td>NaN</td>\n",
       "      <td>...</td>\n",
       "      <td>[\\n, Getriebe:,  Automatik, Technik:,  Bordcom...</td>\n",
       "      <td>NaN</td>\n",
       "      <td>[\\n6\\n]</td>\n",
       "      <td>[\\nAustria\\n]</td>\n",
       "      <td>NaN</td>\n",
       "      <td>NaN</td>\n",
       "      <td>NaN</td>\n",
       "      <td>\\nin 120 days from ordering\\n</td>\n",
       "      <td>NaN</td>\n",
       "      <td>NaN</td>\n",
       "    </tr>\n",
       "    <tr>\n",
       "      <th>15917</th>\n",
       "      <td>https://www.autoscout24.com//offers/renault-es...</td>\n",
       "      <td>Renault Espace</td>\n",
       "      <td>Blue dCi 200CV EDC Business , NUOVA DA IMMATRI...</td>\n",
       "      <td>Van</td>\n",
       "      <td>39700</td>\n",
       "      <td>VAT deductible</td>\n",
       "      <td>10 km</td>\n",
       "      <td>06/2019</td>\n",
       "      <td>None</td>\n",
       "      <td>NaN</td>\n",
       "      <td>...</td>\n",
       "      <td>[\\nDEK:[2691331], Renault Espace Blue dCi 200C...</td>\n",
       "      <td>NaN</td>\n",
       "      <td>[\\n6\\n]</td>\n",
       "      <td>NaN</td>\n",
       "      <td>NaN</td>\n",
       "      <td>NaN</td>\n",
       "      <td>NaN</td>\n",
       "      <td>NaN</td>\n",
       "      <td>NaN</td>\n",
       "      <td>NaN</td>\n",
       "    </tr>\n",
       "    <tr>\n",
       "      <th>15918</th>\n",
       "      <td>https://www.autoscout24.com//offers/renault-es...</td>\n",
       "      <td>Renault Espace</td>\n",
       "      <td>INITIALE PARIS TCe 225 EDC GPF NAVI SHZ AUX</td>\n",
       "      <td>Van</td>\n",
       "      <td>40999</td>\n",
       "      <td>VAT deductible</td>\n",
       "      <td>- km</td>\n",
       "      <td>01/2019</td>\n",
       "      <td>1 previous owner</td>\n",
       "      <td>NaN</td>\n",
       "      <td>...</td>\n",
       "      <td>[\\n, Sicherheit Airbags:,  , Seitenairbag,  , ...</td>\n",
       "      <td>[\\n4 (Green)\\n]</td>\n",
       "      <td>NaN</td>\n",
       "      <td>[\\nGermany\\n]</td>\n",
       "      <td>NaN</td>\n",
       "      <td>NaN</td>\n",
       "      <td>NaN</td>\n",
       "      <td>NaN</td>\n",
       "      <td>NaN</td>\n",
       "      <td>NaN</td>\n",
       "    </tr>\n",
       "  </tbody>\n",
       "</table>\n",
       "<p>15919 rows × 54 columns</p>\n",
       "</div>"
      ],
      "text/plain": [
       "                                                     url      make_model  \\\n",
       "0      https://www.autoscout24.com//offers/audi-a1-sp...         Audi A1   \n",
       "1      https://www.autoscout24.com//offers/audi-a1-1-...         Audi A1   \n",
       "2      https://www.autoscout24.com//offers/audi-a1-sp...         Audi A1   \n",
       "3      https://www.autoscout24.com//offers/audi-a1-1-...         Audi A1   \n",
       "4      https://www.autoscout24.com//offers/audi-a1-sp...         Audi A1   \n",
       "...                                                  ...             ...   \n",
       "15914  https://www.autoscout24.com//offers/renault-es...  Renault Espace   \n",
       "15915  https://www.autoscout24.com//offers/renault-es...  Renault Espace   \n",
       "15916  https://www.autoscout24.com//offers/renault-es...  Renault Espace   \n",
       "15917  https://www.autoscout24.com//offers/renault-es...  Renault Espace   \n",
       "15918  https://www.autoscout24.com//offers/renault-es...  Renault Espace   \n",
       "\n",
       "                                       short_description body_type  price  \\\n",
       "0            Sportback 1.4 TDI S-tronic Xenon Navi Klima    Sedans  15770   \n",
       "1                                         1.8 TFSI sport    Sedans  14500   \n",
       "2      Sportback 1.6 TDI S tronic Einparkhilfe plus+m...    Sedans  14640   \n",
       "3                                1.4 TDi Design S tronic    Sedans  14500   \n",
       "4      Sportback 1.4 TDI S-Tronic S-Line Ext. admired...    Sedans  16790   \n",
       "...                                                  ...       ...    ...   \n",
       "15914              Blue dCi 200CV EDC Executive 4Control       Van  39950   \n",
       "15915                TCe 225 EDC GPF LIM Deluxe Pano,RFK       Van  39885   \n",
       "15916  Blue dCi 200 EDC Initiale Paris Leder LED Navi...       Van  39875   \n",
       "15917  Blue dCi 200CV EDC Business , NUOVA DA IMMATRI...       Van  39700   \n",
       "15918        INITIALE PARIS TCe 225 EDC GPF NAVI SHZ AUX       Van  40999   \n",
       "\n",
       "                    vat         km registration         prev_owner  kW  ...  \\\n",
       "0        VAT deductible  56,013 km      01/2016  2 previous owners NaN  ...   \n",
       "1      Price negotiable  80,000 km      03/2017               None NaN  ...   \n",
       "2        VAT deductible  83,450 km      02/2016   1 previous owner NaN  ...   \n",
       "3                  None  73,000 km      08/2016   1 previous owner NaN  ...   \n",
       "4                  None  16,200 km      05/2016   1 previous owner NaN  ...   \n",
       "...                 ...        ...          ...                ...  ..  ...   \n",
       "15914    VAT deductible       - km          -/-               None NaN  ...   \n",
       "15915    VAT deductible   9,900 km      01/2019   1 previous owner NaN  ...   \n",
       "15916    VAT deductible      15 km      03/2019   1 previous owner NaN  ...   \n",
       "15917    VAT deductible      10 km      06/2019               None NaN  ...   \n",
       "15918    VAT deductible       - km      01/2019   1 previous owner NaN  ...   \n",
       "\n",
       "                                             description   Emission Label  \\\n",
       "0      [\\n, Sicherheit:,  , Deaktivierung für Beifahr...              NaN   \n",
       "1      [\\nLangstreckenfahrzeug daher die hohe Kilomet...  [\\n4 (Green)\\n]   \n",
       "2      [\\n, Fahrzeug-Nummer: AM-95365,  , Ehem. UPE 2...  [\\n4 (Green)\\n]   \n",
       "3      [\\nAudi A1: , - 1e eigenaar , - Perfecte staat...              NaN   \n",
       "4      [\\n, Technik & Sicherheit:, Xenon plus, Klimaa...              NaN   \n",
       "...                                                  ...              ...   \n",
       "15914  [\\nVettura visionabile nella sede in Via Roma ...              NaN   \n",
       "15915  [\\nDach: Panorama-Glas-Schiebedach, Lackierung...              NaN   \n",
       "15916  [\\n, Getriebe:,  Automatik, Technik:,  Bordcom...              NaN   \n",
       "15917  [\\nDEK:[2691331], Renault Espace Blue dCi 200C...              NaN   \n",
       "15918  [\\n, Sicherheit Airbags:,  , Seitenairbag,  , ...  [\\n4 (Green)\\n]   \n",
       "\n",
       "         Gears Country version Electricity consumption Last Service Date  \\\n",
       "0          NaN             NaN                     NaN               NaN   \n",
       "1      [\\n7\\n]             NaN                     NaN               NaN   \n",
       "2          NaN             NaN                     NaN               NaN   \n",
       "3      [\\n6\\n]             NaN                     NaN               NaN   \n",
       "4          NaN   [\\nGermany\\n]                     NaN               NaN   \n",
       "...        ...             ...                     ...               ...   \n",
       "15914  [\\n6\\n]             NaN                     NaN               NaN   \n",
       "15915  [\\n7\\n]   [\\nGermany\\n]                     NaN               NaN   \n",
       "15916  [\\n6\\n]   [\\nAustria\\n]                     NaN               NaN   \n",
       "15917  [\\n6\\n]             NaN                     NaN               NaN   \n",
       "15918      NaN   [\\nGermany\\n]                     NaN               NaN   \n",
       "\n",
       "      Other Fuel Types                   Availability  \\\n",
       "0                  NaN                            NaN   \n",
       "1                  NaN                            NaN   \n",
       "2                  NaN                            NaN   \n",
       "3                  NaN                            NaN   \n",
       "4                  NaN                            NaN   \n",
       "...                ...                            ...   \n",
       "15914              NaN                            NaN   \n",
       "15915     [[], [], []]    \\nin 5 days from ordering\\n   \n",
       "15916              NaN  \\nin 120 days from ordering\\n   \n",
       "15917              NaN                            NaN   \n",
       "15918              NaN                            NaN   \n",
       "\n",
       "      Last Timing Belt Service Date Available from  \n",
       "0                               NaN            NaN  \n",
       "1                               NaN            NaN  \n",
       "2                               NaN            NaN  \n",
       "3                               NaN            NaN  \n",
       "4                               NaN            NaN  \n",
       "...                             ...            ...  \n",
       "15914                           NaN            NaN  \n",
       "15915                           NaN            NaN  \n",
       "15916                           NaN            NaN  \n",
       "15917                           NaN            NaN  \n",
       "15918                           NaN            NaN  \n",
       "\n",
       "[15919 rows x 54 columns]"
      ]
     },
     "execution_count": 2,
     "metadata": {},
     "output_type": "execute_result"
    }
   ],
   "source": [
    "scout_car = pd.read_json('scout_car.json', lines=True)\n",
    "scout_car"
   ]
  },
  {
   "cell_type": "code",
   "execution_count": 24,
   "id": "d391d067-bc40-4fbb-b79a-78956f40e944",
   "metadata": {},
   "outputs": [],
   "source": [
    "# For my reference\n",
    "scout_car.to_csv('Initial CSV.csv', index=False)"
   ]
  },
  {
   "cell_type": "code",
   "execution_count": 3,
   "id": "2879a986-b5b9-4ec6-af5f-ae9add043588",
   "metadata": {},
   "outputs": [
    {
     "name": "stdout",
     "output_type": "stream",
     "text": [
      "<class 'pandas.core.frame.DataFrame'>\n",
      "RangeIndex: 15919 entries, 0 to 15918\n",
      "Data columns (total 54 columns):\n",
      " #   Column                         Non-Null Count  Dtype  \n",
      "---  ------                         --------------  -----  \n",
      " 0   url                            15919 non-null  object \n",
      " 1   make_model                     15919 non-null  object \n",
      " 2   short_description              15873 non-null  object \n",
      " 3   body_type                      15859 non-null  object \n",
      " 4   price                          15919 non-null  int64  \n",
      " 5   vat                            11406 non-null  object \n",
      " 6   km                             15919 non-null  object \n",
      " 7   registration                   15919 non-null  object \n",
      " 8   prev_owner                     9091 non-null   object \n",
      " 9   kW                             0 non-null      float64\n",
      " 10  hp                             15919 non-null  object \n",
      " 11  Type                           15917 non-null  object \n",
      " 12  Previous Owners                9279 non-null   object \n",
      " 13  Next Inspection                3535 non-null   object \n",
      " 14  Inspection new                 3932 non-null   object \n",
      " 15  Warranty                       10499 non-null  object \n",
      " 16  Full Service                   8215 non-null   object \n",
      " 17  Non-smoking Vehicle            7177 non-null   object \n",
      " 18  null                           15919 non-null  object \n",
      " 19  Make                           15919 non-null  object \n",
      " 20  Model                          15919 non-null  object \n",
      " 21  Offer Number                   12744 non-null  object \n",
      " 22  First Registration             14322 non-null  object \n",
      " 23  Body Color                     15322 non-null  object \n",
      " 24  Paint Type                     10147 non-null  object \n",
      " 25  Body Color Original            12160 non-null  object \n",
      " 26  Upholstery                     12199 non-null  object \n",
      " 27  Body                           15859 non-null  object \n",
      " 28  Nr. of Doors                   15707 non-null  object \n",
      " 29  Nr. of Seats                   14942 non-null  object \n",
      " 30  Model Code                     4978 non-null   object \n",
      " 31  Gearing Type                   15919 non-null  object \n",
      " 32  Displacement                   15423 non-null  object \n",
      " 33  Cylinders                      10239 non-null  object \n",
      " 34  Weight                         8945 non-null   object \n",
      " 35  Drive chain                    9061 non-null   object \n",
      " 36  Fuel                           15919 non-null  object \n",
      " 37  Consumption                    14013 non-null  object \n",
      " 38  CO2 Emission                   14111 non-null  object \n",
      " 39  Emission Class                 12898 non-null  object \n",
      " 40  \n",
      "Comfort & Convenience\n",
      "        14999 non-null  object \n",
      " 41  \n",
      "Entertainment & Media\n",
      "        14545 non-null  object \n",
      " 42  \n",
      "Extras\n",
      "                       12957 non-null  object \n",
      " 43  \n",
      "Safety & Security\n",
      "            14937 non-null  object \n",
      " 44  description                    15919 non-null  object \n",
      " 45  Emission Label                 3985 non-null   object \n",
      " 46  Gears                          11207 non-null  object \n",
      " 47  Country version                7586 non-null   object \n",
      " 48  Electricity consumption        137 non-null    object \n",
      " 49  Last Service Date              566 non-null    object \n",
      " 50  Other Fuel Types               880 non-null    object \n",
      " 51  Availability                   635 non-null    object \n",
      " 52  Last Timing Belt Service Date  16 non-null     object \n",
      " 53  Available from                 272 non-null    object \n",
      "dtypes: float64(1), int64(1), object(52)\n",
      "memory usage: 6.6+ MB\n"
     ]
    }
   ],
   "source": [
    "scout_car.info()"
   ]
  },
  {
   "cell_type": "code",
   "execution_count": 4,
   "id": "ebee020b-6594-49ea-8d09-fc74431b144e",
   "metadata": {},
   "outputs": [
    {
     "data": {
      "text/plain": [
       "(15919, 54)"
      ]
     },
     "execution_count": 4,
     "metadata": {},
     "output_type": "execute_result"
    }
   ],
   "source": [
    "scout_car.shape"
   ]
  },
  {
   "cell_type": "code",
   "execution_count": 5,
   "id": "49b2edf8-baf5-4a06-8fcc-2dd5d1b4b86f",
   "metadata": {},
   "outputs": [
    {
     "data": {
      "text/plain": [
       "url                                  0\n",
       "make_model                           0\n",
       "short_description                   46\n",
       "body_type                           60\n",
       "price                                0\n",
       "vat                               4513\n",
       "km                                   0\n",
       "registration                         0\n",
       "prev_owner                        6828\n",
       "kW                               15919\n",
       "hp                                   0\n",
       "Type                                 2\n",
       "Previous Owners                   6640\n",
       "Next Inspection                  12384\n",
       "Inspection new                   11987\n",
       "Warranty                          5420\n",
       "Full Service                      7704\n",
       "Non-smoking Vehicle               8742\n",
       "null                                 0\n",
       "Make                                 0\n",
       "Model                                0\n",
       "Offer Number                      3175\n",
       "First Registration                1597\n",
       "Body Color                         597\n",
       "Paint Type                        5772\n",
       "Body Color Original               3759\n",
       "Upholstery                        3720\n",
       "Body                                60\n",
       "Nr. of Doors                       212\n",
       "Nr. of Seats                       977\n",
       "Model Code                       10941\n",
       "Gearing Type                         0\n",
       "Displacement                       496\n",
       "Cylinders                         5680\n",
       "Weight                            6974\n",
       "Drive chain                       6858\n",
       "Fuel                                 0\n",
       "Consumption                       1906\n",
       "CO2 Emission                      1808\n",
       "Emission Class                    3021\n",
       "\\nComfort & Convenience\\n          920\n",
       "\\nEntertainment & Media\\n         1374\n",
       "\\nExtras\\n                        2962\n",
       "\\nSafety & Security\\n              982\n",
       "description                          0\n",
       "Emission Label                   11934\n",
       "Gears                             4712\n",
       "Country version                   8333\n",
       "Electricity consumption          15782\n",
       "Last Service Date                15353\n",
       "Other Fuel Types                 15039\n",
       "Availability                     15284\n",
       "Last Timing Belt Service Date    15903\n",
       "Available from                   15647\n",
       "dtype: int64"
      ]
     },
     "execution_count": 5,
     "metadata": {},
     "output_type": "execute_result"
    }
   ],
   "source": [
    "scout_car.isnull().sum()"
   ]
  },
  {
   "cell_type": "code",
   "execution_count": 6,
   "id": "66eb472b-e230-4bff-bc8d-166b7ba4f347",
   "metadata": {},
   "outputs": [
    {
     "data": {
      "text/plain": [
       "kW                               100.000000\n",
       "Last Timing Belt Service Date     99.899491\n",
       "Electricity consumption           99.139393\n",
       "Available from                    98.291350\n",
       "Last Service Date                 96.444500\n",
       "Availability                      96.011056\n",
       "Other Fuel Types                  94.472015\n",
       "Next Inspection                   77.793831\n",
       "Inspection new                    75.299956\n",
       "Emission Label                    74.967021\n",
       "Model Code                        68.729192\n",
       "Non-smoking Vehicle               54.915510\n",
       "Country version                   52.346253\n",
       "Full Service                      48.395000\n",
       "Weight                            43.809285\n",
       "Drive chain                       43.080596\n",
       "prev_owner                        42.892141\n",
       "Previous Owners                   41.711163\n",
       "Paint Type                        36.258559\n",
       "Cylinders                         35.680633\n",
       "Warranty                          34.047365\n",
       "Gears                             29.599849\n",
       "vat                               28.349771\n",
       "Body Color Original               23.613292\n",
       "Upholstery                        23.368302\n",
       "Offer Number                      19.944720\n",
       "Emission Class                    18.977323\n",
       "\\nExtras\\n                        18.606696\n",
       "Consumption                       11.973114\n",
       "CO2 Emission                      11.357497\n",
       "First Registration                10.032037\n",
       "\\nEntertainment & Media\\n          8.631195\n",
       "\\nSafety & Security\\n              6.168729\n",
       "Nr. of Seats                       6.137320\n",
       "\\nComfort & Convenience\\n          5.779257\n",
       "Body Color                         3.750236\n",
       "Displacement                       3.115774\n",
       "Nr. of Doors                       1.331742\n",
       "Body                               0.376908\n",
       "body_type                          0.376908\n",
       "short_description                  0.288963\n",
       "Type                               0.012564\n",
       "Fuel                               0.000000\n",
       "Gearing Type                       0.000000\n",
       "make_model                         0.000000\n",
       "Model                              0.000000\n",
       "Make                               0.000000\n",
       "description                        0.000000\n",
       "null                               0.000000\n",
       "hp                                 0.000000\n",
       "registration                       0.000000\n",
       "km                                 0.000000\n",
       "price                              0.000000\n",
       "url                                0.000000\n",
       "dtype: float64"
      ]
     },
     "execution_count": 6,
     "metadata": {},
     "output_type": "execute_result"
    }
   ],
   "source": [
    "(scout_car.isnull().mean() * 100).sort_values(ascending=False)"
   ]
  },
  {
   "cell_type": "markdown",
   "id": "e350d6ff-3906-4eac-a6c6-d45d4b131ef1",
   "metadata": {},
   "source": [
    "# Formatting\n",
    "Convert all lists to string for processing.\n",
    "Drop columns with 90% or greater nulls."
   ]
  },
  {
   "cell_type": "code",
   "execution_count": 22,
   "id": "ed44599d-cafa-4ab2-8c80-08238d2564a1",
   "metadata": {},
   "outputs": [],
   "source": [
    "scout_car = scout_car.loc[:, scout_car.isnull().mean() <= 0.90]\n",
    "scout_car = scout_car.map(lambda x: str(x) if isinstance(x, list) else x)"
   ]
  },
  {
   "cell_type": "code",
   "execution_count": null,
   "id": "5427a85a-c51d-4327-97e9-65bcbf9e70b8",
   "metadata": {},
   "outputs": [],
   "source": []
  },
  {
   "cell_type": "code",
   "execution_count": 11,
   "id": "e160bf1e-b9cb-47a5-82ab-f310e865db77",
   "metadata": {},
   "outputs": [
    {
     "data": {
      "text/plain": [
       "Nr. of Seats\n",
       "['\\n5\\n']    13336\n",
       "['\\n4\\n']     1125\n",
       "['\\n7\\n']      362\n",
       "['\\n2\\n']      116\n",
       "['\\n6\\n']        2\n",
       "['\\n3\\n']        1\n",
       "Name: count, dtype: int64"
      ]
     },
     "execution_count": 11,
     "metadata": {},
     "output_type": "execute_result"
    }
   ],
   "source": [
    "# Nr. of Seats\n",
    "scout_car['Nr. of Seats'].value_counts()"
   ]
  },
  {
   "cell_type": "code",
   "execution_count": null,
   "id": "b5ce5af5-9911-44cf-a6c3-ca3e543c381c",
   "metadata": {},
   "outputs": [],
   "source": []
  },
  {
   "cell_type": "code",
   "execution_count": null,
   "id": "60342ac6-472f-4e03-8836-5a6840e5d239",
   "metadata": {},
   "outputs": [],
   "source": []
  },
  {
   "cell_type": "code",
   "execution_count": null,
   "id": "036dded8-b04d-469b-9fa8-5bcea476aeb5",
   "metadata": {},
   "outputs": [],
   "source": []
  },
  {
   "cell_type": "markdown",
   "id": "e20f80d2-6a9b-41b0-9e59-c03c67c2e50c",
   "metadata": {},
   "source": [
    "# BREAKING DOWN INDIVIDUAL MAKE-MODELS"
   ]
  },
  {
   "cell_type": "markdown",
   "id": "e02b4dc3-28d6-4e2c-bad8-482286b65754",
   "metadata": {},
   "source": [
    "By number of seats."
   ]
  },
  {
   "cell_type": "code",
   "execution_count": 12,
   "id": "4a512c9f-95bb-4796-9370-ae7825c564a9",
   "metadata": {},
   "outputs": [
    {
     "name": "stderr",
     "output_type": "stream",
     "text": [
      "/var/folders/cf/4zrkk0lx1nbdx9tpklpk4jc00000gn/T/ipykernel_66715/3487993748.py:2: FutureWarning: DataFrame.applymap has been deprecated. Use DataFrame.map instead.\n",
      "  audi_a3 = audi_a3.applymap(lambda x: str(x) if isinstance(x, list) else x)\n"
     ]
    },
    {
     "data": {
      "text/plain": [
       "Nr. of Seats\n",
       "['\\n5\\n']    2951\n",
       "NaN           121\n",
       "['\\n4\\n']      25\n",
       "Name: count, dtype: int64"
      ]
     },
     "execution_count": 12,
     "metadata": {},
     "output_type": "execute_result"
    }
   ],
   "source": [
    "audi_a3 = scout_car[scout_car['make_model'].str.contains('Audi A3', na=False)]\n",
    "audi_a3 = audi_a3.applymap(lambda x: str(x) if isinstance(x, list) else x)\n",
    "audi_a3['Nr. of Seats'].value_counts(dropna=False)"
   ]
  },
  {
   "cell_type": "code",
   "execution_count": 13,
   "id": "c065ba5c-0876-4f7d-9446-bfb53f87bc3d",
   "metadata": {},
   "outputs": [
    {
     "name": "stderr",
     "output_type": "stream",
     "text": [
      "/var/folders/cf/4zrkk0lx1nbdx9tpklpk4jc00000gn/T/ipykernel_66715/3061178201.py:2: FutureWarning: DataFrame.applymap has been deprecated. Use DataFrame.map instead.\n",
      "  audi_a1 = audi_a1.applymap(lambda x: str(x) if isinstance(x, list) else x)\n"
     ]
    },
    {
     "data": {
      "text/plain": [
       "Nr. of Seats\n",
       "['\\n5\\n']    1392\n",
       "['\\n4\\n']    1080\n",
       "NaN           140\n",
       "['\\n6\\n']       1\n",
       "['\\n3\\n']       1\n",
       "Name: count, dtype: int64"
      ]
     },
     "execution_count": 13,
     "metadata": {},
     "output_type": "execute_result"
    }
   ],
   "source": [
    "audi_a1 = scout_car[scout_car['make_model'].str.contains('Audi A1', na=False)]\n",
    "audi_a1 = audi_a1.applymap(lambda x: str(x) if isinstance(x, list) else x)\n",
    "audi_a1['Nr. of Seats'].value_counts(dropna=False)"
   ]
  },
  {
   "cell_type": "code",
   "execution_count": 14,
   "id": "013732d2-9a62-4ec3-8a58-0e01ec9591bd",
   "metadata": {},
   "outputs": [
    {
     "name": "stderr",
     "output_type": "stream",
     "text": [
      "/var/folders/cf/4zrkk0lx1nbdx9tpklpk4jc00000gn/T/ipykernel_66715/1808992142.py:2: FutureWarning: DataFrame.applymap has been deprecated. Use DataFrame.map instead.\n",
      "  opel_insignia = opel_insignia.applymap(lambda x: str(x) if isinstance(x, list) else x)\n"
     ]
    },
    {
     "data": {
      "text/plain": [
       "Nr. of Seats\n",
       "['\\n5\\n']    2487\n",
       "NaN           108\n",
       "['\\n4\\n']       2\n",
       "['\\n2\\n']       1\n",
       "Name: count, dtype: int64"
      ]
     },
     "execution_count": 14,
     "metadata": {},
     "output_type": "execute_result"
    }
   ],
   "source": [
    "opel_insignia = scout_car[scout_car['make_model'].str.contains('Opel Insignia', na=False)]\n",
    "opel_insignia = opel_insignia.applymap(lambda x: str(x) if isinstance(x, list) else x)\n",
    "opel_insignia['Nr. of Seats'].value_counts(dropna=False)"
   ]
  },
  {
   "cell_type": "code",
   "execution_count": 15,
   "id": "2387ee3e-bbcf-42e8-84e1-2e1877d06566",
   "metadata": {},
   "outputs": [
    {
     "name": "stderr",
     "output_type": "stream",
     "text": [
      "/var/folders/cf/4zrkk0lx1nbdx9tpklpk4jc00000gn/T/ipykernel_66715/618069316.py:2: FutureWarning: DataFrame.applymap has been deprecated. Use DataFrame.map instead.\n",
      "  opel_astra = opel_astra.applymap(lambda x: str(x) if isinstance(x, list) else x)\n"
     ]
    },
    {
     "data": {
      "text/plain": [
       "Nr. of Seats\n",
       "['\\n5\\n']    2357\n",
       "NaN           164\n",
       "['\\n4\\n']       5\n",
       "Name: count, dtype: int64"
      ]
     },
     "execution_count": 15,
     "metadata": {},
     "output_type": "execute_result"
    }
   ],
   "source": [
    "opel_astra = scout_car[scout_car['make_model'].str.contains('Opel Astra', na=False)]\n",
    "opel_astra = opel_astra.applymap(lambda x: str(x) if isinstance(x, list) else x)\n",
    "opel_astra['Nr. of Seats'].value_counts(dropna=False)"
   ]
  },
  {
   "cell_type": "code",
   "execution_count": 16,
   "id": "4b7fee3b-9b66-4bba-b86e-6758327e026e",
   "metadata": {},
   "outputs": [
    {
     "name": "stderr",
     "output_type": "stream",
     "text": [
      "/var/folders/cf/4zrkk0lx1nbdx9tpklpk4jc00000gn/T/ipykernel_66715/3536806432.py:2: FutureWarning: DataFrame.applymap has been deprecated. Use DataFrame.map instead.\n",
      "  opel_corsa = opel_corsa.applymap(lambda x: str(x) if isinstance(x, list) else x)\n"
     ]
    },
    {
     "data": {
      "text/plain": [
       "Nr. of Seats\n",
       "['\\n5\\n']    2087\n",
       "NaN           120\n",
       "['\\n4\\n']       7\n",
       "['\\n2\\n']       5\n",
       "Name: count, dtype: int64"
      ]
     },
     "execution_count": 16,
     "metadata": {},
     "output_type": "execute_result"
    }
   ],
   "source": [
    "opel_corsa = scout_car[scout_car['make_model'].str.contains('Opel Corsa', na=False)]\n",
    "opel_corsa = opel_corsa.applymap(lambda x: str(x) if isinstance(x, list) else x)\n",
    "opel_corsa['Nr. of Seats'].value_counts(dropna=False)"
   ]
  },
  {
   "cell_type": "code",
   "execution_count": 17,
   "id": "0b0fec61-747e-4b4e-9d73-f9ad75daa830",
   "metadata": {},
   "outputs": [
    {
     "name": "stderr",
     "output_type": "stream",
     "text": [
      "/var/folders/cf/4zrkk0lx1nbdx9tpklpk4jc00000gn/T/ipykernel_66715/2306029734.py:2: FutureWarning: DataFrame.applymap has been deprecated. Use DataFrame.map instead.\n",
      "  renault_clio = renault_clio.applymap(lambda x: str(x) if isinstance(x, list) else x)\n"
     ]
    },
    {
     "data": {
      "text/plain": [
       "Nr. of Seats\n",
       "['\\n5\\n']    1520\n",
       "NaN           204\n",
       "['\\n2\\n']     110\n",
       "['\\n4\\n']       5\n",
       "Name: count, dtype: int64"
      ]
     },
     "execution_count": 17,
     "metadata": {},
     "output_type": "execute_result"
    }
   ],
   "source": [
    "renault_clio = scout_car[scout_car['make_model'].str.contains('Renault Clio', na=False)]\n",
    "renault_clio = renault_clio.applymap(lambda x: str(x) if isinstance(x, list) else x)\n",
    "renault_clio['Nr. of Seats'].value_counts(dropna=False)"
   ]
  },
  {
   "cell_type": "code",
   "execution_count": 18,
   "id": "83f2bffb-345c-4eb6-9979-e3db152b9d21",
   "metadata": {},
   "outputs": [
    {
     "name": "stderr",
     "output_type": "stream",
     "text": [
      "/var/folders/cf/4zrkk0lx1nbdx9tpklpk4jc00000gn/T/ipykernel_66715/2922229806.py:2: FutureWarning: DataFrame.applymap has been deprecated. Use DataFrame.map instead.\n",
      "  renault_espace = renault_espace.applymap(lambda x: str(x) if isinstance(x, list) else x)\n"
     ]
    },
    {
     "data": {
      "text/plain": [
       "Nr. of Seats\n",
       "['\\n5\\n']    507\n",
       "['\\n7\\n']    362\n",
       "NaN          120\n",
       "['\\n4\\n']      1\n",
       "['\\n6\\n']      1\n",
       "Name: count, dtype: int64"
      ]
     },
     "execution_count": 18,
     "metadata": {},
     "output_type": "execute_result"
    }
   ],
   "source": [
    "renault_espace = scout_car[scout_car['make_model'].str.contains('Renault Espace', na=False)]\n",
    "renault_espace = renault_espace.applymap(lambda x: str(x) if isinstance(x, list) else x)\n",
    "renault_espace['Nr. of Seats'].value_counts(dropna=False)"
   ]
  },
  {
   "cell_type": "code",
   "execution_count": 19,
   "id": "05f5fba9-8472-4d90-89e4-72f5c0562d69",
   "metadata": {},
   "outputs": [
    {
     "name": "stderr",
     "output_type": "stream",
     "text": [
      "/var/folders/cf/4zrkk0lx1nbdx9tpklpk4jc00000gn/T/ipykernel_66715/3953016805.py:2: FutureWarning: DataFrame.applymap has been deprecated. Use DataFrame.map instead.\n",
      "  renault_duster = renault_duster.applymap(lambda x: str(x) if isinstance(x, list) else x)\n"
     ]
    },
    {
     "data": {
      "text/plain": [
       "Nr. of Seats\n",
       "['\\n5\\n']    34\n",
       "Name: count, dtype: int64"
      ]
     },
     "execution_count": 19,
     "metadata": {},
     "output_type": "execute_result"
    }
   ],
   "source": [
    "renault_duster = scout_car[scout_car['make_model'].str.contains('Renault Duster', na=False)]\n",
    "renault_duster = renault_duster.applymap(lambda x: str(x) if isinstance(x, list) else x)\n",
    "renault_duster['Nr. of Seats'].value_counts(dropna=False)"
   ]
  },
  {
   "cell_type": "code",
   "execution_count": 20,
   "id": "526e8d77-993a-4ef4-9dd7-8aa152479acb",
   "metadata": {},
   "outputs": [
    {
     "name": "stderr",
     "output_type": "stream",
     "text": [
      "/var/folders/cf/4zrkk0lx1nbdx9tpklpk4jc00000gn/T/ipykernel_66715/3994993805.py:2: FutureWarning: DataFrame.applymap has been deprecated. Use DataFrame.map instead.\n",
      "  audi_a2 = audi_a2.applymap(lambda x: str(x) if isinstance(x, list) else x)\n"
     ]
    },
    {
     "data": {
      "text/plain": [
       "Nr. of Seats\n",
       "['\\n5\\n']    1\n",
       "Name: count, dtype: int64"
      ]
     },
     "execution_count": 20,
     "metadata": {},
     "output_type": "execute_result"
    }
   ],
   "source": [
    "audi_a2 = scout_car[scout_car['make_model'].str.contains('Audi A2', na=False)]\n",
    "audi_a2 = audi_a2.applymap(lambda x: str(x) if isinstance(x, list) else x)\n",
    "audi_a2['Nr. of Seats'].value_counts(dropna=False)"
   ]
  },
  {
   "cell_type": "code",
   "execution_count": null,
   "id": "a32a9636-50f5-4873-a292-8c0b7bf7e7f1",
   "metadata": {},
   "outputs": [],
   "source": []
  },
  {
   "cell_type": "code",
   "execution_count": null,
   "id": "ae72e04d-9a80-4216-9824-f48af4d00921",
   "metadata": {},
   "outputs": [],
   "source": []
  },
  {
   "cell_type": "markdown",
   "id": "93a45cfa-f3b9-468e-a888-c29aa09c9126",
   "metadata": {},
   "source": [
    "# KM"
   ]
  },
  {
   "cell_type": "code",
   "execution_count": 21,
   "id": "b0e637f9-c03a-41d7-98ca-b90f125738e1",
   "metadata": {},
   "outputs": [
    {
     "data": {
      "text/html": [
       "<div>\n",
       "<style scoped>\n",
       "    .dataframe tbody tr th:only-of-type {\n",
       "        vertical-align: middle;\n",
       "    }\n",
       "\n",
       "    .dataframe tbody tr th {\n",
       "        vertical-align: top;\n",
       "    }\n",
       "\n",
       "    .dataframe thead th {\n",
       "        text-align: right;\n",
       "    }\n",
       "</style>\n",
       "<table border=\"1\" class=\"dataframe\">\n",
       "  <thead>\n",
       "    <tr style=\"text-align: right;\">\n",
       "      <th></th>\n",
       "      <th>km</th>\n",
       "      <th>km_ORIG</th>\n",
       "    </tr>\n",
       "  </thead>\n",
       "  <tbody>\n",
       "    <tr>\n",
       "      <th>0</th>\n",
       "      <td>56013</td>\n",
       "      <td>56,013 km</td>\n",
       "    </tr>\n",
       "    <tr>\n",
       "      <th>1</th>\n",
       "      <td>80000</td>\n",
       "      <td>80,000 km</td>\n",
       "    </tr>\n",
       "    <tr>\n",
       "      <th>2</th>\n",
       "      <td>83450</td>\n",
       "      <td>83,450 km</td>\n",
       "    </tr>\n",
       "    <tr>\n",
       "      <th>3</th>\n",
       "      <td>73000</td>\n",
       "      <td>73,000 km</td>\n",
       "    </tr>\n",
       "    <tr>\n",
       "      <th>4</th>\n",
       "      <td>16200</td>\n",
       "      <td>16,200 km</td>\n",
       "    </tr>\n",
       "    <tr>\n",
       "      <th>...</th>\n",
       "      <td>...</td>\n",
       "      <td>...</td>\n",
       "    </tr>\n",
       "    <tr>\n",
       "      <th>15914</th>\n",
       "      <td>0</td>\n",
       "      <td>- km</td>\n",
       "    </tr>\n",
       "    <tr>\n",
       "      <th>15915</th>\n",
       "      <td>9900</td>\n",
       "      <td>9,900 km</td>\n",
       "    </tr>\n",
       "    <tr>\n",
       "      <th>15916</th>\n",
       "      <td>15</td>\n",
       "      <td>15 km</td>\n",
       "    </tr>\n",
       "    <tr>\n",
       "      <th>15917</th>\n",
       "      <td>10</td>\n",
       "      <td>10 km</td>\n",
       "    </tr>\n",
       "    <tr>\n",
       "      <th>15918</th>\n",
       "      <td>0</td>\n",
       "      <td>- km</td>\n",
       "    </tr>\n",
       "  </tbody>\n",
       "</table>\n",
       "<p>15919 rows × 2 columns</p>\n",
       "</div>"
      ],
      "text/plain": [
       "          km    km_ORIG\n",
       "0      56013  56,013 km\n",
       "1      80000  80,000 km\n",
       "2      83450  83,450 km\n",
       "3      73000  73,000 km\n",
       "4      16200  16,200 km\n",
       "...      ...        ...\n",
       "15914      0       - km\n",
       "15915   9900   9,900 km\n",
       "15916     15      15 km\n",
       "15917     10      10 km\n",
       "15918      0       - km\n",
       "\n",
       "[15919 rows x 2 columns]"
      ]
     },
     "execution_count": 21,
     "metadata": {},
     "output_type": "execute_result"
    }
   ],
   "source": [
    "# for comparison, create a new column containing the old incorrect values\n",
    "scout_car['km_ORIG'] = scout_car['km']\n",
    "\n",
    "# Step 1: Remove all non-digit characters except for digits and commas\n",
    "scout_car['km'] = (\n",
    "    scout_car['km']\n",
    "    .str.replace(r'[^\\d,]', '', regex=True)  # Remove everything except digits and commas\n",
    "    .str.replace(',', '')                   # Remove commas\n",
    ")\n",
    "\n",
    "# Step 2: Convert to numeric, errors='coerce' will turn invalid entries into NaN\n",
    "scout_car['km'] = pd.to_numeric(scout_car['km'], errors='coerce')\n",
    "\n",
    "# Step 3: Drop rows with NaN (i.e., where no numeric value could be extracted)\n",
    "scout_car['km'] = scout_car['km'].fillna(0)\n",
    "\n",
    "# Convert again into integer\n",
    "scout_car['km'] = scout_car['km'].astype(int)\n",
    "\n",
    "\n",
    "# (Optional) Reset index\n",
    "#scout_car = scout_car.reset_index(drop=True)\n",
    "\n",
    "scout_car[['km', 'km_ORIG']]"
   ]
  },
  {
   "cell_type": "code",
   "execution_count": 22,
   "id": "ae301289-f3cc-4b98-b272-480aac7e7238",
   "metadata": {},
   "outputs": [
    {
     "data": {
      "text/plain": [
       "km\n",
       "False    14876\n",
       "True      1043\n",
       "Name: count, dtype: int64"
      ]
     },
     "execution_count": 22,
     "metadata": {},
     "output_type": "execute_result"
    }
   ],
   "source": [
    "(scout_car['km'] == 0).value_counts()"
   ]
  },
  {
   "cell_type": "markdown",
   "id": "3051a424-cbe0-499a-bde5-e2408a1ef734",
   "metadata": {},
   "source": [
    "# FUEL"
   ]
  },
  {
   "cell_type": "code",
   "execution_count": 24,
   "id": "9991a40c-6846-4f57-99a5-121f76af0b45",
   "metadata": {},
   "outputs": [
    {
     "data": {
      "text/plain": [
       "Fuel\n",
       "['\\n', 'Diesel (Particulate Filter)', '\\n']                                                                                  4315\n",
       "['\\n', 'Super 95', '\\n']                                                                                                     3338\n",
       "['\\n', 'Gasoline', '\\n']                                                                                                     3175\n",
       "['\\n', 'Diesel', '\\n']                                                                                                       2984\n",
       "['\\n', 'Super 95 / Regular/Benzine 91', '\\n']                                                                                 424\n",
       "                                                                                                                             ... \n",
       "['\\n', 'Regular/Benzine 91 / Super 95 / Regular/Benzine E10 91', '\\n']                                                          1\n",
       "['\\n', 'Super Plus 98 / Super E10 95', '\\n']                                                                                    1\n",
       "['\\n', 'Regular/Benzine 91 / Super 95 / Regular/Benzine E10 91 / Super E10 95 / Super Plus 98 / Super Plus E10 98', '\\n']       1\n",
       "['\\n', 'Regular/Benzine 91 / Super Plus 98 / Regular/Benzine E10 91 / Super 95 / Super E10 95 / Super Plus E10 98', '\\n']       1\n",
       "['\\n', 'Super Plus 98 / Super 95 / Super Plus E10 98', '\\n']                                                                    1\n",
       "Name: count, Length: 77, dtype: int64"
      ]
     },
     "execution_count": 24,
     "metadata": {},
     "output_type": "execute_result"
    }
   ],
   "source": [
    "scout_car['Fuel'].value_counts()"
   ]
  },
  {
   "cell_type": "code",
   "execution_count": 26,
   "id": "031011ce-a717-4b3d-b5ed-14004f15e2f5",
   "metadata": {},
   "outputs": [
    {
     "data": {
      "text/html": [
       "<div>\n",
       "<style scoped>\n",
       "    .dataframe tbody tr th:only-of-type {\n",
       "        vertical-align: middle;\n",
       "    }\n",
       "\n",
       "    .dataframe tbody tr th {\n",
       "        vertical-align: top;\n",
       "    }\n",
       "\n",
       "    .dataframe thead th {\n",
       "        text-align: right;\n",
       "    }\n",
       "</style>\n",
       "<table border=\"1\" class=\"dataframe\">\n",
       "  <thead>\n",
       "    <tr style=\"text-align: right;\">\n",
       "      <th></th>\n",
       "      <th>Type</th>\n",
       "      <th>Fuel</th>\n",
       "    </tr>\n",
       "  </thead>\n",
       "  <tbody>\n",
       "    <tr>\n",
       "      <th>0</th>\n",
       "      <td>['', 'Used', '', 'Diesel (Particulate Filter)']</td>\n",
       "      <td>['\\n', 'Diesel (Particulate Filter)', '\\n']</td>\n",
       "    </tr>\n",
       "    <tr>\n",
       "      <th>1</th>\n",
       "      <td>['', 'Used', '', 'Gasoline']</td>\n",
       "      <td>['\\n', 'Gasoline', '\\n']</td>\n",
       "    </tr>\n",
       "    <tr>\n",
       "      <th>2</th>\n",
       "      <td>['', 'Used', '', 'Diesel (Particulate Filter)']</td>\n",
       "      <td>['\\n', 'Diesel (Particulate Filter)', '\\n']</td>\n",
       "    </tr>\n",
       "    <tr>\n",
       "      <th>3</th>\n",
       "      <td>['', 'Used', '', 'Diesel (Particulate Filter)']</td>\n",
       "      <td>['\\n', 'Diesel (Particulate Filter)', '\\n']</td>\n",
       "    </tr>\n",
       "    <tr>\n",
       "      <th>4</th>\n",
       "      <td>['', 'Used', '', 'Diesel (Particulate Filter)']</td>\n",
       "      <td>['\\n', 'Diesel (Particulate Filter)', '\\n']</td>\n",
       "    </tr>\n",
       "    <tr>\n",
       "      <th>...</th>\n",
       "      <td>...</td>\n",
       "      <td>...</td>\n",
       "    </tr>\n",
       "    <tr>\n",
       "      <th>15914</th>\n",
       "      <td>['', 'New', '', 'Diesel (Particulate Filter)']</td>\n",
       "      <td>['\\n', 'Diesel (Particulate Filter)', '\\n']</td>\n",
       "    </tr>\n",
       "    <tr>\n",
       "      <th>15915</th>\n",
       "      <td>['', 'Used', '', 'Super 95 / Super Plus 98 (Pa...</td>\n",
       "      <td>['\\n', 'Super 95 / Super Plus 98 (Particulate ...</td>\n",
       "    </tr>\n",
       "    <tr>\n",
       "      <th>15916</th>\n",
       "      <td>['', 'Pre-registered', '', 'Diesel']</td>\n",
       "      <td>['\\n', 'Diesel', '\\n']</td>\n",
       "    </tr>\n",
       "    <tr>\n",
       "      <th>15917</th>\n",
       "      <td>['', 'Pre-registered', '', 'Diesel']</td>\n",
       "      <td>['\\n', 'Diesel', '\\n']</td>\n",
       "    </tr>\n",
       "    <tr>\n",
       "      <th>15918</th>\n",
       "      <td>['', 'Demonstration', '', 'Super 95']</td>\n",
       "      <td>['\\n', 'Super 95', '\\n']</td>\n",
       "    </tr>\n",
       "  </tbody>\n",
       "</table>\n",
       "<p>15919 rows × 2 columns</p>\n",
       "</div>"
      ],
      "text/plain": [
       "                                                    Type  \\\n",
       "0        ['', 'Used', '', 'Diesel (Particulate Filter)']   \n",
       "1                           ['', 'Used', '', 'Gasoline']   \n",
       "2        ['', 'Used', '', 'Diesel (Particulate Filter)']   \n",
       "3        ['', 'Used', '', 'Diesel (Particulate Filter)']   \n",
       "4        ['', 'Used', '', 'Diesel (Particulate Filter)']   \n",
       "...                                                  ...   \n",
       "15914     ['', 'New', '', 'Diesel (Particulate Filter)']   \n",
       "15915  ['', 'Used', '', 'Super 95 / Super Plus 98 (Pa...   \n",
       "15916               ['', 'Pre-registered', '', 'Diesel']   \n",
       "15917               ['', 'Pre-registered', '', 'Diesel']   \n",
       "15918              ['', 'Demonstration', '', 'Super 95']   \n",
       "\n",
       "                                                    Fuel  \n",
       "0            ['\\n', 'Diesel (Particulate Filter)', '\\n']  \n",
       "1                               ['\\n', 'Gasoline', '\\n']  \n",
       "2            ['\\n', 'Diesel (Particulate Filter)', '\\n']  \n",
       "3            ['\\n', 'Diesel (Particulate Filter)', '\\n']  \n",
       "4            ['\\n', 'Diesel (Particulate Filter)', '\\n']  \n",
       "...                                                  ...  \n",
       "15914        ['\\n', 'Diesel (Particulate Filter)', '\\n']  \n",
       "15915  ['\\n', 'Super 95 / Super Plus 98 (Particulate ...  \n",
       "15916                             ['\\n', 'Diesel', '\\n']  \n",
       "15917                             ['\\n', 'Diesel', '\\n']  \n",
       "15918                           ['\\n', 'Super 95', '\\n']  \n",
       "\n",
       "[15919 rows x 2 columns]"
      ]
     },
     "execution_count": 26,
     "metadata": {},
     "output_type": "execute_result"
    }
   ],
   "source": [
    "scout_car[['Type', 'Fuel']]"
   ]
  },
  {
   "cell_type": "code",
   "execution_count": null,
   "id": "10f86b43-1790-468a-b24e-5bac2e8e8787",
   "metadata": {},
   "outputs": [],
   "source": []
  },
  {
   "cell_type": "code",
   "execution_count": null,
   "id": "5c666e8f-69ae-48da-be91-fd33547cdd42",
   "metadata": {},
   "outputs": [],
   "source": []
  },
  {
   "cell_type": "code",
   "execution_count": null,
   "id": "9ee83489-a07d-4600-93f1-74fc27eae015",
   "metadata": {},
   "outputs": [],
   "source": []
  },
  {
   "cell_type": "code",
   "execution_count": null,
   "id": "1974ec69-addb-435a-9ca8-7410f0b2cb31",
   "metadata": {},
   "outputs": [],
   "source": []
  },
  {
   "cell_type": "code",
   "execution_count": null,
   "id": "d02b590c-3099-40e1-8a1c-c77587d9904a",
   "metadata": {},
   "outputs": [],
   "source": []
  },
  {
   "cell_type": "code",
   "execution_count": null,
   "id": "4db6b18f-2586-4572-ac04-706290d71993",
   "metadata": {},
   "outputs": [],
   "source": []
  },
  {
   "cell_type": "code",
   "execution_count": null,
   "id": "198bd6ae-1c02-4e72-afe3-f0bfe2fb17f0",
   "metadata": {},
   "outputs": [],
   "source": []
  },
  {
   "cell_type": "code",
   "execution_count": null,
   "id": "1146af34-0da6-46d7-bc52-9a012c2d1e6d",
   "metadata": {},
   "outputs": [],
   "source": []
  },
  {
   "cell_type": "markdown",
   "id": "3cfe2e9c-43bd-4101-a493-1e84f9686898",
   "metadata": {},
   "source": [
    "# TYPE \n",
    "TYPE is supposed to only include \"new\" \"used\" or similar. Should split off fuel type into its own column, then compare with the pre-existing Fuel column.\n",
    "\n",
    "TYPE has only two missing values. Both can probably be filled with Used, Diesel. Unless Diesel (Particulate Filter) should be regarded as a separate category.\n",
    "\n"
   ]
  },
  {
   "cell_type": "code",
   "execution_count": 12,
   "id": "d73d3467-0ca1-4cd7-becd-52ffff8ad375",
   "metadata": {},
   "outputs": [
    {
     "data": {
      "text/html": [
       "<div>\n",
       "<style scoped>\n",
       "    .dataframe tbody tr th:only-of-type {\n",
       "        vertical-align: middle;\n",
       "    }\n",
       "\n",
       "    .dataframe tbody tr th {\n",
       "        vertical-align: top;\n",
       "    }\n",
       "\n",
       "    .dataframe thead th {\n",
       "        text-align: right;\n",
       "    }\n",
       "</style>\n",
       "<table border=\"1\" class=\"dataframe\">\n",
       "  <thead>\n",
       "    <tr style=\"text-align: right;\">\n",
       "      <th></th>\n",
       "      <th>url</th>\n",
       "      <th>make_model</th>\n",
       "      <th>short_description</th>\n",
       "      <th>body_type</th>\n",
       "      <th>price</th>\n",
       "      <th>vat</th>\n",
       "      <th>km</th>\n",
       "      <th>registration</th>\n",
       "      <th>prev_owner</th>\n",
       "      <th>hp</th>\n",
       "      <th>...</th>\n",
       "      <th>CO2 Emission</th>\n",
       "      <th>Emission Class</th>\n",
       "      <th>\\nComfort &amp; Convenience\\n</th>\n",
       "      <th>\\nEntertainment &amp; Media\\n</th>\n",
       "      <th>\\nExtras\\n</th>\n",
       "      <th>\\nSafety &amp; Security\\n</th>\n",
       "      <th>description</th>\n",
       "      <th>Emission Label</th>\n",
       "      <th>Gears</th>\n",
       "      <th>Country version</th>\n",
       "    </tr>\n",
       "  </thead>\n",
       "  <tbody>\n",
       "    <tr>\n",
       "      <th>2765</th>\n",
       "      <td>https://www.autoscout24.com//offers/audi-a3-sp...</td>\n",
       "      <td>Audi A3</td>\n",
       "      <td>SPB 2.0 TDI S tronic Sport</td>\n",
       "      <td>Sedans</td>\n",
       "      <td>17900</td>\n",
       "      <td>None</td>\n",
       "      <td>115137</td>\n",
       "      <td>10/2016</td>\n",
       "      <td>None</td>\n",
       "      <td>110 kW</td>\n",
       "      <td>...</td>\n",
       "      <td>['\\n118 g CO2/km (comb)\\n']</td>\n",
       "      <td>['\\nEuro 6\\n']</td>\n",
       "      <td>['Air conditioning']</td>\n",
       "      <td>['Bluetooth', 'Hands-free equipment']</td>\n",
       "      <td>['Alloy wheels', 'Sport seats', 'Sport suspens...</td>\n",
       "      <td>['ABS', 'Central door lock', 'Driver-side airb...</td>\n",
       "      <td>['\\nVeicolo immatricolato il 10/2016 115137\\xa...</td>\n",
       "      <td>['\\n1 (No sticker)\\n']</td>\n",
       "      <td>['\\n6\\n']</td>\n",
       "      <td>NaN</td>\n",
       "    </tr>\n",
       "    <tr>\n",
       "      <th>5237</th>\n",
       "      <td>https://www.autoscout24.com//offers/audi-a3-sp...</td>\n",
       "      <td>Audi A3</td>\n",
       "      <td>SPB 1.6 TDI 116 CV S tronic</td>\n",
       "      <td>Sedans</td>\n",
       "      <td>25400</td>\n",
       "      <td>None</td>\n",
       "      <td>0</td>\n",
       "      <td>-/-</td>\n",
       "      <td>None</td>\n",
       "      <td>85 kW</td>\n",
       "      <td>...</td>\n",
       "      <td>['\\n103 g CO2/km (comb)\\n']</td>\n",
       "      <td>['\\nEuro 6\\n']</td>\n",
       "      <td>['Air conditioning']</td>\n",
       "      <td>['Bluetooth', 'Hands-free equipment']</td>\n",
       "      <td>['Alloy wheels']</td>\n",
       "      <td>['ABS', 'Central door lock', 'Driver-side airb...</td>\n",
       "      <td>['\\n', 'PROMOZIONE CAVOUR: VETTURA KM0 UFFICIA...</td>\n",
       "      <td>['\\n1 (No sticker)\\n']</td>\n",
       "      <td>['\\n7\\n']</td>\n",
       "      <td>NaN</td>\n",
       "    </tr>\n",
       "  </tbody>\n",
       "</table>\n",
       "<p>2 rows × 47 columns</p>\n",
       "</div>"
      ],
      "text/plain": [
       "                                                    url make_model  \\\n",
       "2765  https://www.autoscout24.com//offers/audi-a3-sp...    Audi A3   \n",
       "5237  https://www.autoscout24.com//offers/audi-a3-sp...    Audi A3   \n",
       "\n",
       "                short_description body_type  price   vat      km registration  \\\n",
       "2765   SPB 2.0 TDI S tronic Sport    Sedans  17900  None  115137      10/2016   \n",
       "5237  SPB 1.6 TDI 116 CV S tronic    Sedans  25400  None       0          -/-   \n",
       "\n",
       "     prev_owner      hp  ...                 CO2 Emission  Emission Class  \\\n",
       "2765       None  110 kW  ...  ['\\n118 g CO2/km (comb)\\n']  ['\\nEuro 6\\n']   \n",
       "5237       None   85 kW  ...  ['\\n103 g CO2/km (comb)\\n']  ['\\nEuro 6\\n']   \n",
       "\n",
       "     \\nComfort & Convenience\\n              \\nEntertainment & Media\\n  \\\n",
       "2765      ['Air conditioning']  ['Bluetooth', 'Hands-free equipment']   \n",
       "5237      ['Air conditioning']  ['Bluetooth', 'Hands-free equipment']   \n",
       "\n",
       "                                             \\nExtras\\n  \\\n",
       "2765  ['Alloy wheels', 'Sport seats', 'Sport suspens...   \n",
       "5237                                   ['Alloy wheels']   \n",
       "\n",
       "                                  \\nSafety & Security\\n  \\\n",
       "2765  ['ABS', 'Central door lock', 'Driver-side airb...   \n",
       "5237  ['ABS', 'Central door lock', 'Driver-side airb...   \n",
       "\n",
       "                                            description  \\\n",
       "2765  ['\\nVeicolo immatricolato il 10/2016 115137\\xa...   \n",
       "5237  ['\\n', 'PROMOZIONE CAVOUR: VETTURA KM0 UFFICIA...   \n",
       "\n",
       "              Emission Label      Gears Country version  \n",
       "2765  ['\\n1 (No sticker)\\n']  ['\\n6\\n']             NaN  \n",
       "5237  ['\\n1 (No sticker)\\n']  ['\\n7\\n']             NaN  \n",
       "\n",
       "[2 rows x 47 columns]"
      ]
     },
     "execution_count": 12,
     "metadata": {},
     "output_type": "execute_result"
    }
   ],
   "source": [
    "scout_car[scout_car['Type'].isna()]"
   ]
  },
  {
   "cell_type": "code",
   "execution_count": 13,
   "id": "d09712aa-6858-41d1-8232-98213a8f028e",
   "metadata": {},
   "outputs": [
    {
     "data": {
      "text/html": [
       "<div>\n",
       "<style scoped>\n",
       "    .dataframe tbody tr th:only-of-type {\n",
       "        vertical-align: middle;\n",
       "    }\n",
       "\n",
       "    .dataframe tbody tr th {\n",
       "        vertical-align: top;\n",
       "    }\n",
       "\n",
       "    .dataframe thead th {\n",
       "        text-align: right;\n",
       "    }\n",
       "</style>\n",
       "<table border=\"1\" class=\"dataframe\">\n",
       "  <thead>\n",
       "    <tr style=\"text-align: right;\">\n",
       "      <th></th>\n",
       "      <th>Type</th>\n",
       "    </tr>\n",
       "  </thead>\n",
       "  <tbody>\n",
       "    <tr>\n",
       "      <th>2765</th>\n",
       "      <td>NaN</td>\n",
       "    </tr>\n",
       "    <tr>\n",
       "      <th>3313</th>\n",
       "      <td>['', 'Used', '', 'Diesel']</td>\n",
       "    </tr>\n",
       "    <tr>\n",
       "      <th>3322</th>\n",
       "      <td>['', 'Used', '', 'Diesel']</td>\n",
       "    </tr>\n",
       "    <tr>\n",
       "      <th>3325</th>\n",
       "      <td>['', 'Used', '', 'Diesel']</td>\n",
       "    </tr>\n",
       "    <tr>\n",
       "      <th>3327</th>\n",
       "      <td>['', 'Used', '', 'Diesel']</td>\n",
       "    </tr>\n",
       "    <tr>\n",
       "      <th>3331</th>\n",
       "      <td>['', 'Used', '', 'Diesel']</td>\n",
       "    </tr>\n",
       "    <tr>\n",
       "      <th>3343</th>\n",
       "      <td>['', 'Used', '', 'Diesel']</td>\n",
       "    </tr>\n",
       "    <tr>\n",
       "      <th>3347</th>\n",
       "      <td>['', 'Used', '', 'Diesel']</td>\n",
       "    </tr>\n",
       "    <tr>\n",
       "      <th>3363</th>\n",
       "      <td>['', 'Used', '', 'Diesel']</td>\n",
       "    </tr>\n",
       "    <tr>\n",
       "      <th>3382</th>\n",
       "      <td>['', 'Used', '', 'Diesel']</td>\n",
       "    </tr>\n",
       "    <tr>\n",
       "      <th>3388</th>\n",
       "      <td>['', 'Used', '', 'Diesel']</td>\n",
       "    </tr>\n",
       "    <tr>\n",
       "      <th>3396</th>\n",
       "      <td>['', 'Used', '', 'Diesel']</td>\n",
       "    </tr>\n",
       "    <tr>\n",
       "      <th>3397</th>\n",
       "      <td>['', 'Used', '', 'Diesel']</td>\n",
       "    </tr>\n",
       "    <tr>\n",
       "      <th>3398</th>\n",
       "      <td>['', 'Used', '', 'Diesel (Particulate Filter)']</td>\n",
       "    </tr>\n",
       "    <tr>\n",
       "      <th>3585</th>\n",
       "      <td>['', 'Used', '', 'Diesel']</td>\n",
       "    </tr>\n",
       "    <tr>\n",
       "      <th>3622</th>\n",
       "      <td>['', 'Used', '', 'Diesel']</td>\n",
       "    </tr>\n",
       "    <tr>\n",
       "      <th>3624</th>\n",
       "      <td>['', 'Used', '', 'Diesel']</td>\n",
       "    </tr>\n",
       "    <tr>\n",
       "      <th>3626</th>\n",
       "      <td>['', 'Used', '', 'Diesel']</td>\n",
       "    </tr>\n",
       "    <tr>\n",
       "      <th>3627</th>\n",
       "      <td>['', 'Used', '', 'Diesel (Particulate Filter)']</td>\n",
       "    </tr>\n",
       "    <tr>\n",
       "      <th>3629</th>\n",
       "      <td>['', 'Used', '', 'Diesel']</td>\n",
       "    </tr>\n",
       "    <tr>\n",
       "      <th>3630</th>\n",
       "      <td>['', 'Used', '', 'Diesel']</td>\n",
       "    </tr>\n",
       "    <tr>\n",
       "      <th>3643</th>\n",
       "      <td>['', 'Used', '', 'Diesel']</td>\n",
       "    </tr>\n",
       "    <tr>\n",
       "      <th>3646</th>\n",
       "      <td>['', 'Used', '', 'Diesel']</td>\n",
       "    </tr>\n",
       "    <tr>\n",
       "      <th>3662</th>\n",
       "      <td>['', 'Used', '', 'Diesel (Particulate Filter)']</td>\n",
       "    </tr>\n",
       "    <tr>\n",
       "      <th>3746</th>\n",
       "      <td>['', 'Used', '', 'Diesel']</td>\n",
       "    </tr>\n",
       "    <tr>\n",
       "      <th>4492</th>\n",
       "      <td>['', 'Used', '', 'Diesel']</td>\n",
       "    </tr>\n",
       "  </tbody>\n",
       "</table>\n",
       "</div>"
      ],
      "text/plain": [
       "                                                 Type\n",
       "2765                                              NaN\n",
       "3313                       ['', 'Used', '', 'Diesel']\n",
       "3322                       ['', 'Used', '', 'Diesel']\n",
       "3325                       ['', 'Used', '', 'Diesel']\n",
       "3327                       ['', 'Used', '', 'Diesel']\n",
       "3331                       ['', 'Used', '', 'Diesel']\n",
       "3343                       ['', 'Used', '', 'Diesel']\n",
       "3347                       ['', 'Used', '', 'Diesel']\n",
       "3363                       ['', 'Used', '', 'Diesel']\n",
       "3382                       ['', 'Used', '', 'Diesel']\n",
       "3388                       ['', 'Used', '', 'Diesel']\n",
       "3396                       ['', 'Used', '', 'Diesel']\n",
       "3397                       ['', 'Used', '', 'Diesel']\n",
       "3398  ['', 'Used', '', 'Diesel (Particulate Filter)']\n",
       "3585                       ['', 'Used', '', 'Diesel']\n",
       "3622                       ['', 'Used', '', 'Diesel']\n",
       "3624                       ['', 'Used', '', 'Diesel']\n",
       "3626                       ['', 'Used', '', 'Diesel']\n",
       "3627  ['', 'Used', '', 'Diesel (Particulate Filter)']\n",
       "3629                       ['', 'Used', '', 'Diesel']\n",
       "3630                       ['', 'Used', '', 'Diesel']\n",
       "3643                       ['', 'Used', '', 'Diesel']\n",
       "3646                       ['', 'Used', '', 'Diesel']\n",
       "3662  ['', 'Used', '', 'Diesel (Particulate Filter)']\n",
       "3746                       ['', 'Used', '', 'Diesel']\n",
       "4492                       ['', 'Used', '', 'Diesel']"
      ]
     },
     "execution_count": 13,
     "metadata": {},
     "output_type": "execute_result"
    }
   ],
   "source": [
    "type_rows_1 = scout_car[(scout_car['short_description'] == 'SPB 2.0 TDI S tronic Sport') & (scout_car['make_model'] == 'Audi A3')]\n",
    "type_rows_1[['Type']]"
   ]
  },
  {
   "cell_type": "code",
   "execution_count": 15,
   "id": "d2bbf780-7bee-42d8-bea0-7fe2c1ccf305",
   "metadata": {},
   "outputs": [
    {
     "data": {
      "text/html": [
       "<div>\n",
       "<style scoped>\n",
       "    .dataframe tbody tr th:only-of-type {\n",
       "        vertical-align: middle;\n",
       "    }\n",
       "\n",
       "    .dataframe tbody tr th {\n",
       "        vertical-align: top;\n",
       "    }\n",
       "\n",
       "    .dataframe thead th {\n",
       "        text-align: right;\n",
       "    }\n",
       "</style>\n",
       "<table border=\"1\" class=\"dataframe\">\n",
       "  <thead>\n",
       "    <tr style=\"text-align: right;\">\n",
       "      <th></th>\n",
       "      <th>Type</th>\n",
       "    </tr>\n",
       "  </thead>\n",
       "  <tbody>\n",
       "    <tr>\n",
       "      <th>3329</th>\n",
       "      <td>['', 'Used', '', 'Diesel']</td>\n",
       "    </tr>\n",
       "    <tr>\n",
       "      <th>3440</th>\n",
       "      <td>['', 'Used', '', 'Diesel']</td>\n",
       "    </tr>\n",
       "    <tr>\n",
       "      <th>3687</th>\n",
       "      <td>['', 'Used', '', 'Diesel']</td>\n",
       "    </tr>\n",
       "    <tr>\n",
       "      <th>3710</th>\n",
       "      <td>['', 'Used', '', 'Diesel']</td>\n",
       "    </tr>\n",
       "    <tr>\n",
       "      <th>3711</th>\n",
       "      <td>['', 'Used', '', 'Diesel']</td>\n",
       "    </tr>\n",
       "    <tr>\n",
       "      <th>3792</th>\n",
       "      <td>['', 'Used', '', 'Diesel (Particulate Filter)']</td>\n",
       "    </tr>\n",
       "    <tr>\n",
       "      <th>3874</th>\n",
       "      <td>['', 'Used', '', 'Diesel (Particulate Filter)']</td>\n",
       "    </tr>\n",
       "    <tr>\n",
       "      <th>3987</th>\n",
       "      <td>['', 'Used', '', 'Diesel']</td>\n",
       "    </tr>\n",
       "    <tr>\n",
       "      <th>4510</th>\n",
       "      <td>['', 'Used', '', 'Diesel (Particulate Filter)']</td>\n",
       "    </tr>\n",
       "    <tr>\n",
       "      <th>4544</th>\n",
       "      <td>['', 'Used', '', 'Diesel (Particulate Filter)']</td>\n",
       "    </tr>\n",
       "    <tr>\n",
       "      <th>5237</th>\n",
       "      <td>NaN</td>\n",
       "    </tr>\n",
       "    <tr>\n",
       "      <th>5329</th>\n",
       "      <td>['', 'Pre-registered', '', 'Diesel']</td>\n",
       "    </tr>\n",
       "  </tbody>\n",
       "</table>\n",
       "</div>"
      ],
      "text/plain": [
       "                                                 Type\n",
       "3329                       ['', 'Used', '', 'Diesel']\n",
       "3440                       ['', 'Used', '', 'Diesel']\n",
       "3687                       ['', 'Used', '', 'Diesel']\n",
       "3710                       ['', 'Used', '', 'Diesel']\n",
       "3711                       ['', 'Used', '', 'Diesel']\n",
       "3792  ['', 'Used', '', 'Diesel (Particulate Filter)']\n",
       "3874  ['', 'Used', '', 'Diesel (Particulate Filter)']\n",
       "3987                       ['', 'Used', '', 'Diesel']\n",
       "4510  ['', 'Used', '', 'Diesel (Particulate Filter)']\n",
       "4544  ['', 'Used', '', 'Diesel (Particulate Filter)']\n",
       "5237                                              NaN\n",
       "5329             ['', 'Pre-registered', '', 'Diesel']"
      ]
     },
     "execution_count": 15,
     "metadata": {},
     "output_type": "execute_result"
    }
   ],
   "source": [
    "type_rows_2 = scout_car[(scout_car['short_description'] == 'SPB 1.6 TDI 116 CV S tronic') & (scout_car['make_model'] == 'Audi A3')]\n",
    "type_rows_2[['Type']]"
   ]
  },
  {
   "cell_type": "code",
   "execution_count": null,
   "id": "63d4dc05-4b53-462c-aa9b-06b0822a5323",
   "metadata": {},
   "outputs": [],
   "source": []
  },
  {
   "cell_type": "code",
   "execution_count": null,
   "id": "fea2001d-5d08-4d44-9fb0-74a65e208156",
   "metadata": {},
   "outputs": [],
   "source": []
  },
  {
   "cell_type": "code",
   "execution_count": null,
   "id": "3a94fdbf-dd57-4d45-afc3-806de104f325",
   "metadata": {},
   "outputs": [],
   "source": []
  },
  {
   "cell_type": "code",
   "execution_count": null,
   "id": "8b993205-fea5-4fce-8859-1444d2be305d",
   "metadata": {},
   "outputs": [],
   "source": []
  },
  {
   "cell_type": "code",
   "execution_count": null,
   "id": "d47ea4e9-c9f9-4d16-99b2-24334386f4ce",
   "metadata": {},
   "outputs": [],
   "source": []
  },
  {
   "cell_type": "code",
   "execution_count": null,
   "id": "878961e7-2b4b-4e13-bb04-d43e5444240b",
   "metadata": {},
   "outputs": [],
   "source": []
  },
  {
   "cell_type": "code",
   "execution_count": null,
   "id": "14686abf-7853-4bb5-8d1a-5670eefed85c",
   "metadata": {},
   "outputs": [],
   "source": []
  },
  {
   "cell_type": "code",
   "execution_count": null,
   "id": "8f35e0f2-2378-4056-9bbe-0d48fc5bb965",
   "metadata": {},
   "outputs": [],
   "source": []
  },
  {
   "cell_type": "code",
   "execution_count": null,
   "id": "7efc4bf2-d543-49f4-825e-268bb16d2f90",
   "metadata": {},
   "outputs": [],
   "source": []
  },
  {
   "cell_type": "code",
   "execution_count": null,
   "id": "c154bff6-c724-4edd-b3eb-26dc5fe19c41",
   "metadata": {},
   "outputs": [],
   "source": []
  },
  {
   "cell_type": "code",
   "execution_count": null,
   "id": "2b216851-39a0-4e26-a0c1-6964ace2a377",
   "metadata": {},
   "outputs": [],
   "source": []
  },
  {
   "cell_type": "code",
   "execution_count": null,
   "id": "c62c670f-4fb6-4f4a-a052-7e22b46839d3",
   "metadata": {},
   "outputs": [],
   "source": []
  },
  {
   "cell_type": "code",
   "execution_count": null,
   "id": "8e1ae1bf-ccaf-4d67-b052-0c09f3e95c12",
   "metadata": {},
   "outputs": [],
   "source": []
  },
  {
   "cell_type": "code",
   "execution_count": null,
   "id": "b768396e-7832-4a17-a141-dfdb88d6dec8",
   "metadata": {},
   "outputs": [],
   "source": []
  },
  {
   "cell_type": "markdown",
   "id": "ec1f93cb-3211-4ba3-a860-69d55fafeade",
   "metadata": {},
   "source": [
    "# INSPECTION? INSPECTION NEW? what is this?"
   ]
  },
  {
   "cell_type": "code",
   "execution_count": 39,
   "id": "3c42eb53-3b1b-44b4-88dd-2a1d1a39e306",
   "metadata": {},
   "outputs": [
    {
     "data": {
      "text/html": [
       "<div>\n",
       "<style scoped>\n",
       "    .dataframe tbody tr th:only-of-type {\n",
       "        vertical-align: middle;\n",
       "    }\n",
       "\n",
       "    .dataframe tbody tr th {\n",
       "        vertical-align: top;\n",
       "    }\n",
       "\n",
       "    .dataframe thead th {\n",
       "        text-align: right;\n",
       "    }\n",
       "</style>\n",
       "<table border=\"1\" class=\"dataframe\">\n",
       "  <thead>\n",
       "    <tr style=\"text-align: right;\">\n",
       "      <th></th>\n",
       "      <th>Next Inspection</th>\n",
       "      <th>Inspection new</th>\n",
       "    </tr>\n",
       "  </thead>\n",
       "  <tbody>\n",
       "    <tr>\n",
       "      <th>0</th>\n",
       "      <td>['\\n06/2021\\n', '\\n99 g CO2/km (comb)\\n']</td>\n",
       "      <td>['\\nYes\\n', '\\nEuro 6\\n']</td>\n",
       "    </tr>\n",
       "    <tr>\n",
       "      <th>1</th>\n",
       "      <td>NaN</td>\n",
       "      <td>NaN</td>\n",
       "    </tr>\n",
       "    <tr>\n",
       "      <th>2</th>\n",
       "      <td>NaN</td>\n",
       "      <td>NaN</td>\n",
       "    </tr>\n",
       "    <tr>\n",
       "      <th>3</th>\n",
       "      <td>NaN</td>\n",
       "      <td>NaN</td>\n",
       "    </tr>\n",
       "    <tr>\n",
       "      <th>4</th>\n",
       "      <td>NaN</td>\n",
       "      <td>['\\nYes\\n', '\\n109 g CO2/km (comb)\\n']</td>\n",
       "    </tr>\n",
       "    <tr>\n",
       "      <th>...</th>\n",
       "      <td>...</td>\n",
       "      <td>...</td>\n",
       "    </tr>\n",
       "    <tr>\n",
       "      <th>15914</th>\n",
       "      <td>NaN</td>\n",
       "      <td>NaN</td>\n",
       "    </tr>\n",
       "    <tr>\n",
       "      <th>15915</th>\n",
       "      <td>['\\n01/2022\\n', '\\n168 g CO2/km (comb)\\n']</td>\n",
       "      <td>NaN</td>\n",
       "    </tr>\n",
       "    <tr>\n",
       "      <th>15916</th>\n",
       "      <td>NaN</td>\n",
       "      <td>['\\nYes\\n', '\\nEuro 6d-TEMP\\n']</td>\n",
       "    </tr>\n",
       "    <tr>\n",
       "      <th>15917</th>\n",
       "      <td>NaN</td>\n",
       "      <td>NaN</td>\n",
       "    </tr>\n",
       "    <tr>\n",
       "      <th>15918</th>\n",
       "      <td>NaN</td>\n",
       "      <td>['\\nYes\\n', '\\n153 g CO2/km (comb)\\n']</td>\n",
       "    </tr>\n",
       "  </tbody>\n",
       "</table>\n",
       "<p>15919 rows × 2 columns</p>\n",
       "</div>"
      ],
      "text/plain": [
       "                                  Next Inspection  \\\n",
       "0       ['\\n06/2021\\n', '\\n99 g CO2/km (comb)\\n']   \n",
       "1                                             NaN   \n",
       "2                                             NaN   \n",
       "3                                             NaN   \n",
       "4                                             NaN   \n",
       "...                                           ...   \n",
       "15914                                         NaN   \n",
       "15915  ['\\n01/2022\\n', '\\n168 g CO2/km (comb)\\n']   \n",
       "15916                                         NaN   \n",
       "15917                                         NaN   \n",
       "15918                                         NaN   \n",
       "\n",
       "                               Inspection new  \n",
       "0                   ['\\nYes\\n', '\\nEuro 6\\n']  \n",
       "1                                         NaN  \n",
       "2                                         NaN  \n",
       "3                                         NaN  \n",
       "4      ['\\nYes\\n', '\\n109 g CO2/km (comb)\\n']  \n",
       "...                                       ...  \n",
       "15914                                     NaN  \n",
       "15915                                     NaN  \n",
       "15916         ['\\nYes\\n', '\\nEuro 6d-TEMP\\n']  \n",
       "15917                                     NaN  \n",
       "15918  ['\\nYes\\n', '\\n153 g CO2/km (comb)\\n']  \n",
       "\n",
       "[15919 rows x 2 columns]"
      ]
     },
     "execution_count": 39,
     "metadata": {},
     "output_type": "execute_result"
    }
   ],
   "source": [
    "inspection_df = scout_car[['Next Inspection', 'Inspection new']]\n",
    "inspection_df"
   ]
  },
  {
   "cell_type": "code",
   "execution_count": null,
   "id": "5eac97ba-97d5-4601-b57b-c2f7ededf143",
   "metadata": {},
   "outputs": [],
   "source": []
  },
  {
   "cell_type": "code",
   "execution_count": null,
   "id": "5c6f8af6-1374-4203-a835-7fb38bffde1c",
   "metadata": {},
   "outputs": [],
   "source": []
  },
  {
   "cell_type": "markdown",
   "id": "ce91e994-393f-470a-89d5-9828eabf3855",
   "metadata": {},
   "source": [
    "# WARRANTY"
   ]
  },
  {
   "cell_type": "code",
   "execution_count": 40,
   "id": "1117815f-ba90-4535-9a00-d6c705130640",
   "metadata": {},
   "outputs": [
    {
     "data": {
      "text/html": [
       "<div>\n",
       "<style scoped>\n",
       "    .dataframe tbody tr th:only-of-type {\n",
       "        vertical-align: middle;\n",
       "    }\n",
       "\n",
       "    .dataframe tbody tr th {\n",
       "        vertical-align: top;\n",
       "    }\n",
       "\n",
       "    .dataframe thead th {\n",
       "        text-align: right;\n",
       "    }\n",
       "</style>\n",
       "<table border=\"1\" class=\"dataframe\">\n",
       "  <thead>\n",
       "    <tr style=\"text-align: right;\">\n",
       "      <th></th>\n",
       "      <th>Warranty</th>\n",
       "    </tr>\n",
       "  </thead>\n",
       "  <tbody>\n",
       "    <tr>\n",
       "      <th>0</th>\n",
       "      <td>['\\n', '\\n', '\\n4 (Green)\\n']</td>\n",
       "    </tr>\n",
       "    <tr>\n",
       "      <th>1</th>\n",
       "      <td>NaN</td>\n",
       "    </tr>\n",
       "    <tr>\n",
       "      <th>2</th>\n",
       "      <td>['\\n', '\\n', '\\n99 g CO2/km (comb)\\n']</td>\n",
       "    </tr>\n",
       "    <tr>\n",
       "      <th>3</th>\n",
       "      <td>NaN</td>\n",
       "    </tr>\n",
       "    <tr>\n",
       "      <th>4</th>\n",
       "      <td>['\\n', '\\n', '\\nEuro 6\\n']</td>\n",
       "    </tr>\n",
       "    <tr>\n",
       "      <th>...</th>\n",
       "      <td>...</td>\n",
       "    </tr>\n",
       "    <tr>\n",
       "      <th>15914</th>\n",
       "      <td>\\n24 months\\n</td>\n",
       "    </tr>\n",
       "    <tr>\n",
       "      <th>15915</th>\n",
       "      <td>['\\n', '\\n', '\\nEuro 6\\n']</td>\n",
       "    </tr>\n",
       "    <tr>\n",
       "      <th>15916</th>\n",
       "      <td>['\\n', '\\n', '\\n4 (Green)\\n']</td>\n",
       "    </tr>\n",
       "    <tr>\n",
       "      <th>15917</th>\n",
       "      <td>\\n</td>\n",
       "    </tr>\n",
       "    <tr>\n",
       "      <th>15918</th>\n",
       "      <td>NaN</td>\n",
       "    </tr>\n",
       "  </tbody>\n",
       "</table>\n",
       "<p>15919 rows × 1 columns</p>\n",
       "</div>"
      ],
      "text/plain": [
       "                                     Warranty\n",
       "0               ['\\n', '\\n', '\\n4 (Green)\\n']\n",
       "1                                         NaN\n",
       "2      ['\\n', '\\n', '\\n99 g CO2/km (comb)\\n']\n",
       "3                                         NaN\n",
       "4                  ['\\n', '\\n', '\\nEuro 6\\n']\n",
       "...                                       ...\n",
       "15914                           \\n24 months\\n\n",
       "15915              ['\\n', '\\n', '\\nEuro 6\\n']\n",
       "15916           ['\\n', '\\n', '\\n4 (Green)\\n']\n",
       "15917                                      \\n\n",
       "15918                                     NaN\n",
       "\n",
       "[15919 rows x 1 columns]"
      ]
     },
     "execution_count": 40,
     "metadata": {},
     "output_type": "execute_result"
    }
   ],
   "source": [
    "scout_car[['Warranty']]"
   ]
  },
  {
   "cell_type": "code",
   "execution_count": null,
   "id": "20af2807-112c-4070-9c95-4164159067f5",
   "metadata": {},
   "outputs": [],
   "source": []
  },
  {
   "cell_type": "code",
   "execution_count": null,
   "id": "84969e54-8ad8-4669-9365-9dced1e36dce",
   "metadata": {},
   "outputs": [],
   "source": []
  },
  {
   "cell_type": "code",
   "execution_count": null,
   "id": "f1238d15-0dcb-4a24-b1e9-c0e4997be986",
   "metadata": {},
   "outputs": [],
   "source": []
  },
  {
   "cell_type": "code",
   "execution_count": null,
   "id": "5b94b5b9-169a-4ca8-8efc-20cfef966bb0",
   "metadata": {},
   "outputs": [],
   "source": []
  },
  {
   "cell_type": "markdown",
   "id": "9bae7113-c378-4530-8644-08c3844188ce",
   "metadata": {},
   "source": [
    "# MODEL CODE?"
   ]
  },
  {
   "cell_type": "code",
   "execution_count": null,
   "id": "d69bcf11-75e9-48dc-a4a5-24232403fafd",
   "metadata": {},
   "outputs": [],
   "source": []
  },
  {
   "cell_type": "code",
   "execution_count": null,
   "id": "83014d85-10d5-4e5c-b4cd-ad056d3e2496",
   "metadata": {},
   "outputs": [],
   "source": []
  },
  {
   "cell_type": "code",
   "execution_count": null,
   "id": "bfa67a23-680a-45ff-8851-41ed0a9cac1d",
   "metadata": {},
   "outputs": [],
   "source": []
  },
  {
   "cell_type": "code",
   "execution_count": null,
   "id": "fda05406-293e-4600-97d7-b42054e5d2d5",
   "metadata": {},
   "outputs": [],
   "source": []
  },
  {
   "cell_type": "markdown",
   "id": "9dc6cc9c-7290-480e-876d-bebeda12a38e",
   "metadata": {},
   "source": [
    "# FUEL TYPES?\n"
   ]
  },
  {
   "cell_type": "code",
   "execution_count": null,
   "id": "61d96992-0e44-46e4-8447-1987b37f5f95",
   "metadata": {},
   "outputs": [],
   "source": []
  },
  {
   "cell_type": "code",
   "execution_count": null,
   "id": "20695c64-b46d-4646-ac68-93fcc183138b",
   "metadata": {},
   "outputs": [],
   "source": []
  },
  {
   "cell_type": "code",
   "execution_count": null,
   "id": "60b524dc-06e6-463b-bb2d-924b238973e6",
   "metadata": {},
   "outputs": [],
   "source": []
  },
  {
   "cell_type": "code",
   "execution_count": null,
   "id": "b8fe59fa-3aed-4318-8c3b-2113698e3685",
   "metadata": {},
   "outputs": [],
   "source": []
  },
  {
   "cell_type": "code",
   "execution_count": null,
   "id": "a9ad0a8b-a0dc-4e85-8d69-7543c8198b92",
   "metadata": {},
   "outputs": [],
   "source": []
  },
  {
   "cell_type": "code",
   "execution_count": null,
   "id": "d5af07d2-a7db-4935-b89a-a5df306b8fd0",
   "metadata": {},
   "outputs": [],
   "source": []
  },
  {
   "cell_type": "markdown",
   "id": "bd15e6a6-9fdb-408d-bcfb-ad8519a66986",
   "metadata": {},
   "source": [
    "# Curiosity - Body Color?"
   ]
  },
  {
   "cell_type": "code",
   "execution_count": 34,
   "id": "a116fd24-b508-42f2-bd33-f23a5e295365",
   "metadata": {},
   "outputs": [
    {
     "data": {
      "text/plain": [
       "Body Color\n",
       "['\\n', 'Black', '\\n']     3745\n",
       "['\\n', 'Grey', '\\n']      3505\n",
       "['\\n', 'White', '\\n']     3406\n",
       "['\\n', 'Silver', '\\n']    1647\n",
       "['\\n', 'Blue', '\\n']      1431\n",
       "['\\n', 'Red', '\\n']        957\n",
       "['\\n', 'Brown', '\\n']      289\n",
       "['\\n', 'Green', '\\n']      154\n",
       "['\\n', 'Beige', '\\n']      108\n",
       "['\\n', 'Yellow', '\\n']      51\n",
       "['\\n', 'Violet', '\\n']      18\n",
       "['\\n', 'Bronze', '\\n']       6\n",
       "['\\n', 'Orange', '\\n']       3\n",
       "['\\n', 'Gold', '\\n']         2\n",
       "Name: count, dtype: int64"
      ]
     },
     "execution_count": 34,
     "metadata": {},
     "output_type": "execute_result"
    }
   ],
   "source": [
    "scout_car['Body Color'].value_counts()"
   ]
  },
  {
   "cell_type": "code",
   "execution_count": 35,
   "id": "48111260-ee8e-4827-aa69-c70a9181b161",
   "metadata": {},
   "outputs": [
    {
     "data": {
      "text/plain": [
       "Body Color Original\n",
       "['\\nOnyx Schwarz\\n']                     338\n",
       "['\\nBianco\\n']                           282\n",
       "['\\nMythosschwarz Metallic\\n']           238\n",
       "['\\nBrillantschwarz\\n']                  216\n",
       "['\\nGris\\n']                             204\n",
       "                                        ... \n",
       "['\\nRouge-Braun (G0Y)\\n']                  1\n",
       "['\\nVARI COLRI DISPONIBILI\\n']             1\n",
       "['\\nKokosnussbraun Metallic\\n']            1\n",
       "['\\nFarbe frei wählbar\\n']                 1\n",
       "['\\nPerlmutt-Weiß Metallic (Weiß)\\n']      1\n",
       "Name: count, Length: 1927, dtype: int64"
      ]
     },
     "execution_count": 35,
     "metadata": {},
     "output_type": "execute_result"
    }
   ],
   "source": [
    "scout_car['Body Color Original'].value_counts()"
   ]
  },
  {
   "cell_type": "code",
   "execution_count": null,
   "id": "bdb40c69-bbcd-4338-806a-111a26896bbd",
   "metadata": {},
   "outputs": [],
   "source": []
  },
  {
   "cell_type": "code",
   "execution_count": null,
   "id": "c7a14f50-f3b7-4d71-a9b1-8d1760d3cdf9",
   "metadata": {},
   "outputs": [],
   "source": []
  },
  {
   "cell_type": "code",
   "execution_count": null,
   "id": "887af9b9-0d1a-4cce-955f-e258f70fc1f7",
   "metadata": {},
   "outputs": [],
   "source": []
  },
  {
   "cell_type": "code",
   "execution_count": null,
   "id": "0b542bc7-7478-4556-a6d8-36496b2de589",
   "metadata": {},
   "outputs": [],
   "source": []
  },
  {
   "cell_type": "code",
   "execution_count": null,
   "id": "dfd7bcdc-00ce-4bd4-9c01-270a707475c7",
   "metadata": {},
   "outputs": [],
   "source": []
  },
  {
   "cell_type": "code",
   "execution_count": null,
   "id": "0aed6543-e6c8-49f1-8658-9219ef121992",
   "metadata": {},
   "outputs": [],
   "source": []
  },
  {
   "cell_type": "markdown",
   "id": "fb0f9b4c-047f-4a3b-a5c4-4ea5677385bf",
   "metadata": {},
   "source": [
    "# MAKE AND MODEL"
   ]
  },
  {
   "cell_type": "markdown",
   "id": "0ce85779-c375-40e5-acca-b83bd5220a34",
   "metadata": {},
   "source": [
    "This is to verify that the make_model column accurately matches up with \"Make\" and \"Model\". All data is correct."
   ]
  },
  {
   "cell_type": "code",
   "execution_count": 23,
   "id": "97d97c04-daae-4709-b6f1-dfcbb7f10029",
   "metadata": {},
   "outputs": [
    {
     "data": {
      "text/html": [
       "<div>\n",
       "<style scoped>\n",
       "    .dataframe tbody tr th:only-of-type {\n",
       "        vertical-align: middle;\n",
       "    }\n",
       "\n",
       "    .dataframe tbody tr th {\n",
       "        vertical-align: top;\n",
       "    }\n",
       "\n",
       "    .dataframe thead th {\n",
       "        text-align: right;\n",
       "    }\n",
       "</style>\n",
       "<table border=\"1\" class=\"dataframe\">\n",
       "  <thead>\n",
       "    <tr style=\"text-align: right;\">\n",
       "      <th></th>\n",
       "      <th>make_model</th>\n",
       "      <th>Make</th>\n",
       "      <th>Model</th>\n",
       "    </tr>\n",
       "  </thead>\n",
       "  <tbody>\n",
       "    <tr>\n",
       "      <th>0</th>\n",
       "      <td>Audi A1</td>\n",
       "      <td>\\nAudi\\n</td>\n",
       "      <td>['\\n', 'A1', '\\n']</td>\n",
       "    </tr>\n",
       "    <tr>\n",
       "      <th>1</th>\n",
       "      <td>Audi A1</td>\n",
       "      <td>\\nAudi\\n</td>\n",
       "      <td>['\\n', 'A1', '\\n']</td>\n",
       "    </tr>\n",
       "    <tr>\n",
       "      <th>2</th>\n",
       "      <td>Audi A1</td>\n",
       "      <td>\\nAudi\\n</td>\n",
       "      <td>['\\n', 'A1', '\\n']</td>\n",
       "    </tr>\n",
       "    <tr>\n",
       "      <th>3</th>\n",
       "      <td>Audi A1</td>\n",
       "      <td>\\nAudi\\n</td>\n",
       "      <td>['\\n', 'A1', '\\n']</td>\n",
       "    </tr>\n",
       "    <tr>\n",
       "      <th>4</th>\n",
       "      <td>Audi A1</td>\n",
       "      <td>\\nAudi\\n</td>\n",
       "      <td>['\\n', 'A1', '\\n']</td>\n",
       "    </tr>\n",
       "    <tr>\n",
       "      <th>...</th>\n",
       "      <td>...</td>\n",
       "      <td>...</td>\n",
       "      <td>...</td>\n",
       "    </tr>\n",
       "    <tr>\n",
       "      <th>15914</th>\n",
       "      <td>Renault Espace</td>\n",
       "      <td>\\nRenault\\n</td>\n",
       "      <td>['\\n', 'Espace', '\\n']</td>\n",
       "    </tr>\n",
       "    <tr>\n",
       "      <th>15915</th>\n",
       "      <td>Renault Espace</td>\n",
       "      <td>\\nRenault\\n</td>\n",
       "      <td>['\\n', 'Espace', '\\n']</td>\n",
       "    </tr>\n",
       "    <tr>\n",
       "      <th>15916</th>\n",
       "      <td>Renault Espace</td>\n",
       "      <td>\\nRenault\\n</td>\n",
       "      <td>['\\n', 'Espace', '\\n']</td>\n",
       "    </tr>\n",
       "    <tr>\n",
       "      <th>15917</th>\n",
       "      <td>Renault Espace</td>\n",
       "      <td>\\nRenault\\n</td>\n",
       "      <td>['\\n', 'Espace', '\\n']</td>\n",
       "    </tr>\n",
       "    <tr>\n",
       "      <th>15918</th>\n",
       "      <td>Renault Espace</td>\n",
       "      <td>\\nRenault\\n</td>\n",
       "      <td>['\\n', 'Espace', '\\n']</td>\n",
       "    </tr>\n",
       "  </tbody>\n",
       "</table>\n",
       "<p>15919 rows × 3 columns</p>\n",
       "</div>"
      ],
      "text/plain": [
       "           make_model         Make                   Model\n",
       "0             Audi A1     \\nAudi\\n      ['\\n', 'A1', '\\n']\n",
       "1             Audi A1     \\nAudi\\n      ['\\n', 'A1', '\\n']\n",
       "2             Audi A1     \\nAudi\\n      ['\\n', 'A1', '\\n']\n",
       "3             Audi A1     \\nAudi\\n      ['\\n', 'A1', '\\n']\n",
       "4             Audi A1     \\nAudi\\n      ['\\n', 'A1', '\\n']\n",
       "...               ...          ...                     ...\n",
       "15914  Renault Espace  \\nRenault\\n  ['\\n', 'Espace', '\\n']\n",
       "15915  Renault Espace  \\nRenault\\n  ['\\n', 'Espace', '\\n']\n",
       "15916  Renault Espace  \\nRenault\\n  ['\\n', 'Espace', '\\n']\n",
       "15917  Renault Espace  \\nRenault\\n  ['\\n', 'Espace', '\\n']\n",
       "15918  Renault Espace  \\nRenault\\n  ['\\n', 'Espace', '\\n']\n",
       "\n",
       "[15919 rows x 3 columns]"
      ]
     },
     "execution_count": 23,
     "metadata": {},
     "output_type": "execute_result"
    }
   ],
   "source": [
    "make_model_df = scout_car[['make_model', 'Make', 'Model']]\n",
    "make_model_df"
   ]
  },
  {
   "cell_type": "code",
   "execution_count": 29,
   "id": "739c862f-4804-44a8-9478-b9fa5d76f745",
   "metadata": {},
   "outputs": [
    {
     "name": "stderr",
     "output_type": "stream",
     "text": [
      "/var/folders/cf/4zrkk0lx1nbdx9tpklpk4jc00000gn/T/ipykernel_61937/3710455448.py:1: SettingWithCopyWarning: \n",
      "A value is trying to be set on a copy of a slice from a DataFrame.\n",
      "Try using .loc[row_indexer,col_indexer] = value instead\n",
      "\n",
      "See the caveats in the documentation: https://pandas.pydata.org/pandas-docs/stable/user_guide/indexing.html#returning-a-view-versus-a-copy\n",
      "  make_model_df['new concat'] = make_model_df['Make'] + make_model_df['Model']\n"
     ]
    },
    {
     "data": {
      "text/html": [
       "<div>\n",
       "<style scoped>\n",
       "    .dataframe tbody tr th:only-of-type {\n",
       "        vertical-align: middle;\n",
       "    }\n",
       "\n",
       "    .dataframe tbody tr th {\n",
       "        vertical-align: top;\n",
       "    }\n",
       "\n",
       "    .dataframe thead th {\n",
       "        text-align: right;\n",
       "    }\n",
       "</style>\n",
       "<table border=\"1\" class=\"dataframe\">\n",
       "  <thead>\n",
       "    <tr style=\"text-align: right;\">\n",
       "      <th></th>\n",
       "      <th>make_model</th>\n",
       "      <th>Make</th>\n",
       "      <th>Model</th>\n",
       "      <th>new concat</th>\n",
       "    </tr>\n",
       "  </thead>\n",
       "  <tbody>\n",
       "    <tr>\n",
       "      <th>0</th>\n",
       "      <td>Audi A1</td>\n",
       "      <td>\\nAudi\\n</td>\n",
       "      <td>['\\n', 'A1', '\\n']</td>\n",
       "      <td>\\nAudi\\n['\\n', 'A1', '\\n']</td>\n",
       "    </tr>\n",
       "    <tr>\n",
       "      <th>1</th>\n",
       "      <td>Audi A1</td>\n",
       "      <td>\\nAudi\\n</td>\n",
       "      <td>['\\n', 'A1', '\\n']</td>\n",
       "      <td>\\nAudi\\n['\\n', 'A1', '\\n']</td>\n",
       "    </tr>\n",
       "    <tr>\n",
       "      <th>2</th>\n",
       "      <td>Audi A1</td>\n",
       "      <td>\\nAudi\\n</td>\n",
       "      <td>['\\n', 'A1', '\\n']</td>\n",
       "      <td>\\nAudi\\n['\\n', 'A1', '\\n']</td>\n",
       "    </tr>\n",
       "    <tr>\n",
       "      <th>3</th>\n",
       "      <td>Audi A1</td>\n",
       "      <td>\\nAudi\\n</td>\n",
       "      <td>['\\n', 'A1', '\\n']</td>\n",
       "      <td>\\nAudi\\n['\\n', 'A1', '\\n']</td>\n",
       "    </tr>\n",
       "    <tr>\n",
       "      <th>4</th>\n",
       "      <td>Audi A1</td>\n",
       "      <td>\\nAudi\\n</td>\n",
       "      <td>['\\n', 'A1', '\\n']</td>\n",
       "      <td>\\nAudi\\n['\\n', 'A1', '\\n']</td>\n",
       "    </tr>\n",
       "    <tr>\n",
       "      <th>...</th>\n",
       "      <td>...</td>\n",
       "      <td>...</td>\n",
       "      <td>...</td>\n",
       "      <td>...</td>\n",
       "    </tr>\n",
       "    <tr>\n",
       "      <th>15914</th>\n",
       "      <td>Renault Espace</td>\n",
       "      <td>\\nRenault\\n</td>\n",
       "      <td>['\\n', 'Espace', '\\n']</td>\n",
       "      <td>\\nRenault\\n['\\n', 'Espace', '\\n']</td>\n",
       "    </tr>\n",
       "    <tr>\n",
       "      <th>15915</th>\n",
       "      <td>Renault Espace</td>\n",
       "      <td>\\nRenault\\n</td>\n",
       "      <td>['\\n', 'Espace', '\\n']</td>\n",
       "      <td>\\nRenault\\n['\\n', 'Espace', '\\n']</td>\n",
       "    </tr>\n",
       "    <tr>\n",
       "      <th>15916</th>\n",
       "      <td>Renault Espace</td>\n",
       "      <td>\\nRenault\\n</td>\n",
       "      <td>['\\n', 'Espace', '\\n']</td>\n",
       "      <td>\\nRenault\\n['\\n', 'Espace', '\\n']</td>\n",
       "    </tr>\n",
       "    <tr>\n",
       "      <th>15917</th>\n",
       "      <td>Renault Espace</td>\n",
       "      <td>\\nRenault\\n</td>\n",
       "      <td>['\\n', 'Espace', '\\n']</td>\n",
       "      <td>\\nRenault\\n['\\n', 'Espace', '\\n']</td>\n",
       "    </tr>\n",
       "    <tr>\n",
       "      <th>15918</th>\n",
       "      <td>Renault Espace</td>\n",
       "      <td>\\nRenault\\n</td>\n",
       "      <td>['\\n', 'Espace', '\\n']</td>\n",
       "      <td>\\nRenault\\n['\\n', 'Espace', '\\n']</td>\n",
       "    </tr>\n",
       "  </tbody>\n",
       "</table>\n",
       "<p>15919 rows × 4 columns</p>\n",
       "</div>"
      ],
      "text/plain": [
       "           make_model         Make                   Model  \\\n",
       "0             Audi A1     \\nAudi\\n      ['\\n', 'A1', '\\n']   \n",
       "1             Audi A1     \\nAudi\\n      ['\\n', 'A1', '\\n']   \n",
       "2             Audi A1     \\nAudi\\n      ['\\n', 'A1', '\\n']   \n",
       "3             Audi A1     \\nAudi\\n      ['\\n', 'A1', '\\n']   \n",
       "4             Audi A1     \\nAudi\\n      ['\\n', 'A1', '\\n']   \n",
       "...               ...          ...                     ...   \n",
       "15914  Renault Espace  \\nRenault\\n  ['\\n', 'Espace', '\\n']   \n",
       "15915  Renault Espace  \\nRenault\\n  ['\\n', 'Espace', '\\n']   \n",
       "15916  Renault Espace  \\nRenault\\n  ['\\n', 'Espace', '\\n']   \n",
       "15917  Renault Espace  \\nRenault\\n  ['\\n', 'Espace', '\\n']   \n",
       "15918  Renault Espace  \\nRenault\\n  ['\\n', 'Espace', '\\n']   \n",
       "\n",
       "                              new concat  \n",
       "0             \\nAudi\\n['\\n', 'A1', '\\n']  \n",
       "1             \\nAudi\\n['\\n', 'A1', '\\n']  \n",
       "2             \\nAudi\\n['\\n', 'A1', '\\n']  \n",
       "3             \\nAudi\\n['\\n', 'A1', '\\n']  \n",
       "4             \\nAudi\\n['\\n', 'A1', '\\n']  \n",
       "...                                  ...  \n",
       "15914  \\nRenault\\n['\\n', 'Espace', '\\n']  \n",
       "15915  \\nRenault\\n['\\n', 'Espace', '\\n']  \n",
       "15916  \\nRenault\\n['\\n', 'Espace', '\\n']  \n",
       "15917  \\nRenault\\n['\\n', 'Espace', '\\n']  \n",
       "15918  \\nRenault\\n['\\n', 'Espace', '\\n']  \n",
       "\n",
       "[15919 rows x 4 columns]"
      ]
     },
     "execution_count": 29,
     "metadata": {},
     "output_type": "execute_result"
    }
   ],
   "source": [
    "make_model_df['new concat'] = make_model_df['Make'] + make_model_df['Model']\n",
    "make_model_df"
   ]
  },
  {
   "cell_type": "code",
   "execution_count": 30,
   "id": "383e098f-dc52-4709-ac97-10ab0e4170c1",
   "metadata": {},
   "outputs": [
    {
     "data": {
      "text/plain": [
       "new concat\n",
       "\\nAudi\\n['\\n', 'A3', '\\n']           3097\n",
       "\\nAudi\\n['\\n', 'A1', '\\n']           2614\n",
       "\\nOpel\\n['\\n', 'Insignia', '\\n']     2598\n",
       "\\nOpel\\n['\\n', 'Astra', '\\n']        2526\n",
       "\\nOpel\\n['\\n', 'Corsa', '\\n']        2219\n",
       "\\nRenault\\n['\\n', 'Clio', '\\n']      1839\n",
       "\\nRenault\\n['\\n', 'Espace', '\\n']     991\n",
       "\\nRenault\\n['\\n', 'Duster', '\\n']      34\n",
       "\\nAudi\\n['\\n', 'A2', '\\n']              1\n",
       "Name: count, dtype: int64"
      ]
     },
     "execution_count": 30,
     "metadata": {},
     "output_type": "execute_result"
    }
   ],
   "source": [
    "make_model_df['new concat'].value_counts()"
   ]
  },
  {
   "cell_type": "code",
   "execution_count": 28,
   "id": "9ebff376-b813-4e7e-82ce-7d239ee16bf5",
   "metadata": {},
   "outputs": [
    {
     "data": {
      "text/plain": [
       "make_model\n",
       "Audi A3           3097\n",
       "Audi A1           2614\n",
       "Opel Insignia     2598\n",
       "Opel Astra        2526\n",
       "Opel Corsa        2219\n",
       "Renault Clio      1839\n",
       "Renault Espace     991\n",
       "Renault Duster      34\n",
       "Audi A2              1\n",
       "Name: count, dtype: int64"
      ]
     },
     "execution_count": 28,
     "metadata": {},
     "output_type": "execute_result"
    }
   ],
   "source": [
    "make_model_df['make_model'].value_counts()"
   ]
  },
  {
   "cell_type": "code",
   "execution_count": null,
   "id": "3e88ed96-58b4-4d4d-9a3b-31e552534da8",
   "metadata": {},
   "outputs": [],
   "source": []
  },
  {
   "cell_type": "code",
   "execution_count": null,
   "id": "528e6414-a4ac-48eb-b3ca-1583ce2b3cec",
   "metadata": {},
   "outputs": [],
   "source": []
  },
  {
   "cell_type": "code",
   "execution_count": null,
   "id": "507f028f-5e27-4c96-adc7-2c61afd79f10",
   "metadata": {},
   "outputs": [],
   "source": []
  },
  {
   "cell_type": "code",
   "execution_count": null,
   "id": "d045cf21-47b0-420f-b1b1-67e6cba0e002",
   "metadata": {},
   "outputs": [],
   "source": []
  },
  {
   "cell_type": "code",
   "execution_count": null,
   "id": "208a6977-5311-450e-97e2-09f68ac9d714",
   "metadata": {},
   "outputs": [],
   "source": []
  },
  {
   "cell_type": "code",
   "execution_count": null,
   "id": "7d1359ce-41de-4c97-b94b-a05d4c73a20d",
   "metadata": {},
   "outputs": [],
   "source": []
  },
  {
   "cell_type": "code",
   "execution_count": null,
   "id": "f89e7892-b8b4-4c0b-b771-e1c275307d1d",
   "metadata": {},
   "outputs": [],
   "source": []
  },
  {
   "cell_type": "code",
   "execution_count": null,
   "id": "696c957c-d063-4116-a752-ec2391b81ace",
   "metadata": {},
   "outputs": [],
   "source": []
  },
  {
   "cell_type": "code",
   "execution_count": null,
   "id": "fbd151f1-07ef-4813-8eb9-cecac816798e",
   "metadata": {},
   "outputs": [],
   "source": []
  },
  {
   "cell_type": "code",
   "execution_count": null,
   "id": "363f0e49-d225-45d8-9657-99b33eb7fb22",
   "metadata": {},
   "outputs": [],
   "source": []
  },
  {
   "cell_type": "markdown",
   "id": "531f5075-61d4-4568-a7ae-0f21a86bbdb8",
   "metadata": {},
   "source": [
    "# PREVIOUS OWNERS"
   ]
  },
  {
   "cell_type": "markdown",
   "id": "3caa6b75-42cb-4831-bff9-64920700a060",
   "metadata": {},
   "source": [
    "SUMMARY - Can extract the first number from \"Previous Owners\" and delete \"prev_owner\" altogether as I have verified data matches. Will also have to strip trailing whitespace."
   ]
  },
  {
   "cell_type": "code",
   "execution_count": 11,
   "id": "a526dc34-554c-46a1-8430-136e67b8d794",
   "metadata": {},
   "outputs": [
    {
     "data": {
      "text/plain": [
       "102"
      ]
     },
     "execution_count": 11,
     "metadata": {},
     "output_type": "execute_result"
    }
   ],
   "source": [
    "scout_car['Previous Owners'].nunique()"
   ]
  },
  {
   "cell_type": "code",
   "execution_count": 12,
   "id": "cf1af450-b210-4431-99be-7093a352097b",
   "metadata": {},
   "outputs": [
    {
     "data": {
      "text/plain": [
       "4"
      ]
     },
     "execution_count": 12,
     "metadata": {},
     "output_type": "execute_result"
    }
   ],
   "source": [
    "scout_car['prev_owner'].nunique()"
   ]
  },
  {
   "cell_type": "code",
   "execution_count": null,
   "id": "f980a599-60c9-4780-88b7-e31314cfe12f",
   "metadata": {},
   "outputs": [],
   "source": []
  },
  {
   "cell_type": "code",
   "execution_count": 13,
   "id": "ee55b3be-c837-4e0c-af6f-269f93c27ca5",
   "metadata": {},
   "outputs": [
    {
     "data": {
      "text/html": [
       "<div>\n",
       "<style scoped>\n",
       "    .dataframe tbody tr th:only-of-type {\n",
       "        vertical-align: middle;\n",
       "    }\n",
       "\n",
       "    .dataframe tbody tr th {\n",
       "        vertical-align: top;\n",
       "    }\n",
       "\n",
       "    .dataframe thead th {\n",
       "        text-align: right;\n",
       "    }\n",
       "</style>\n",
       "<table border=\"1\" class=\"dataframe\">\n",
       "  <thead>\n",
       "    <tr style=\"text-align: right;\">\n",
       "      <th></th>\n",
       "      <th>Previous Owners</th>\n",
       "      <th>prev_owner</th>\n",
       "    </tr>\n",
       "  </thead>\n",
       "  <tbody>\n",
       "    <tr>\n",
       "      <th>0</th>\n",
       "      <td>\\n2\\n</td>\n",
       "      <td>2 previous owners</td>\n",
       "    </tr>\n",
       "    <tr>\n",
       "      <th>1</th>\n",
       "      <td>NaN</td>\n",
       "      <td>None</td>\n",
       "    </tr>\n",
       "    <tr>\n",
       "      <th>2</th>\n",
       "      <td>\\n1\\n</td>\n",
       "      <td>1 previous owner</td>\n",
       "    </tr>\n",
       "    <tr>\n",
       "      <th>3</th>\n",
       "      <td>\\n1\\n</td>\n",
       "      <td>1 previous owner</td>\n",
       "    </tr>\n",
       "    <tr>\n",
       "      <th>4</th>\n",
       "      <td>\\n1\\n</td>\n",
       "      <td>1 previous owner</td>\n",
       "    </tr>\n",
       "    <tr>\n",
       "      <th>...</th>\n",
       "      <td>...</td>\n",
       "      <td>...</td>\n",
       "    </tr>\n",
       "    <tr>\n",
       "      <th>15914</th>\n",
       "      <td>NaN</td>\n",
       "      <td>None</td>\n",
       "    </tr>\n",
       "    <tr>\n",
       "      <th>15915</th>\n",
       "      <td>['\\n1\\n', '\\n', '7.4 l/100 km (comb)', '\\n', '...</td>\n",
       "      <td>1 previous owner</td>\n",
       "    </tr>\n",
       "    <tr>\n",
       "      <th>15916</th>\n",
       "      <td>['\\n1\\n', '\\n139 g CO2/km (comb)\\n']</td>\n",
       "      <td>1 previous owner</td>\n",
       "    </tr>\n",
       "    <tr>\n",
       "      <th>15917</th>\n",
       "      <td>NaN</td>\n",
       "      <td>None</td>\n",
       "    </tr>\n",
       "    <tr>\n",
       "      <th>15918</th>\n",
       "      <td>\\n1\\n</td>\n",
       "      <td>1 previous owner</td>\n",
       "    </tr>\n",
       "  </tbody>\n",
       "</table>\n",
       "<p>15919 rows × 2 columns</p>\n",
       "</div>"
      ],
      "text/plain": [
       "                                         Previous Owners         prev_owner\n",
       "0                                                  \\n2\\n  2 previous owners\n",
       "1                                                    NaN               None\n",
       "2                                                  \\n1\\n   1 previous owner\n",
       "3                                                  \\n1\\n   1 previous owner\n",
       "4                                                  \\n1\\n   1 previous owner\n",
       "...                                                  ...                ...\n",
       "15914                                                NaN               None\n",
       "15915  ['\\n1\\n', '\\n', '7.4 l/100 km (comb)', '\\n', '...   1 previous owner\n",
       "15916               ['\\n1\\n', '\\n139 g CO2/km (comb)\\n']   1 previous owner\n",
       "15917                                                NaN               None\n",
       "15918                                              \\n1\\n   1 previous owner\n",
       "\n",
       "[15919 rows x 2 columns]"
      ]
     },
     "execution_count": 13,
     "metadata": {},
     "output_type": "execute_result"
    }
   ],
   "source": [
    "prev_owners_df = scout_car[['Previous Owners', 'prev_owner']]\n",
    "prev_owners_df"
   ]
  },
  {
   "cell_type": "code",
   "execution_count": 14,
   "id": "faeac359-bd99-443a-b629-9e494c3b963c",
   "metadata": {},
   "outputs": [
    {
     "data": {
      "text/plain": [
       "Previous Owners\n",
       "\\n1\\n                                                                                                        8101\n",
       "\\n2\\n                                                                                                         766\n",
       "\\n0\\n                                                                                                         163\n",
       "\\n3\\n                                                                                                          17\n",
       "['\\n1\\n', '\\n168 g CO2/km (comb)\\n']                                                                           13\n",
       "                                                                                                             ... \n",
       "['\\n1\\n', '\\n111 g CO2/km (comb)\\n']                                                                            1\n",
       "['\\n1\\n', '\\nEuro 6\\n']                                                                                         1\n",
       "['\\n2\\n', '\\n119 g CO2/km (comb)\\n']                                                                            1\n",
       "['\\n1\\n', '\\n', '6.6 l/100 km (comb)', '\\n', '8.1 l/100 km (city)', '\\n', '5.7 l/100 km (country)', '\\n']       1\n",
       "['\\n1\\n', '\\n142 g CO2/km (comb)\\n']                                                                            1\n",
       "Name: count, Length: 102, dtype: int64"
      ]
     },
     "execution_count": 14,
     "metadata": {},
     "output_type": "execute_result"
    }
   ],
   "source": [
    "prev_owners_df['Previous Owners'].value_counts()"
   ]
  },
  {
   "cell_type": "code",
   "execution_count": 15,
   "id": "17ea5b57-5e99-4c03-adc7-fe4fd8437112",
   "metadata": {},
   "outputs": [
    {
     "name": "stderr",
     "output_type": "stream",
     "text": [
      "/var/folders/cf/4zrkk0lx1nbdx9tpklpk4jc00000gn/T/ipykernel_61937/4241681372.py:1: SettingWithCopyWarning: \n",
      "A value is trying to be set on a copy of a slice from a DataFrame.\n",
      "Try using .loc[row_indexer,col_indexer] = value instead\n",
      "\n",
      "See the caveats in the documentation: https://pandas.pydata.org/pandas-docs/stable/user_guide/indexing.html#returning-a-view-versus-a-copy\n",
      "  prev_owners_df['Previous Owners'] = prev_owners_df['Previous Owners'].str.extract(r'(\\d+)')\n",
      "/var/folders/cf/4zrkk0lx1nbdx9tpklpk4jc00000gn/T/ipykernel_61937/4241681372.py:2: SettingWithCopyWarning: \n",
      "A value is trying to be set on a copy of a slice from a DataFrame.\n",
      "Try using .loc[row_indexer,col_indexer] = value instead\n",
      "\n",
      "See the caveats in the documentation: https://pandas.pydata.org/pandas-docs/stable/user_guide/indexing.html#returning-a-view-versus-a-copy\n",
      "  prev_owners_df['prev_owner'] = prev_owners_df['prev_owner'].str.extract(r'(\\d+)')\n",
      "/var/folders/cf/4zrkk0lx1nbdx9tpklpk4jc00000gn/T/ipykernel_61937/4241681372.py:3: SettingWithCopyWarning: \n",
      "A value is trying to be set on a copy of a slice from a DataFrame.\n",
      "Try using .loc[row_indexer,col_indexer] = value instead\n",
      "\n",
      "See the caveats in the documentation: https://pandas.pydata.org/pandas-docs/stable/user_guide/indexing.html#returning-a-view-versus-a-copy\n",
      "  prev_owners_df['Previous Owners'] = prev_owners_df['Previous Owners'].fillna(0)\n",
      "/var/folders/cf/4zrkk0lx1nbdx9tpklpk4jc00000gn/T/ipykernel_61937/4241681372.py:4: SettingWithCopyWarning: \n",
      "A value is trying to be set on a copy of a slice from a DataFrame.\n",
      "Try using .loc[row_indexer,col_indexer] = value instead\n",
      "\n",
      "See the caveats in the documentation: https://pandas.pydata.org/pandas-docs/stable/user_guide/indexing.html#returning-a-view-versus-a-copy\n",
      "  prev_owners_df['prev_owner'] = prev_owners_df['Previous Owners'].fillna(0)\n",
      "/var/folders/cf/4zrkk0lx1nbdx9tpklpk4jc00000gn/T/ipykernel_61937/4241681372.py:5: SettingWithCopyWarning: \n",
      "A value is trying to be set on a copy of a slice from a DataFrame.\n",
      "Try using .loc[row_indexer,col_indexer] = value instead\n",
      "\n",
      "See the caveats in the documentation: https://pandas.pydata.org/pandas-docs/stable/user_guide/indexing.html#returning-a-view-versus-a-copy\n",
      "  prev_owners_df['values_same'] = (prev_owners_df['Previous Owners'] == prev_owners_df['prev_owner']).astype(int)\n"
     ]
    },
    {
     "data": {
      "text/html": [
       "<div>\n",
       "<style scoped>\n",
       "    .dataframe tbody tr th:only-of-type {\n",
       "        vertical-align: middle;\n",
       "    }\n",
       "\n",
       "    .dataframe tbody tr th {\n",
       "        vertical-align: top;\n",
       "    }\n",
       "\n",
       "    .dataframe thead th {\n",
       "        text-align: right;\n",
       "    }\n",
       "</style>\n",
       "<table border=\"1\" class=\"dataframe\">\n",
       "  <thead>\n",
       "    <tr style=\"text-align: right;\">\n",
       "      <th></th>\n",
       "      <th>Previous Owners</th>\n",
       "      <th>prev_owner</th>\n",
       "      <th>values_same</th>\n",
       "    </tr>\n",
       "  </thead>\n",
       "  <tbody>\n",
       "    <tr>\n",
       "      <th>0</th>\n",
       "      <td>2</td>\n",
       "      <td>2</td>\n",
       "      <td>1</td>\n",
       "    </tr>\n",
       "    <tr>\n",
       "      <th>1</th>\n",
       "      <td>0</td>\n",
       "      <td>0</td>\n",
       "      <td>1</td>\n",
       "    </tr>\n",
       "    <tr>\n",
       "      <th>2</th>\n",
       "      <td>1</td>\n",
       "      <td>1</td>\n",
       "      <td>1</td>\n",
       "    </tr>\n",
       "    <tr>\n",
       "      <th>3</th>\n",
       "      <td>1</td>\n",
       "      <td>1</td>\n",
       "      <td>1</td>\n",
       "    </tr>\n",
       "    <tr>\n",
       "      <th>4</th>\n",
       "      <td>1</td>\n",
       "      <td>1</td>\n",
       "      <td>1</td>\n",
       "    </tr>\n",
       "    <tr>\n",
       "      <th>...</th>\n",
       "      <td>...</td>\n",
       "      <td>...</td>\n",
       "      <td>...</td>\n",
       "    </tr>\n",
       "    <tr>\n",
       "      <th>15914</th>\n",
       "      <td>0</td>\n",
       "      <td>0</td>\n",
       "      <td>1</td>\n",
       "    </tr>\n",
       "    <tr>\n",
       "      <th>15915</th>\n",
       "      <td>1</td>\n",
       "      <td>1</td>\n",
       "      <td>1</td>\n",
       "    </tr>\n",
       "    <tr>\n",
       "      <th>15916</th>\n",
       "      <td>1</td>\n",
       "      <td>1</td>\n",
       "      <td>1</td>\n",
       "    </tr>\n",
       "    <tr>\n",
       "      <th>15917</th>\n",
       "      <td>0</td>\n",
       "      <td>0</td>\n",
       "      <td>1</td>\n",
       "    </tr>\n",
       "    <tr>\n",
       "      <th>15918</th>\n",
       "      <td>1</td>\n",
       "      <td>1</td>\n",
       "      <td>1</td>\n",
       "    </tr>\n",
       "  </tbody>\n",
       "</table>\n",
       "<p>15919 rows × 3 columns</p>\n",
       "</div>"
      ],
      "text/plain": [
       "      Previous Owners prev_owner  values_same\n",
       "0                   2          2            1\n",
       "1                   0          0            1\n",
       "2                   1          1            1\n",
       "3                   1          1            1\n",
       "4                   1          1            1\n",
       "...               ...        ...          ...\n",
       "15914               0          0            1\n",
       "15915               1          1            1\n",
       "15916               1          1            1\n",
       "15917               0          0            1\n",
       "15918               1          1            1\n",
       "\n",
       "[15919 rows x 3 columns]"
      ]
     },
     "execution_count": 15,
     "metadata": {},
     "output_type": "execute_result"
    }
   ],
   "source": [
    "prev_owners_df['Previous Owners'] = prev_owners_df['Previous Owners'].str.extract(r'(\\d+)')\n",
    "prev_owners_df['prev_owner'] = prev_owners_df['prev_owner'].str.extract(r'(\\d+)')\n",
    "prev_owners_df['Previous Owners'] = prev_owners_df['Previous Owners'].fillna(0)\n",
    "prev_owners_df['prev_owner'] = prev_owners_df['Previous Owners'].fillna(0)\n",
    "prev_owners_df['values_same'] = (prev_owners_df['Previous Owners'] == prev_owners_df['prev_owner']).astype(int)\n",
    "prev_owners_df"
   ]
  },
  {
   "cell_type": "code",
   "execution_count": null,
   "id": "2f58089b-03f3-49dd-8ca2-9daef9c756f2",
   "metadata": {},
   "outputs": [],
   "source": []
  },
  {
   "cell_type": "code",
   "execution_count": 16,
   "id": "a6f88670-0d78-4ff0-ba1b-72f3fec4e911",
   "metadata": {},
   "outputs": [
    {
     "data": {
      "text/plain": [
       "Previous Owners\n",
       "1    8294\n",
       "0    6640\n",
       "2     778\n",
       "0     188\n",
       "3      17\n",
       "4       2\n",
       "Name: count, dtype: int64"
      ]
     },
     "execution_count": 16,
     "metadata": {},
     "output_type": "execute_result"
    }
   ],
   "source": [
    "prev_owners_df['Previous Owners'].value_counts()"
   ]
  },
  {
   "cell_type": "markdown",
   "id": "d62cc468-6892-44c3-bbef-fdff744ca9dd",
   "metadata": {},
   "source": [
    "# SECOND ATTEMPT"
   ]
  },
  {
   "cell_type": "code",
   "execution_count": 17,
   "id": "95f74c01-9162-4176-9d90-8503cdc73b5e",
   "metadata": {},
   "outputs": [
    {
     "name": "stderr",
     "output_type": "stream",
     "text": [
      "/var/folders/cf/4zrkk0lx1nbdx9tpklpk4jc00000gn/T/ipykernel_61937/789326089.py:2: SettingWithCopyWarning: \n",
      "A value is trying to be set on a copy of a slice from a DataFrame.\n",
      "Try using .loc[row_indexer,col_indexer] = value instead\n",
      "\n",
      "See the caveats in the documentation: https://pandas.pydata.org/pandas-docs/stable/user_guide/indexing.html#returning-a-view-versus-a-copy\n",
      "  prev_owners_df['Previous Owners'] = prev_owners_df['Previous Owners'].astype(str).str.strip()\n",
      "/var/folders/cf/4zrkk0lx1nbdx9tpklpk4jc00000gn/T/ipykernel_61937/789326089.py:5: SettingWithCopyWarning: \n",
      "A value is trying to be set on a copy of a slice from a DataFrame.\n",
      "Try using .loc[row_indexer,col_indexer] = value instead\n",
      "\n",
      "See the caveats in the documentation: https://pandas.pydata.org/pandas-docs/stable/user_guide/indexing.html#returning-a-view-versus-a-copy\n",
      "  prev_owners_df['Previous Owners'] = prev_owners_df['Previous Owners'].replace('nan', pd.NA)\n",
      "/var/folders/cf/4zrkk0lx1nbdx9tpklpk4jc00000gn/T/ipykernel_61937/789326089.py:8: SettingWithCopyWarning: \n",
      "A value is trying to be set on a copy of a slice from a DataFrame.\n",
      "Try using .loc[row_indexer,col_indexer] = value instead\n",
      "\n",
      "See the caveats in the documentation: https://pandas.pydata.org/pandas-docs/stable/user_guide/indexing.html#returning-a-view-versus-a-copy\n",
      "  prev_owners_df['Previous Owners'] = pd.to_numeric(prev_owners_df['Previous Owners'], errors='coerce').astype('Int64')\n"
     ]
    }
   ],
   "source": [
    "# Step 1: Convert to string and strip whitespace\n",
    "prev_owners_df['Previous Owners'] = prev_owners_df['Previous Owners'].astype(str).str.strip()\n",
    "\n",
    "# Step 2: Replace 'nan' strings back with real NaN\n",
    "prev_owners_df['Previous Owners'] = prev_owners_df['Previous Owners'].replace('nan', pd.NA)\n",
    "\n",
    "# Step 3: Convert to numeric (coerce errors), then to Int64 (nullable integer type)\n",
    "prev_owners_df['Previous Owners'] = pd.to_numeric(prev_owners_df['Previous Owners'], errors='coerce').astype('Int64')"
   ]
  },
  {
   "cell_type": "code",
   "execution_count": 18,
   "id": "5bb43993-be99-44b8-b31f-5a1dd257c8dd",
   "metadata": {},
   "outputs": [
    {
     "name": "stdout",
     "output_type": "stream",
     "text": [
      "Previous Owners\n",
      "1    8294\n",
      "0    6828\n",
      "2     778\n",
      "3      17\n",
      "4       2\n",
      "Name: count, dtype: Int64\n"
     ]
    }
   ],
   "source": [
    "print(prev_owners_df['Previous Owners'].value_counts(dropna=False))"
   ]
  },
  {
   "cell_type": "code",
   "execution_count": 22,
   "id": "1bea5a0d-3841-45b0-827d-99540520a12d",
   "metadata": {},
   "outputs": [
    {
     "data": {
      "text/plain": [
       "Previous Owners\n",
       "1    8294\n",
       "0    6828\n",
       "2     778\n",
       "3      17\n",
       "4       2\n",
       "Name: count, dtype: Int64"
      ]
     },
     "execution_count": 22,
     "metadata": {},
     "output_type": "execute_result"
    }
   ],
   "source": [
    "prev_owners_df['Previous Owners'].value_counts()"
   ]
  },
  {
   "cell_type": "code",
   "execution_count": 19,
   "id": "c8838998-0ea6-4480-9e02-dda3a483e37b",
   "metadata": {},
   "outputs": [
    {
     "data": {
      "text/plain": [
       "prev_owner\n",
       "1    8294\n",
       "0    6640\n",
       "2     778\n",
       "0     188\n",
       "3      17\n",
       "4       2\n",
       "Name: count, dtype: int64"
      ]
     },
     "execution_count": 19,
     "metadata": {},
     "output_type": "execute_result"
    }
   ],
   "source": [
    "prev_owners_df['prev_owner'].value_counts()"
   ]
  },
  {
   "cell_type": "code",
   "execution_count": null,
   "id": "a7ee1eb6-94c9-4ecd-80cc-473ea16adb14",
   "metadata": {},
   "outputs": [],
   "source": []
  },
  {
   "cell_type": "code",
   "execution_count": null,
   "id": "5d38bc23-fb23-4646-9f1b-a987fe03ca84",
   "metadata": {},
   "outputs": [],
   "source": []
  },
  {
   "cell_type": "code",
   "execution_count": null,
   "id": "68f42748-3455-4e4a-bee2-5959652b8ccf",
   "metadata": {},
   "outputs": [],
   "source": []
  },
  {
   "cell_type": "code",
   "execution_count": null,
   "id": "48bc5e64-566c-4cff-a8eb-6c74484e8b22",
   "metadata": {},
   "outputs": [],
   "source": []
  },
  {
   "cell_type": "code",
   "execution_count": null,
   "id": "81a5de0e-d0aa-4d09-b9ce-3ed20da54113",
   "metadata": {},
   "outputs": [],
   "source": []
  },
  {
   "cell_type": "code",
   "execution_count": null,
   "id": "f6330e52-5f5c-42b6-bee3-115016616406",
   "metadata": {},
   "outputs": [],
   "source": []
  },
  {
   "cell_type": "code",
   "execution_count": null,
   "id": "086e89b5-089c-4517-a09e-91f34990d6ad",
   "metadata": {},
   "outputs": [],
   "source": []
  },
  {
   "cell_type": "code",
   "execution_count": null,
   "id": "09c080bd-d149-4d9b-b229-9515ead71679",
   "metadata": {},
   "outputs": [],
   "source": []
  },
  {
   "cell_type": "code",
   "execution_count": null,
   "id": "c5d043cd-60b9-42b2-83f8-c89a344a3bd2",
   "metadata": {},
   "outputs": [],
   "source": []
  },
  {
   "cell_type": "code",
   "execution_count": null,
   "id": "b660b619-d28e-41a6-84d1-4379ba94064b",
   "metadata": {},
   "outputs": [],
   "source": []
  },
  {
   "cell_type": "code",
   "execution_count": null,
   "id": "7fd1b62c-0a83-4bde-96cd-6710c9a2b11a",
   "metadata": {},
   "outputs": [],
   "source": []
  },
  {
   "cell_type": "markdown",
   "id": "a63fcf90-2b1b-4773-bb6e-671f3f527b41",
   "metadata": {},
   "source": [
    "# Newest version"
   ]
  },
  {
   "cell_type": "code",
   "execution_count": null,
   "id": "567cdbe8-cbfb-48a6-9322-6566b234289e",
   "metadata": {},
   "outputs": [],
   "source": [
    "import pandas as pd\n",
    "import ast\n",
    "\n",
    "# Step 0: Clean column names (strip whitespace/newlines)\n",
    "scout_car.columns = scout_car.columns.str.strip()\n",
    "\n",
    "# Reset index to clean RangeIndex to avoid join misalignment\n",
    "scout_car = scout_car.reset_index(drop=True)\n",
    "\n",
    "def expand_features(df, col_name):\n",
    "    def to_list(val):\n",
    "        if isinstance(val, str):\n",
    "            try:\n",
    "                return ast.literal_eval(val)\n",
    "            except:\n",
    "                return []\n",
    "        elif isinstance(val, list):\n",
    "            return val\n",
    "        else:\n",
    "            return []\n",
    "\n",
    "    df[col_name] = df[col_name].apply(to_list)\n",
    "    exploded = df[col_name].explode()\n",
    "    features_presence = pd.crosstab(exploded.index, exploded).astype(int)\n",
    "    return features_presence\n",
    "\n",
    "cols_to_expand = ['Comfort & Convenience', 'Entertainment & Media', 'Extras', 'Safety & Security']\n",
    "\n",
    "for col in cols_to_expand:\n",
    "    features_df = expand_features(scout_car, col)\n",
    "    scout_car = scout_car.join(features_df)\n",
    "    \n",
    "    # Fill NaNs with 0 after join\n",
    "    scout_car[features_df.columns] = scout_car[features_df.columns].fillna(0)\n",
    "    \n",
    "    # Convert to int dtype explicitly\n",
    "    scout_car[features_df.columns] = scout_car[features_df.columns].astype(int)\n",
    "\n",
    "# Now scout_car has binary 0/1 integer columns for all features, no suffixes, no decimals"
   ]
  },
  {
   "cell_type": "markdown",
   "id": "2ff9f19c-5684-451d-b7af-312fa60fa2bc",
   "metadata": {},
   "source": [
    "# Safety backup functoin"
   ]
  },
  {
   "cell_type": "code",
   "execution_count": null,
   "id": "d64646fc-41df-410e-bf08-4f13c54648c8",
   "metadata": {},
   "outputs": [],
   "source": [
    "import pandas as pd\n",
    "import ast\n",
    "\n",
    "# Step 0: Clean column names (strip whitespace/newlines)\n",
    "scout_car.columns = scout_car.columns.str.strip()\n",
    "\n",
    "def expand_features(df, col_name):\n",
    "    # Convert strings to lists if needed\n",
    "    def to_list(val):\n",
    "        if isinstance(val, str):\n",
    "            try:\n",
    "                return ast.literal_eval(val)\n",
    "            except:\n",
    "                return []\n",
    "        elif isinstance(val, list):\n",
    "            return val\n",
    "        else:\n",
    "            return []\n",
    "    \n",
    "    df[col_name] = df[col_name].apply(to_list)\n",
    "    exploded = df[col_name].explode()\n",
    "    features_presence = pd.crosstab(exploded.index, exploded).astype(int)\n",
    "    return features_presence\n",
    "\n",
    "# List of columns to expand\n",
    "cols_to_expand = ['Comfort & Convenience', 'Entertainment & Media', 'Extras', 'Safety & Security']\n",
    "\n",
    "# Loop and join all expanded features\n",
    "for col in cols_to_expand:\n",
    "    features_df = expand_features(scout_car, col)\n",
    "    scout_car = scout_car.join(features_df, rsuffix=f'_{col}')\n",
    "\n",
    "# Now scout_car has binary columns (integers 0 or 1) for all features in those columns."
   ]
  }
 ],
 "metadata": {
  "kernelspec": {
   "display_name": "Python 3 (ipykernel)",
   "language": "python",
   "name": "python3"
  },
  "language_info": {
   "codemirror_mode": {
    "name": "ipython",
    "version": 3
   },
   "file_extension": ".py",
   "mimetype": "text/x-python",
   "name": "python",
   "nbconvert_exporter": "python",
   "pygments_lexer": "ipython3",
   "version": "3.12.4"
  }
 },
 "nbformat": 4,
 "nbformat_minor": 5
}
