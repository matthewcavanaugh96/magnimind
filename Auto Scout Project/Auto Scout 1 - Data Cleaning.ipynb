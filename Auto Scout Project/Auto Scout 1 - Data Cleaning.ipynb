{
 "cells": [
  {
   "cell_type": "markdown",
   "id": "c22a7a67-9ed4-4fd0-85d3-68ba0ee72e8c",
   "metadata": {},
   "source": [
    "IDEA FOR LATER - \"description\" is useless for machine analysis in its current form, and dummy variables will be unintelligible. But what if I used sentiment analysis and assigned a score accordingly? Would have to translate first, how reliable would translations be?"
   ]
  },
  {
   "cell_type": "code",
   "execution_count": 1,
   "id": "37c7c066-ab3b-4ce2-b0f5-748a59c0c7dd",
   "metadata": {},
   "outputs": [],
   "source": [
    "import pandas as pd\n",
    "import numpy as np\n",
    "import re\n",
    "import ast"
   ]
  },
  {
   "cell_type": "code",
   "execution_count": 2,
   "id": "fb18db3a-c7ea-40b5-b8a4-00de4262e087",
   "metadata": {},
   "outputs": [
    {
     "data": {
      "text/html": [
       "<div>\n",
       "<style scoped>\n",
       "    .dataframe tbody tr th:only-of-type {\n",
       "        vertical-align: middle;\n",
       "    }\n",
       "\n",
       "    .dataframe tbody tr th {\n",
       "        vertical-align: top;\n",
       "    }\n",
       "\n",
       "    .dataframe thead th {\n",
       "        text-align: right;\n",
       "    }\n",
       "</style>\n",
       "<table border=\"1\" class=\"dataframe\">\n",
       "  <thead>\n",
       "    <tr style=\"text-align: right;\">\n",
       "      <th></th>\n",
       "      <th>url</th>\n",
       "      <th>make_model</th>\n",
       "      <th>short_description</th>\n",
       "      <th>body_type</th>\n",
       "      <th>price</th>\n",
       "      <th>vat</th>\n",
       "      <th>km</th>\n",
       "      <th>registration</th>\n",
       "      <th>prev_owner</th>\n",
       "      <th>kW</th>\n",
       "      <th>...</th>\n",
       "      <th>description</th>\n",
       "      <th>Emission Label</th>\n",
       "      <th>Gears</th>\n",
       "      <th>Country version</th>\n",
       "      <th>Electricity consumption</th>\n",
       "      <th>Last Service Date</th>\n",
       "      <th>Other Fuel Types</th>\n",
       "      <th>Availability</th>\n",
       "      <th>Last Timing Belt Service Date</th>\n",
       "      <th>Available from</th>\n",
       "    </tr>\n",
       "  </thead>\n",
       "  <tbody>\n",
       "    <tr>\n",
       "      <th>0</th>\n",
       "      <td>https://www.autoscout24.com//offers/audi-a1-sp...</td>\n",
       "      <td>Audi A1</td>\n",
       "      <td>Sportback 1.4 TDI S-tronic Xenon Navi Klima</td>\n",
       "      <td>Sedans</td>\n",
       "      <td>15770</td>\n",
       "      <td>VAT deductible</td>\n",
       "      <td>56,013 km</td>\n",
       "      <td>01/2016</td>\n",
       "      <td>2 previous owners</td>\n",
       "      <td>NaN</td>\n",
       "      <td>...</td>\n",
       "      <td>[\\n, Sicherheit:,  , Deaktivierung für Beifahr...</td>\n",
       "      <td>NaN</td>\n",
       "      <td>NaN</td>\n",
       "      <td>NaN</td>\n",
       "      <td>NaN</td>\n",
       "      <td>NaN</td>\n",
       "      <td>NaN</td>\n",
       "      <td>NaN</td>\n",
       "      <td>NaN</td>\n",
       "      <td>NaN</td>\n",
       "    </tr>\n",
       "    <tr>\n",
       "      <th>1</th>\n",
       "      <td>https://www.autoscout24.com//offers/audi-a1-1-...</td>\n",
       "      <td>Audi A1</td>\n",
       "      <td>1.8 TFSI sport</td>\n",
       "      <td>Sedans</td>\n",
       "      <td>14500</td>\n",
       "      <td>Price negotiable</td>\n",
       "      <td>80,000 km</td>\n",
       "      <td>03/2017</td>\n",
       "      <td>None</td>\n",
       "      <td>NaN</td>\n",
       "      <td>...</td>\n",
       "      <td>[\\nLangstreckenfahrzeug daher die hohe Kilomet...</td>\n",
       "      <td>[\\n4 (Green)\\n]</td>\n",
       "      <td>[\\n7\\n]</td>\n",
       "      <td>NaN</td>\n",
       "      <td>NaN</td>\n",
       "      <td>NaN</td>\n",
       "      <td>NaN</td>\n",
       "      <td>NaN</td>\n",
       "      <td>NaN</td>\n",
       "      <td>NaN</td>\n",
       "    </tr>\n",
       "    <tr>\n",
       "      <th>2</th>\n",
       "      <td>https://www.autoscout24.com//offers/audi-a1-sp...</td>\n",
       "      <td>Audi A1</td>\n",
       "      <td>Sportback 1.6 TDI S tronic Einparkhilfe plus+m...</td>\n",
       "      <td>Sedans</td>\n",
       "      <td>14640</td>\n",
       "      <td>VAT deductible</td>\n",
       "      <td>83,450 km</td>\n",
       "      <td>02/2016</td>\n",
       "      <td>1 previous owner</td>\n",
       "      <td>NaN</td>\n",
       "      <td>...</td>\n",
       "      <td>[\\n, Fahrzeug-Nummer: AM-95365,  , Ehem. UPE 2...</td>\n",
       "      <td>[\\n4 (Green)\\n]</td>\n",
       "      <td>NaN</td>\n",
       "      <td>NaN</td>\n",
       "      <td>NaN</td>\n",
       "      <td>NaN</td>\n",
       "      <td>NaN</td>\n",
       "      <td>NaN</td>\n",
       "      <td>NaN</td>\n",
       "      <td>NaN</td>\n",
       "    </tr>\n",
       "    <tr>\n",
       "      <th>3</th>\n",
       "      <td>https://www.autoscout24.com//offers/audi-a1-1-...</td>\n",
       "      <td>Audi A1</td>\n",
       "      <td>1.4 TDi Design S tronic</td>\n",
       "      <td>Sedans</td>\n",
       "      <td>14500</td>\n",
       "      <td>None</td>\n",
       "      <td>73,000 km</td>\n",
       "      <td>08/2016</td>\n",
       "      <td>1 previous owner</td>\n",
       "      <td>NaN</td>\n",
       "      <td>...</td>\n",
       "      <td>[\\nAudi A1: , - 1e eigenaar , - Perfecte staat...</td>\n",
       "      <td>NaN</td>\n",
       "      <td>[\\n6\\n]</td>\n",
       "      <td>NaN</td>\n",
       "      <td>NaN</td>\n",
       "      <td>NaN</td>\n",
       "      <td>NaN</td>\n",
       "      <td>NaN</td>\n",
       "      <td>NaN</td>\n",
       "      <td>NaN</td>\n",
       "    </tr>\n",
       "    <tr>\n",
       "      <th>4</th>\n",
       "      <td>https://www.autoscout24.com//offers/audi-a1-sp...</td>\n",
       "      <td>Audi A1</td>\n",
       "      <td>Sportback 1.4 TDI S-Tronic S-Line Ext. admired...</td>\n",
       "      <td>Sedans</td>\n",
       "      <td>16790</td>\n",
       "      <td>None</td>\n",
       "      <td>16,200 km</td>\n",
       "      <td>05/2016</td>\n",
       "      <td>1 previous owner</td>\n",
       "      <td>NaN</td>\n",
       "      <td>...</td>\n",
       "      <td>[\\n, Technik &amp; Sicherheit:, Xenon plus, Klimaa...</td>\n",
       "      <td>NaN</td>\n",
       "      <td>NaN</td>\n",
       "      <td>[\\nGermany\\n]</td>\n",
       "      <td>NaN</td>\n",
       "      <td>NaN</td>\n",
       "      <td>NaN</td>\n",
       "      <td>NaN</td>\n",
       "      <td>NaN</td>\n",
       "      <td>NaN</td>\n",
       "    </tr>\n",
       "  </tbody>\n",
       "</table>\n",
       "<p>5 rows × 54 columns</p>\n",
       "</div>"
      ],
      "text/plain": [
       "                                                 url make_model  \\\n",
       "0  https://www.autoscout24.com//offers/audi-a1-sp...    Audi A1   \n",
       "1  https://www.autoscout24.com//offers/audi-a1-1-...    Audi A1   \n",
       "2  https://www.autoscout24.com//offers/audi-a1-sp...    Audi A1   \n",
       "3  https://www.autoscout24.com//offers/audi-a1-1-...    Audi A1   \n",
       "4  https://www.autoscout24.com//offers/audi-a1-sp...    Audi A1   \n",
       "\n",
       "                                   short_description body_type  price  \\\n",
       "0        Sportback 1.4 TDI S-tronic Xenon Navi Klima    Sedans  15770   \n",
       "1                                     1.8 TFSI sport    Sedans  14500   \n",
       "2  Sportback 1.6 TDI S tronic Einparkhilfe plus+m...    Sedans  14640   \n",
       "3                            1.4 TDi Design S tronic    Sedans  14500   \n",
       "4  Sportback 1.4 TDI S-Tronic S-Line Ext. admired...    Sedans  16790   \n",
       "\n",
       "                vat         km registration         prev_owner  kW  ...  \\\n",
       "0    VAT deductible  56,013 km      01/2016  2 previous owners NaN  ...   \n",
       "1  Price negotiable  80,000 km      03/2017               None NaN  ...   \n",
       "2    VAT deductible  83,450 km      02/2016   1 previous owner NaN  ...   \n",
       "3              None  73,000 km      08/2016   1 previous owner NaN  ...   \n",
       "4              None  16,200 km      05/2016   1 previous owner NaN  ...   \n",
       "\n",
       "                                         description   Emission Label  \\\n",
       "0  [\\n, Sicherheit:,  , Deaktivierung für Beifahr...              NaN   \n",
       "1  [\\nLangstreckenfahrzeug daher die hohe Kilomet...  [\\n4 (Green)\\n]   \n",
       "2  [\\n, Fahrzeug-Nummer: AM-95365,  , Ehem. UPE 2...  [\\n4 (Green)\\n]   \n",
       "3  [\\nAudi A1: , - 1e eigenaar , - Perfecte staat...              NaN   \n",
       "4  [\\n, Technik & Sicherheit:, Xenon plus, Klimaa...              NaN   \n",
       "\n",
       "     Gears Country version Electricity consumption Last Service Date  \\\n",
       "0      NaN             NaN                     NaN               NaN   \n",
       "1  [\\n7\\n]             NaN                     NaN               NaN   \n",
       "2      NaN             NaN                     NaN               NaN   \n",
       "3  [\\n6\\n]             NaN                     NaN               NaN   \n",
       "4      NaN   [\\nGermany\\n]                     NaN               NaN   \n",
       "\n",
       "  Other Fuel Types Availability Last Timing Belt Service Date Available from  \n",
       "0              NaN          NaN                           NaN            NaN  \n",
       "1              NaN          NaN                           NaN            NaN  \n",
       "2              NaN          NaN                           NaN            NaN  \n",
       "3              NaN          NaN                           NaN            NaN  \n",
       "4              NaN          NaN                           NaN            NaN  \n",
       "\n",
       "[5 rows x 54 columns]"
      ]
     },
     "execution_count": 2,
     "metadata": {},
     "output_type": "execute_result"
    }
   ],
   "source": [
    "scout_car = pd.read_json('scout_car.json', lines=True)\n",
    "scout_car.head()"
   ]
  },
  {
   "cell_type": "code",
   "execution_count": 3,
   "id": "09345021-9133-4e82-84ec-142b4c8c53db",
   "metadata": {},
   "outputs": [
    {
     "data": {
      "text/plain": [
       "Index(['url', 'make_model', 'short_description', 'body_type', 'price', 'vat',\n",
       "       'km', 'registration', 'prev_owner', 'kW', 'hp', 'Type',\n",
       "       'Previous Owners', 'Next Inspection', 'Inspection new', 'Warranty',\n",
       "       'Full Service', 'Non-smoking Vehicle', 'null', 'Make', 'Model',\n",
       "       'Offer Number', 'First Registration', 'Body Color', 'Paint Type',\n",
       "       'Body Color Original', 'Upholstery', 'Body', 'Nr. of Doors',\n",
       "       'Nr. of Seats', 'Model Code', 'Gearing Type', 'Displacement',\n",
       "       'Cylinders', 'Weight', 'Drive chain', 'Fuel', 'Consumption',\n",
       "       'CO2 Emission', 'Emission Class', '\\nComfort & Convenience\\n',\n",
       "       '\\nEntertainment & Media\\n', '\\nExtras\\n', '\\nSafety & Security\\n',\n",
       "       'description', 'Emission Label', 'Gears', 'Country version',\n",
       "       'Electricity consumption', 'Last Service Date', 'Other Fuel Types',\n",
       "       'Availability', 'Last Timing Belt Service Date', 'Available from'],\n",
       "      dtype='object')"
      ]
     },
     "execution_count": 3,
     "metadata": {},
     "output_type": "execute_result"
    }
   ],
   "source": [
    "scout_car.columns"
   ]
  },
  {
   "cell_type": "markdown",
   "id": "d944f799-d131-4e32-b4e5-4c5c83f0724f",
   "metadata": {},
   "source": [
    "# Formatting"
   ]
  },
  {
   "cell_type": "markdown",
   "id": "ae8c17f8-28c6-4788-af8c-78be190baf82",
   "metadata": {},
   "source": [
    "Convert all lists within columns to strings for processing. Delete columns with 90% or greater nulls values."
   ]
  },
  {
   "cell_type": "code",
   "execution_count": 4,
   "id": "fe06ff16-f356-4f29-a444-b767b80ae95c",
   "metadata": {},
   "outputs": [],
   "source": [
    "scout_car = scout_car.loc[:, scout_car.isnull().mean() <= 0.90]\n",
    "scout_car = scout_car.map(lambda x: str(x) if isinstance(x, list) else x)"
   ]
  },
  {
   "cell_type": "markdown",
   "id": "e4734cea-fb6b-47d0-b279-7df7ab2e6c07",
   "metadata": {},
   "source": [
    "Now we will go through the columns in order."
   ]
  },
  {
   "cell_type": "markdown",
   "id": "8fe59d1f-beb0-4a6e-af47-cc454bf2f956",
   "metadata": {},
   "source": [
    "# Cleaning"
   ]
  },
  {
   "cell_type": "markdown",
   "id": "4ca3d9ea-1d5a-4339-a1d9-d332e178aa04",
   "metadata": {},
   "source": [
    "These columns have nothing wrong with them, but I will rename them for aesthetic purposes."
   ]
  },
  {
   "cell_type": "code",
   "execution_count": 5,
   "id": "2467a4ef-f659-47ed-a7b5-416d46dd629e",
   "metadata": {},
   "outputs": [],
   "source": [
    "scout_car.rename(columns={'url': 'URL'}, inplace=True)\n",
    "scout_car.rename(columns={'short_description': 'Short Description'}, inplace=True)\n",
    "scout_car.rename(columns={'body_type': 'Body Type'}, inplace=True)\n",
    "scout_car.rename(columns={'price': 'Price'}, inplace=True)\n",
    "scout_car.rename(columns={'vat': 'VAT'}, inplace=True)\n",
    "#scout_car.rename(columns={'km': 'KM'}, inplace=True)\n",
    "#scout_car.rename(columns={'hp': 'Horsepower'}, inplace=True)"
   ]
  },
  {
   "cell_type": "markdown",
   "id": "161a33de-c2f9-4bb7-a342-2b7d029ab962",
   "metadata": {},
   "source": [
    "'km' is a string. It needs to be converted to an integer by stripping out the 'km'"
   ]
  },
  {
   "cell_type": "code",
   "execution_count": 6,
   "id": "676e1a96-73cf-4b59-be0e-9039b19f52c9",
   "metadata": {},
   "outputs": [],
   "source": [
    "def extract_km(entry):\n",
    "    if not isinstance(entry, str):\n",
    "        return pd.NA\n",
    "    match = re.search(r'([\\d,]+)', entry)\n",
    "    if match:\n",
    "        # Remove commas and convert to int\n",
    "        return int(match.group(1).replace(',', ''))\n",
    "    return pd.NA\n",
    "\n",
    "scout_car['km'] = scout_car['km'].apply(extract_km).astype('Int64')\n",
    "scout_car.rename(columns={'km': 'KM'}, inplace=True)"
   ]
  },
  {
   "cell_type": "code",
   "execution_count": null,
   "id": "5debec0c-01e0-42ff-a189-76a8faeaa55e",
   "metadata": {},
   "outputs": [],
   "source": []
  },
  {
   "cell_type": "markdown",
   "id": "5b8a6b8e-0e57-4370-88f3-4821f87685b5",
   "metadata": {},
   "source": [
    "'hp' (Horsepower) is a string. It needs to be converted to an integer by stripping out the 'kW'"
   ]
  },
  {
   "cell_type": "code",
   "execution_count": 7,
   "id": "b309f2b2-8815-4316-a88d-e9ac0df5889c",
   "metadata": {},
   "outputs": [],
   "source": [
    "import re\n",
    "import pandas as pd\n",
    "\n",
    "def extract_kw(entry):\n",
    "    if not isinstance(entry, str):\n",
    "        return pd.NA\n",
    "    match = re.search(r'(\\d+)', entry)\n",
    "    if match:\n",
    "        return int(match.group(1))\n",
    "    return pd.NA\n",
    "\n",
    "scout_car['hp'] = scout_car['hp'].apply(extract_kw)\n",
    "scout_car.rename(columns={'hp': 'Horsepower (kW)'}, inplace=True)\n",
    "# Was going to convert to INT here, but wouldn't work because of null values.\n",
    "# I'll deal with that in the next notebook."
   ]
  },
  {
   "cell_type": "code",
   "execution_count": null,
   "id": "62ae3ccb-8a02-4bb2-8683-86a44d565bf8",
   "metadata": {},
   "outputs": [],
   "source": []
  },
  {
   "cell_type": "markdown",
   "id": "7583c3a9-7807-4424-a599-b782841cd149",
   "metadata": {},
   "source": [
    "\"registration\" has no data integrity issues, but its formatting will be problematic for numeric processing.\n",
    "\n",
    "(HOLDING OFF ON THIS STEP UNTIL THE NEXT NOTEBOOK)\n",
    "I will change the formatting from \"01/2016\" to \"201601\" so that higher numbers correspond to newer dates.\n"
   ]
  },
  {
   "cell_type": "raw",
   "id": "5f5854c0-b16d-46a7-896d-61236a9b1563",
   "metadata": {},
   "source": [
    "# Convert to datetime\n",
    "scout_car['registration'] = pd.to_datetime(\n",
    "    scout_car['registration'],\n",
    "    format='%m/%Y',\n",
    "    errors='coerce'\n",
    ")\n",
    "\n",
    "# Convert to YYYYMM format\n",
    "scout_car['registration'] = scout_car['registration'].dt.strftime('%Y%m')\n",
    "\n",
    "# Convert to INT\n",
    "scout_car['registration'] = pd.to_numeric(scout_car['registration'], errors='coerce').astype('Int64')\n",
    "\n",
    "# Rename column\n",
    "scout_car.rename(columns={'registration': 'Registration (YYYYMM)'}, inplace=True)"
   ]
  },
  {
   "cell_type": "code",
   "execution_count": 8,
   "id": "3d7d2287-dcd1-40f2-88d3-a43fa5b97699",
   "metadata": {},
   "outputs": [
    {
     "name": "stderr",
     "output_type": "stream",
     "text": [
      "/var/folders/cf/4zrkk0lx1nbdx9tpklpk4jc00000gn/T/ipykernel_17137/3855305649.py:1: FutureWarning: A value is trying to be set on a copy of a DataFrame or Series through chained assignment using an inplace method.\n",
      "The behavior will change in pandas 3.0. This inplace method will never work because the intermediate object on which we are setting values always behaves as a copy.\n",
      "\n",
      "For example, when doing 'df[col].method(value, inplace=True)', try using 'df.method({col: value}, inplace=True)' or df[col] = df[col].method(value) instead, to perform the operation inplace on the original object.\n",
      "\n",
      "\n",
      "  scout_car['registration'].replace('-/-', np.nan, inplace=True)\n"
     ]
    }
   ],
   "source": [
    "scout_car['registration'].replace('-/-', np.nan, inplace=True)"
   ]
  },
  {
   "cell_type": "markdown",
   "id": "d9199234-5f11-45b1-a2d2-03c8a413568c",
   "metadata": {},
   "source": [
    "\"prev_owner\" contains entirely redunant data with \"Previous Owners\" so it can be dropped."
   ]
  },
  {
   "cell_type": "code",
   "execution_count": 9,
   "id": "575db2be-0746-45cc-92e5-d4a4299e4f0b",
   "metadata": {},
   "outputs": [],
   "source": [
    "scout_car.drop('prev_owner', axis=1, inplace=True)"
   ]
  },
  {
   "cell_type": "markdown",
   "id": "7d6d8cb6-2919-4b8b-b833-76bd39757f03",
   "metadata": {},
   "source": [
    "\"Type\" also contains redunant data from \"Fuel\", so we will parse out only the first string."
   ]
  },
  {
   "cell_type": "code",
   "execution_count": 10,
   "id": "239f300f-07d5-4a6a-9765-17fa633296dd",
   "metadata": {},
   "outputs": [],
   "source": [
    "def get_first_nonempty(entry):\n",
    "    # Skip NaN or non-string values\n",
    "    if not isinstance(entry, str):\n",
    "        return None\n",
    "    \n",
    "    # remove [ ] brackets if present\n",
    "    entry = entry.strip(\"[]\")\n",
    "    # split on commas\n",
    "    parts = [p.strip(\" '\\\"\") for p in entry.split(\",\")]\n",
    "    # take the first non-empty piece\n",
    "    for p in parts:\n",
    "        if p:\n",
    "            return p\n",
    "    return None\n",
    "\n",
    "scout_car['Type'] = scout_car['Type'].apply(get_first_nonempty)"
   ]
  },
  {
   "cell_type": "markdown",
   "id": "3e190be6-1657-456a-815c-1678040df5e6",
   "metadata": {},
   "source": [
    "\"Previous Owners\" is ready as-is."
   ]
  },
  {
   "cell_type": "markdown",
   "id": "3eca20f2-8304-44eb-9bea-275bb2639bff",
   "metadata": {},
   "source": [
    "\"Next Inspection\" also contains irrevelant data. We will parse out the relevant date and reformat it as we did with the registration date."
   ]
  },
  {
   "cell_type": "code",
   "execution_count": 11,
   "id": "708a7ccb-31aa-42a4-b421-283c3546e7d6",
   "metadata": {},
   "outputs": [],
   "source": [
    "# Extract date, convert to YYYYMM format, and rename column.\n",
    "import re\n",
    "import ast\n",
    "import pandas as pd\n",
    "\n",
    "# matches 1- or 2-digit month and 4-digit year, e.g. 7/2019 or 07/2019\n",
    "date_re = re.compile(r'\\b(0?[1-9]|1[0-2])/[0-9]{4}\\b')\n",
    "\n",
    "def extract_first_date(val):\n",
    "    # handle NaNs\n",
    "    if pd.isna(val):\n",
    "        return None\n",
    "\n",
    "    # If it's already a list/tuple, check each element for a date\n",
    "    if isinstance(val, (list, tuple)):\n",
    "        for item in val:\n",
    "            if not isinstance(item, str):\n",
    "                continue\n",
    "            m = date_re.search(item)\n",
    "            if m:\n",
    "                return m.group(0)\n",
    "            s = item.strip(\" []'\\\"\\n\\t\")\n",
    "            if s:\n",
    "                return s  # if no date but contains text, return the first text\n",
    "        return None\n",
    "\n",
    "    # If it's a string, try to find a date directly (works even if there are \\n)\n",
    "    if isinstance(val, str):\n",
    "        # try a quick regex search first (this handles \"['\\n07/2019\\n', ...]\" directly)\n",
    "        m = date_re.search(val)\n",
    "        if m:\n",
    "            return m.group(0)\n",
    "\n",
    "        # if no date, try to literal_eval (safe) in case it's a stringified list\n",
    "        try:\n",
    "            parsed = ast.literal_eval(val)\n",
    "            if isinstance(parsed, (list, tuple)):\n",
    "                for item in parsed:\n",
    "                    if isinstance(item, str):\n",
    "                        m = date_re.search(item)\n",
    "                        if m:\n",
    "                            return m.group(0)\n",
    "                        s = item.strip(\" []'\\\"\\n\\t\")\n",
    "                        if s:\n",
    "                            return s\n",
    "                return None\n",
    "        except Exception:\n",
    "            pass\n",
    "\n",
    "        # fallback: split on common separators and return first non-empty token\n",
    "        parts = re.split(r'[,\\|;]', val.strip(\"[]\"))\n",
    "        for p in parts:\n",
    "            p = p.strip(\" '\\\"\\n\\t\")\n",
    "            if p:\n",
    "                return p\n",
    "        return None\n",
    "\n",
    "    # other types -> no date\n",
    "    return None\n",
    "\n",
    "# Apply to DataFrame\n",
    "scout_car['Next Inspection'] = scout_car['Next Inspection'].apply(extract_first_date)\n",
    "\n",
    "# REFORMAT TO YYYYMM\n",
    "# Convert to datetime\n",
    "scout_car['Next Inspection'] = pd.to_datetime(\n",
    "    scout_car['Next Inspection'],\n",
    "    format='%m/%Y',\n",
    "    errors='coerce'\n",
    ")\n",
    "# Convert to YYYYMM format\n",
    "scout_car['Next Inspection'] = scout_car['Next Inspection'].dt.strftime('%Y%m')\n",
    "\n",
    "# Convert to String - This is only a temporary step due to special considerations for this column.\n",
    "# It will be changed back to Numeric in the next notebook.\n",
    "scout_car['Next Inspection'] = scout_car['Next Inspection'].astype(str)\n",
    "\n",
    "# Convert to INT - Will hold off on this until next notebook, because of special considerations for this column\n",
    "#scout_car['Next Inspection'] = pd.to_numeric(scout_car['Next Inspection'], errors='coerce').astype('Int64')\n",
    "\n",
    "# Remame column\n",
    "scout_car.rename(columns={'Next Inspection': 'Next Inspection (YYYYMM)'}, inplace=True)"
   ]
  },
  {
   "cell_type": "markdown",
   "id": "603a4bba-2bfd-4718-ab2d-8ce41d734ce4",
   "metadata": {},
   "source": [
    "\"Inspection new\" I am not sure exactly what \"Yes\" means in this context but I will keep it. We will have to extract the first string."
   ]
  },
  {
   "cell_type": "code",
   "execution_count": 12,
   "id": "4fa73cc2-c904-4dc4-92fc-1efa5f2f4748",
   "metadata": {
    "jupyter": {
     "source_hidden": true
    }
   },
   "outputs": [],
   "source": [
    "# Extract string\n",
    "import ast\n",
    "import pandas as pd\n",
    "\n",
    "def extract_first_clean_text(entry):\n",
    "    if not isinstance(entry, str):\n",
    "        return None\n",
    "    \n",
    "    try:\n",
    "        # Try to parse the string as a Python list\n",
    "        parsed = ast.literal_eval(entry)\n",
    "        if isinstance(parsed, (list, tuple)) and len(parsed) > 0:\n",
    "            first = parsed[0]\n",
    "            if isinstance(first, str):\n",
    "                return first.strip()\n",
    "            else:\n",
    "                return str(first).strip()\n",
    "    except (ValueError, SyntaxError):\n",
    "        # If parsing fails, fallback to manual splitting\n",
    "        entry = entry.strip(\"[]\")\n",
    "        parts = [p.strip(\" '\\\"\\n\\t\") for p in entry.split(\",\")]\n",
    "        for p in parts:\n",
    "            if p:\n",
    "                return p\n",
    "    return None\n",
    "\n",
    "scout_car['Inspection new'] = scout_car['Inspection new'].apply(extract_first_clean_text)"
   ]
  },
  {
   "cell_type": "markdown",
   "id": "969e9bcc-bd8b-4d8d-b060-4e46984df9c3",
   "metadata": {},
   "source": [
    "Warranty contains extraneous information. We will have to extract the warranty's length in months."
   ]
  },
  {
   "cell_type": "code",
   "execution_count": 13,
   "id": "22b1ab41-1ebf-450d-b32e-43edce662b6a",
   "metadata": {
    "jupyter": {
     "source_hidden": true
    }
   },
   "outputs": [],
   "source": [
    "# Extract number of months and rename column\n",
    "import ast\n",
    "import re\n",
    "import pandas as pd\n",
    "\n",
    "def extract_warranty_months(entry):\n",
    "    if not isinstance(entry, str):\n",
    "        return pd.NA\n",
    "    \n",
    "    try:\n",
    "        # Parse string to list\n",
    "        parsed = ast.literal_eval(entry)\n",
    "        if isinstance(parsed, (list, tuple)) and len(parsed) > 0:\n",
    "            first = parsed[0]\n",
    "            if isinstance(first, str):\n",
    "                # Find the first number in the string\n",
    "                match = re.search(r'\\d+', first)\n",
    "                if match:\n",
    "                    return int(match.group(0))\n",
    "    except (ValueError, SyntaxError):\n",
    "        pass\n",
    "    \n",
    "    return pd.NA\n",
    "\n",
    "scout_car['Warranty'] = scout_car['Warranty'].apply(extract_warranty_months)\n",
    "\n",
    "# Rename column to clarify that it is measuring months\n",
    "scout_car.rename(columns={'Warranty': 'Warranty (months)'}, inplace=True)"
   ]
  },
  {
   "cell_type": "markdown",
   "id": "b0f7ab72-4b3d-41de-ae3c-c2261f968859",
   "metadata": {},
   "source": [
    "\"Full service\" \"Non-smoking Vehicle\" and \"null\" seem to have no useful information, so we can drop them."
   ]
  },
  {
   "cell_type": "code",
   "execution_count": 14,
   "id": "34d3b0bf-f819-45b1-9e2d-b2eac4046649",
   "metadata": {},
   "outputs": [],
   "source": [
    "scout_car.drop('Full Service', axis=1, inplace=True)\n",
    "scout_car.drop('Non-smoking Vehicle', axis=1, inplace=True)\n",
    "scout_car.drop('null', axis=1, inplace=True)"
   ]
  },
  {
   "cell_type": "markdown",
   "id": "432aadf9-ee88-4a63-b9e3-16ac6223ebf9",
   "metadata": {},
   "source": [
    "\"Make\" and \"Model\" are redundant to \"make_model\" but it may be useful to hav eboth separate and combined strings. We will leave them for now."
   ]
  },
  {
   "cell_type": "markdown",
   "id": "5f616de1-2758-4eaf-b934-902059671ae7",
   "metadata": {},
   "source": [
    "Offer number will likely be useless in a machine learning context but I'll leave it for now anyway."
   ]
  },
  {
   "cell_type": "code",
   "execution_count": 15,
   "id": "f17f8ebb-9909-419d-8e8e-bd2b285f3a2c",
   "metadata": {
    "jupyter": {
     "source_hidden": true
    }
   },
   "outputs": [],
   "source": [
    "import ast\n",
    "import pandas as pd\n",
    "\n",
    "def clean_offer_number(entry):\n",
    "    if not isinstance(entry, str):\n",
    "        return pd.NA\n",
    "    try:\n",
    "        parsed = ast.literal_eval(entry)\n",
    "        if isinstance(parsed, (list, tuple)) and len(parsed) > 0:\n",
    "            first = parsed[0]\n",
    "            if isinstance(first, str):\n",
    "                return first.strip()\n",
    "    except (ValueError, SyntaxError):\n",
    "        # fallback: just strip brackets and whitespace if parse fails\n",
    "        return entry.strip(\"[] '\\\"\\n\\t\")\n",
    "    return pd.NA\n",
    "\n",
    "scout_car['Offer Number'] = scout_car['Offer Number'].apply(clean_offer_number)"
   ]
  },
  {
   "cell_type": "markdown",
   "id": "5d321f6b-52cc-4e00-b3ff-abe6e0bc0ac1",
   "metadata": {},
   "source": [
    "'First Registration' contains extraneous information along with a year."
   ]
  },
  {
   "cell_type": "code",
   "execution_count": 16,
   "id": "b1356f57-93bf-4a5e-82a8-203d7b34193f",
   "metadata": {},
   "outputs": [],
   "source": [
    "import ast\n",
    "import pandas as pd\n",
    "\n",
    "def extract_first_nonempty_str(entry):\n",
    "    if not isinstance(entry, str):\n",
    "        return pd.NA\n",
    "    try:\n",
    "        parsed = ast.literal_eval(entry)\n",
    "        if isinstance(parsed, (list, tuple)):\n",
    "            for item in parsed:\n",
    "                if isinstance(item, str):\n",
    "                    cleaned = item.strip()\n",
    "                    if cleaned:\n",
    "                        return cleaned\n",
    "        return pd.NA\n",
    "    except (ValueError, SyntaxError):\n",
    "        # fallback if not parseable\n",
    "        entry = entry.strip(\"[] '\\\"\\n\\t\")\n",
    "        return entry if entry else pd.NA\n",
    "\n",
    "scout_car['First Registration'] = scout_car['First Registration'].apply(extract_first_nonempty_str)"
   ]
  },
  {
   "cell_type": "markdown",
   "id": "d0980bbb-a1e0-457f-96b8-6d3338d25071",
   "metadata": {},
   "source": [
    "'Body color' can be cleaned the exact same way."
   ]
  },
  {
   "cell_type": "code",
   "execution_count": 17,
   "id": "3743fc22-aed3-471f-9d23-41121eaae5d4",
   "metadata": {},
   "outputs": [],
   "source": [
    "scout_car['Body Color'] = scout_car['Body Color'].apply(extract_first_nonempty_str)"
   ]
  },
  {
   "cell_type": "markdown",
   "id": "ccedcbc2-3b56-48fc-9fd6-79c4aa2bd360",
   "metadata": {},
   "source": [
    "'Paint Type' and 'Body Color Original' are also simple. We can re-use a function from earlier."
   ]
  },
  {
   "cell_type": "code",
   "execution_count": 18,
   "id": "3fd64489-09c9-4563-a9d2-5810998c2348",
   "metadata": {},
   "outputs": [],
   "source": [
    "scout_car['Paint Type'] = scout_car['Paint Type'].apply(clean_offer_number)\n",
    "scout_car['Body Color Original'] = scout_car['Body Color Original'].apply(clean_offer_number)"
   ]
  },
  {
   "cell_type": "markdown",
   "id": "a8f3e8e2-15f3-406b-9a60-c7bd0b472685",
   "metadata": {},
   "source": [
    "'Upholstery' presents a unique challenge. Each entry contains both a material and a color. We should split this column into separate columns for each."
   ]
  },
  {
   "cell_type": "code",
   "execution_count": 19,
   "id": "6df128ac-117f-4245-8b2f-286cec0a7fe2",
   "metadata": {},
   "outputs": [],
   "source": [
    "scout_car['Upholstery_clean'] = (\n",
    "    scout_car['Upholstery']\n",
    "    .str.strip()\n",
    "    .str.strip(\"[]\")\n",
    "    .str.replace(r\"\\\\n\", \"\", regex=True)\n",
    "    .str.strip(\"'\")   # Remove single quotes here\n",
    ")\n",
    "\n",
    "scout_car[['Upholstery Material', 'Upholstery Color']] = scout_car['Upholstery_clean'].str.split(',', n=1, expand=True)\n",
    "\n",
    "scout_car['Upholstery Material'] = scout_car['Upholstery Material'].str.strip().str.strip(\"'\")\n",
    "scout_car['Upholstery Color'] = scout_car['Upholstery Color'].str.strip().str.strip(\"'\")\n",
    "\n",
    "scout_car.drop('Upholstery', axis=1, inplace=True)\n",
    "scout_car.drop('Upholstery_clean', axis=1, inplace=True)"
   ]
  },
  {
   "cell_type": "markdown",
   "id": "717cea76-b66b-40e3-9aa9-be07639b13c8",
   "metadata": {},
   "source": [
    "'Body' contains the same information as 'Body Type', so we can drop it."
   ]
  },
  {
   "cell_type": "code",
   "execution_count": 20,
   "id": "56e819d0-947f-4ac7-af8b-11436a427a54",
   "metadata": {},
   "outputs": [],
   "source": [
    "scout_car.drop('Body', axis=1, inplace=True)"
   ]
  },
  {
   "cell_type": "markdown",
   "id": "c7ab843e-1f8f-4f66-ad2e-8051101c5772",
   "metadata": {},
   "source": [
    "'Nr. of Doors' and 'Nr. of Seats' contain numbers that can be extracted relatively easily. We wlil also rename the columns to include # symbols for appearance sake."
   ]
  },
  {
   "cell_type": "code",
   "execution_count": 21,
   "id": "973a3e8d-9313-4ea9-a2b9-2aaff159c798",
   "metadata": {},
   "outputs": [],
   "source": [
    "# Extract numbers and rename columns\n",
    "import ast\n",
    "import pandas as pd\n",
    "\n",
    "def extract_num(entry):\n",
    "    if not isinstance(entry, str):\n",
    "        return pd.NA\n",
    "    try:\n",
    "        parsed = ast.literal_eval(entry)\n",
    "        if isinstance(parsed, (list, tuple)) and len(parsed) > 0:\n",
    "            first = parsed[0]\n",
    "            if isinstance(first, str):\n",
    "                cleaned = first.strip()\n",
    "                if cleaned.isdigit():\n",
    "                    return int(cleaned)\n",
    "                else:\n",
    "                    return pd.NA\n",
    "    except (ValueError, SyntaxError):\n",
    "        pass\n",
    "    return pd.NA\n",
    "\n",
    "scout_car['Nr. of Doors'] = scout_car['Nr. of Doors'].apply(extract_num)\n",
    "scout_car.rename(columns={'Nr. of Doors': '# of Doors'}, inplace=True)\n",
    "scout_car['Nr. of Seats'] = scout_car['Nr. of Seats'].apply(extract_num)\n",
    "scout_car.rename(columns={'Nr. of Seats': '# of Seats'}, inplace=True)"
   ]
  },
  {
   "cell_type": "markdown",
   "id": "0c7f7b7f-1741-4542-95a6-6b122dd27e15",
   "metadata": {},
   "source": [
    "'Model Code' can be extracted by re-using an old function."
   ]
  },
  {
   "cell_type": "code",
   "execution_count": 22,
   "id": "22dc9891-864b-4255-887c-481624c74c6e",
   "metadata": {},
   "outputs": [],
   "source": [
    "scout_car['Model Code'] = scout_car['Model Code'].apply(clean_offer_number)"
   ]
  },
  {
   "cell_type": "markdown",
   "id": "aa821664-c100-4eb0-b54b-7f4647f3049a",
   "metadata": {},
   "source": [
    "'Gearing type' will also be easy."
   ]
  },
  {
   "cell_type": "code",
   "execution_count": 23,
   "id": "ed396113-0918-4736-96f7-cb516cbf25cc",
   "metadata": {},
   "outputs": [],
   "source": [
    "scout_car['Gearing Type'] = scout_car['Gearing Type'].apply(extract_first_nonempty_str)"
   ]
  },
  {
   "cell_type": "markdown",
   "id": "fd90cce4-161a-43d4-abd7-66848592f1a0",
   "metadata": {},
   "source": [
    "With 'Displacement' we will have to be a bit careful. This column renders numbers with a comma. First we will have to extract the number then convert it to numeric."
   ]
  },
  {
   "cell_type": "code",
   "execution_count": 24,
   "id": "0dba97b5-22f8-4794-9d17-f7308c7774b6",
   "metadata": {},
   "outputs": [],
   "source": [
    "import ast\n",
    "import re\n",
    "import pandas as pd\n",
    "\n",
    "def extract_displacement(entry):\n",
    "    if not isinstance(entry, str):\n",
    "        return pd.NA\n",
    "    try:\n",
    "        parsed = ast.literal_eval(entry)\n",
    "        if isinstance(parsed, (list, tuple)) and len(parsed) > 0:\n",
    "            first = parsed[0]\n",
    "            if isinstance(first, str):\n",
    "                # Remove commas and extract digits\n",
    "                digits_only = re.sub(r'[^\\d]', '', first)\n",
    "                if digits_only.isdigit():\n",
    "                    return int(digits_only)\n",
    "    except (ValueError, SyntaxError):\n",
    "        pass\n",
    "    return pd.NA\n",
    "\n",
    "scout_car['Displacement'] = scout_car['Displacement'].apply(extract_displacement)\n",
    "scout_car.rename(columns={'Displacement': 'Displacement (cc)'}, inplace=True)"
   ]
  },
  {
   "cell_type": "markdown",
   "id": "3a27939b-ad06-4880-8b34-de328215824b",
   "metadata": {},
   "source": [
    "'Cylinders' is easier."
   ]
  },
  {
   "cell_type": "code",
   "execution_count": 25,
   "id": "246bff8e-7a8a-42ff-b784-67e203a3dc18",
   "metadata": {},
   "outputs": [],
   "source": [
    "scout_car['Cylinders'] = scout_car['Cylinders'].apply(extract_num)"
   ]
  },
  {
   "cell_type": "markdown",
   "id": "0750e837-fd48-47a1-a831-a9ab576ddeb2",
   "metadata": {},
   "source": [
    "'Weight' goes back to the comma extract problem."
   ]
  },
  {
   "cell_type": "code",
   "execution_count": 26,
   "id": "73dcc509-6dd7-4d7f-b9a4-996a373fc4ac",
   "metadata": {},
   "outputs": [],
   "source": [
    "scout_car['Weight'] = scout_car['Weight'].apply(extract_displacement)\n",
    "scout_car.rename(columns={'Weight': 'Weight (kg)'}, inplace=True)"
   ]
  },
  {
   "cell_type": "markdown",
   "id": "c417ad82-1b4b-475d-952c-76176b4bae83",
   "metadata": {},
   "source": [
    "'Drive chain' and 'Fuel' can re-use an old function."
   ]
  },
  {
   "cell_type": "code",
   "execution_count": 27,
   "id": "a1da1b9f-a07c-42ac-9a74-0c2da9199f7a",
   "metadata": {},
   "outputs": [],
   "source": [
    "scout_car['Drive chain'] = scout_car['Drive chain'].apply(extract_first_nonempty_str)\n",
    "scout_car['Fuel'] = scout_car['Fuel'].apply(extract_first_nonempty_str)"
   ]
  },
  {
   "cell_type": "code",
   "execution_count": null,
   "id": "77518b3f-848b-45c6-b94e-188a74daba0e",
   "metadata": {},
   "outputs": [],
   "source": []
  },
  {
   "cell_type": "markdown",
   "id": "aa8bd697-c495-433f-86cc-8a7ab9ec27d9",
   "metadata": {},
   "source": [
    "'Consumption' requires special considerations. It lists fuel consumption rates for comb, city, and country, each having different values. We will split these into three columns."
   ]
  },
  {
   "cell_type": "code",
   "execution_count": 28,
   "id": "c6e8a939-9f6b-409c-b3ad-fbc3da8ef667",
   "metadata": {},
   "outputs": [],
   "source": [
    "# Split 'Consumption' into three appropriate categories\n",
    "import ast\n",
    "import re\n",
    "import pandas as pd\n",
    "\n",
    "def split_consumption(entry):\n",
    "    values = {\n",
    "        'Consumption (L /100 km) comb': pd.NA,\n",
    "        'Consumption (L /100 km) city': pd.NA,\n",
    "        'Consumption (L /100 km) country': pd.NA\n",
    "    }\n",
    "    \n",
    "    if not isinstance(entry, str):\n",
    "        return values\n",
    "    \n",
    "    try:\n",
    "        parsed = ast.literal_eval(entry)  # convert string to list\n",
    "    except (ValueError, SyntaxError):\n",
    "        return values\n",
    "    \n",
    "    if not isinstance(parsed, list):\n",
    "        return values\n",
    "    \n",
    "    for item in parsed:\n",
    "        if isinstance(item, list) and len(item) > 0 and isinstance(item[0], str):\n",
    "            text = item[0]\n",
    "            # Extract numeric part\n",
    "            num_match = re.search(r'([\\d.,]+)', text)\n",
    "            # Identify which type it is\n",
    "            if '(comb)' in text:\n",
    "                col = 'Consumption (L /100 km) comb'\n",
    "            elif '(city)' in text:\n",
    "                col = 'Consumption (L /100 km) city'\n",
    "            elif '(country)' in text:\n",
    "                col = 'Consumption (L /100 km) country'\n",
    "            else:\n",
    "                continue\n",
    "\n",
    "            if num_match:\n",
    "                value = float(num_match.group(1).replace(',', '.'))\n",
    "                values[col] = value\n",
    "    \n",
    "    return values\n",
    "\n",
    "# Apply function and expand into new columns\n",
    "consumption_split = scout_car['Consumption'].apply(split_consumption).apply(pd.Series)\n",
    "scout_car = pd.concat([scout_car, consumption_split], axis=1)\n",
    "\n",
    "# Drop original consumption column\n",
    "scout_car.drop('Consumption', axis=1, inplace=True)"
   ]
  },
  {
   "cell_type": "markdown",
   "id": "97cd6617-8a61-4876-9dea-ab1213ef25e0",
   "metadata": {},
   "source": [
    "CO2 Emission"
   ]
  },
  {
   "cell_type": "code",
   "execution_count": 29,
   "id": "cc7ca0d5-54a2-4db4-a24e-9bd5891cead1",
   "metadata": {},
   "outputs": [],
   "source": [
    "def extract_co2(entry):\n",
    "    if not isinstance(entry, str):\n",
    "        return pd.NA\n",
    "    try:\n",
    "        parsed = ast.literal_eval(entry)\n",
    "        if isinstance(parsed, (list, tuple)) and parsed:\n",
    "            first = parsed[0]\n",
    "            if isinstance(first, str):\n",
    "                match = re.search(r'(\\d+)', first)\n",
    "                if match:\n",
    "                    return int(match.group(1))\n",
    "    except (ValueError, SyntaxError):\n",
    "        pass\n",
    "    return pd.NA\n",
    "\n",
    "scout_car['CO2 Emission'] = scout_car['CO2 Emission'].apply(extract_co2)\n",
    "\n",
    "# Rename column for clarity\n",
    "scout_car.rename(columns={'CO2 Emission': 'CO2 Emission (g CO2/km (comb))'}, inplace=True)"
   ]
  },
  {
   "cell_type": "markdown",
   "id": "e0b44865-9289-4108-8638-d93aca113357",
   "metadata": {},
   "source": [
    "'Emission Class'"
   ]
  },
  {
   "cell_type": "code",
   "execution_count": 30,
   "id": "f1e0f367-b955-4c3a-afee-3d820bc3eed9",
   "metadata": {},
   "outputs": [],
   "source": [
    "scout_car['Emission Class'] = scout_car['Emission Class'].apply(extract_first_nonempty_str)"
   ]
  },
  {
   "cell_type": "markdown",
   "id": "9c007461-1fd4-47db-a054-3a8fb93e39ca",
   "metadata": {},
   "source": [
    "# Four columns with lists of features."
   ]
  },
  {
   "cell_type": "markdown",
   "id": "a169faea-eec6-44c5-9ebf-e5d7b640cd2f",
   "metadata": {},
   "source": [
    "“Comfort & Convenience”\n",
    "\n",
    "“Entertainment & Media”\n",
    "\n",
    "“Extras”\n",
    "\n",
    "“Safety & Security”"
   ]
  },
  {
   "cell_type": "markdown",
   "id": "cfa0bd20-ec90-43c3-a723-b661a5770a67",
   "metadata": {},
   "source": [
    "These column names contain hidden whitespace. We will have to strip them."
   ]
  },
  {
   "cell_type": "code",
   "execution_count": 31,
   "id": "0b54ec4c-4aa5-48d6-9c2d-85b7a2a5dd85",
   "metadata": {},
   "outputs": [
    {
     "data": {
      "text/plain": [
       "(15919, 45)"
      ]
     },
     "execution_count": 31,
     "metadata": {},
     "output_type": "execute_result"
    }
   ],
   "source": [
    "scout_car.shape"
   ]
  },
  {
   "cell_type": "code",
   "execution_count": 32,
   "id": "4deed1d2-5cd2-4686-bbab-91efe5a3dcf3",
   "metadata": {},
   "outputs": [],
   "source": [
    "scout_car.columns = scout_car.columns.str.strip()"
   ]
  },
  {
   "cell_type": "markdown",
   "id": "8d02bed1-cf10-4d77-b811-53d1fef9ef39",
   "metadata": {},
   "source": [
    "For each of these four columns, this function will:\n",
    "1. Scan through each row and compile a list of all unique features\n",
    "2. Turn each of these features into its own column, and populate with a binary indicated whether each car has that feature."
   ]
  },
  {
   "cell_type": "code",
   "execution_count": 33,
   "id": "166a2456-5b32-423e-9e2d-7614b0142a48",
   "metadata": {
    "jupyter": {
     "source_hidden": true
    }
   },
   "outputs": [],
   "source": [
    "# This function will scan all rows and compile new columns from the features\n",
    "import pandas as pd\n",
    "import ast\n",
    "\n",
    "# Step 0: Clean column names (strip whitespace/newlines)\n",
    "scout_car.columns = scout_car.columns.str.strip()\n",
    "\n",
    "# Reset index to clean RangeIndex to avoid join misalignment\n",
    "scout_car = scout_car.reset_index(drop=True)\n",
    "\n",
    "def expand_features(df, col_name):\n",
    "    def to_list(val):\n",
    "        if isinstance(val, str):\n",
    "            try:\n",
    "                return ast.literal_eval(val)\n",
    "            except:\n",
    "                return []\n",
    "        elif isinstance(val, list):\n",
    "            return val\n",
    "        else:\n",
    "            return []\n",
    "\n",
    "    df[col_name] = df[col_name].apply(to_list)\n",
    "    exploded = df[col_name].explode()\n",
    "    features_presence = pd.crosstab(exploded.index, exploded).astype(int)\n",
    "    return features_presence\n",
    "\n",
    "cols_to_expand = ['Comfort & Convenience', 'Entertainment & Media', 'Extras', 'Safety & Security']\n",
    "\n",
    "for col in cols_to_expand:\n",
    "    features_df = expand_features(scout_car, col)\n",
    "    scout_car = scout_car.join(features_df)\n",
    "    \n",
    "    # Fill NaNs with 0 after join\n",
    "    scout_car[features_df.columns] = scout_car[features_df.columns].fillna(0)\n",
    "    \n",
    "    # Convert to int dtype explicitly\n",
    "    scout_car[features_df.columns] = scout_car[features_df.columns].astype(int)\n",
    "\n",
    "# Now scout_car has binary 0/1 integer columns for all features, no suffixes, no decimals"
   ]
  },
  {
   "cell_type": "code",
   "execution_count": 34,
   "id": "a3bac549-a356-44f7-bb6f-4c9b7896f099",
   "metadata": {},
   "outputs": [
    {
     "data": {
      "text/plain": [
       "(15919, 139)"
      ]
     },
     "execution_count": 34,
     "metadata": {},
     "output_type": "execute_result"
    }
   ],
   "source": [
    "scout_car.shape"
   ]
  },
  {
   "cell_type": "markdown",
   "id": "93847752-9669-47ad-8d73-970cba8d3976",
   "metadata": {},
   "source": [
    "This added 96 new collumns."
   ]
  },
  {
   "cell_type": "markdown",
   "id": "0372ee7a-16b1-4271-882e-5af946354964",
   "metadata": {},
   "source": [
    "Now we can drop the original columns."
   ]
  },
  {
   "cell_type": "code",
   "execution_count": 35,
   "id": "a4a4696b-1e18-4beb-80c9-0a4c35911525",
   "metadata": {},
   "outputs": [],
   "source": [
    "scout_car.drop('Comfort & Convenience', axis=1, inplace=True)\n",
    "scout_car.drop('Entertainment & Media', axis=1, inplace=True)\n",
    "scout_car.drop('Extras', axis=1, inplace=True)\n",
    "scout_car.drop('Safety & Security', axis=1, inplace=True)"
   ]
  },
  {
   "cell_type": "code",
   "execution_count": null,
   "id": "bf81381d-690a-465a-900f-815ebf95e831",
   "metadata": {},
   "outputs": [],
   "source": []
  },
  {
   "cell_type": "code",
   "execution_count": null,
   "id": "a388ec04-c731-4c7b-aaab-cb61793289d4",
   "metadata": {},
   "outputs": [],
   "source": []
  },
  {
   "cell_type": "code",
   "execution_count": null,
   "id": "d296259e-e8cc-48fc-97e8-565a69e2cc94",
   "metadata": {},
   "outputs": [],
   "source": []
  },
  {
   "cell_type": "code",
   "execution_count": null,
   "id": "4fcc8298-6f02-47b8-ba47-59c7357e5b33",
   "metadata": {},
   "outputs": [],
   "source": []
  },
  {
   "cell_type": "markdown",
   "id": "a466b243-7f38-4d87-8ef7-f54d7740d873",
   "metadata": {},
   "source": [
    "# Save to CSV"
   ]
  },
  {
   "cell_type": "code",
   "execution_count": null,
   "id": "85989bd1-baa8-4663-b134-53db7a8bec7c",
   "metadata": {},
   "outputs": [],
   "source": []
  },
  {
   "cell_type": "code",
   "execution_count": 36,
   "id": "878bf3f9-5ae1-4ff3-ad37-33c844e97040",
   "metadata": {},
   "outputs": [],
   "source": [
    "scout_car.to_csv('Step 1 - Cleaned v1.csv', index=False)"
   ]
  },
  {
   "cell_type": "code",
   "execution_count": null,
   "id": "91fdaae0-f73d-48d6-acb0-1ca59556035c",
   "metadata": {},
   "outputs": [],
   "source": []
  },
  {
   "cell_type": "code",
   "execution_count": null,
   "id": "066c5dea-cac1-4aa0-af59-7233dd70d51b",
   "metadata": {},
   "outputs": [],
   "source": []
  },
  {
   "cell_type": "code",
   "execution_count": 42,
   "id": "6f19c2a9-410c-4ce2-96ff-cc07df70a4ae",
   "metadata": {},
   "outputs": [
    {
     "name": "stdout",
     "output_type": "stream",
     "text": [
      "object\n"
     ]
    }
   ],
   "source": [
    "print(scout_car['Next Inspection (YYYYMM)'].dtype)"
   ]
  },
  {
   "cell_type": "code",
   "execution_count": null,
   "id": "695fd918-ea58-405b-9e36-928f3fba1cc2",
   "metadata": {},
   "outputs": [],
   "source": []
  },
  {
   "cell_type": "code",
   "execution_count": 33,
   "id": "ba68ae53-9942-45f6-9934-76ad2a07e192",
   "metadata": {},
   "outputs": [],
   "source": [
    "#scout_car.to_csv('Validation csv 3.csv', index=False)"
   ]
  },
  {
   "cell_type": "code",
   "execution_count": null,
   "id": "5350cb9a-6e61-46cf-a549-7244b3e6a884",
   "metadata": {},
   "outputs": [],
   "source": []
  },
  {
   "cell_type": "code",
   "execution_count": 35,
   "id": "101a6e5c-dfce-4fe3-97af-799c7615912a",
   "metadata": {},
   "outputs": [],
   "source": [
    "#scout_car.to_csv('Final_Rough.csv', index=False)"
   ]
  },
  {
   "cell_type": "code",
   "execution_count": 37,
   "id": "d6677789-32f5-4e92-8af4-3ecb9de78b94",
   "metadata": {},
   "outputs": [
    {
     "data": {
      "text/html": [
       "<div>\n",
       "<style scoped>\n",
       "    .dataframe tbody tr th:only-of-type {\n",
       "        vertical-align: middle;\n",
       "    }\n",
       "\n",
       "    .dataframe tbody tr th {\n",
       "        vertical-align: top;\n",
       "    }\n",
       "\n",
       "    .dataframe thead th {\n",
       "        text-align: right;\n",
       "    }\n",
       "</style>\n",
       "<table border=\"1\" class=\"dataframe\">\n",
       "  <thead>\n",
       "    <tr style=\"text-align: right;\">\n",
       "      <th></th>\n",
       "      <th>registration</th>\n",
       "    </tr>\n",
       "  </thead>\n",
       "  <tbody>\n",
       "    <tr>\n",
       "      <th>0</th>\n",
       "      <td>01/2016</td>\n",
       "    </tr>\n",
       "    <tr>\n",
       "      <th>1</th>\n",
       "      <td>03/2017</td>\n",
       "    </tr>\n",
       "    <tr>\n",
       "      <th>2</th>\n",
       "      <td>02/2016</td>\n",
       "    </tr>\n",
       "    <tr>\n",
       "      <th>3</th>\n",
       "      <td>08/2016</td>\n",
       "    </tr>\n",
       "    <tr>\n",
       "      <th>4</th>\n",
       "      <td>05/2016</td>\n",
       "    </tr>\n",
       "    <tr>\n",
       "      <th>...</th>\n",
       "      <td>...</td>\n",
       "    </tr>\n",
       "    <tr>\n",
       "      <th>15914</th>\n",
       "      <td>-/-</td>\n",
       "    </tr>\n",
       "    <tr>\n",
       "      <th>15915</th>\n",
       "      <td>01/2019</td>\n",
       "    </tr>\n",
       "    <tr>\n",
       "      <th>15916</th>\n",
       "      <td>03/2019</td>\n",
       "    </tr>\n",
       "    <tr>\n",
       "      <th>15917</th>\n",
       "      <td>06/2019</td>\n",
       "    </tr>\n",
       "    <tr>\n",
       "      <th>15918</th>\n",
       "      <td>01/2019</td>\n",
       "    </tr>\n",
       "  </tbody>\n",
       "</table>\n",
       "<p>15919 rows × 1 columns</p>\n",
       "</div>"
      ],
      "text/plain": [
       "      registration\n",
       "0          01/2016\n",
       "1          03/2017\n",
       "2          02/2016\n",
       "3          08/2016\n",
       "4          05/2016\n",
       "...            ...\n",
       "15914          -/-\n",
       "15915      01/2019\n",
       "15916      03/2019\n",
       "15917      06/2019\n",
       "15918      01/2019\n",
       "\n",
       "[15919 rows x 1 columns]"
      ]
     },
     "execution_count": 37,
     "metadata": {},
     "output_type": "execute_result"
    }
   ],
   "source": [
    "scout_car[['registration']]"
   ]
  },
  {
   "cell_type": "code",
   "execution_count": 40,
   "id": "71d31161-657a-4bda-b7f0-fdb9bfe83a7a",
   "metadata": {},
   "outputs": [
    {
     "data": {
      "text/plain": [
       "registration\n",
       "-/-        1597\n",
       "03/2018     695\n",
       "02/2019     585\n",
       "05/2018     572\n",
       "03/2019     543\n",
       "01/2019     541\n",
       "04/2018     541\n",
       "02/2018     539\n",
       "03/2016     536\n",
       "04/2016     532\n",
       "06/2018     532\n",
       "01/2018     511\n",
       "04/2019     506\n",
       "02/2016     472\n",
       "03/2017     471\n",
       "05/2016     459\n",
       "06/2016     452\n",
       "05/2019     440\n",
       "06/2017     409\n",
       "05/2017     404\n",
       "07/2018     396\n",
       "04/2017     380\n",
       "01/2016     376\n",
       "02/2017     368\n",
       "01/2017     306\n",
       "08/2018     285\n",
       "06/2019     224\n",
       "07/2017     215\n",
       "11/2017     180\n",
       "07/2016     176\n",
       "10/2016     160\n",
       "10/2017     154\n",
       "09/2017     149\n",
       "11/2016     142\n",
       "09/2018     141\n",
       "09/2016     141\n",
       "12/2016     134\n",
       "12/2017     123\n",
       "08/2017     114\n",
       "11/2018     110\n",
       "12/2018     103\n",
       "10/2018      97\n",
       "08/2016      94\n",
       "07/2019       6\n",
       "09/2019       5\n",
       "08/2019       1\n",
       "11/2019       1\n",
       "12/2019       1\n",
       "Name: count, dtype: int64"
      ]
     },
     "execution_count": 40,
     "metadata": {},
     "output_type": "execute_result"
    }
   ],
   "source": [
    "scout_car['registration'].value_counts(dropna=False)"
   ]
  },
  {
   "cell_type": "code",
   "execution_count": null,
   "id": "6ca21e4d-42ba-4cce-8160-7ad614f0584e",
   "metadata": {},
   "outputs": [],
   "source": []
  }
 ],
 "metadata": {
  "kernelspec": {
   "display_name": "Python 3 (ipykernel)",
   "language": "python",
   "name": "python3"
  },
  "language_info": {
   "codemirror_mode": {
    "name": "ipython",
    "version": 3
   },
   "file_extension": ".py",
   "mimetype": "text/x-python",
   "name": "python",
   "nbconvert_exporter": "python",
   "pygments_lexer": "ipython3",
   "version": "3.12.4"
  }
 },
 "nbformat": 4,
 "nbformat_minor": 5
}
